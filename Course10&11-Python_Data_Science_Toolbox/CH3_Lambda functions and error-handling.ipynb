{
 "cells": [
  {
   "cell_type": "markdown",
   "metadata": {
    "cell_style": "center"
   },
   "source": [
    "# Lambda functions and error-handling"
   ]
  },
  {
   "cell_type": "markdown",
   "metadata": {
    "cell_style": "center",
    "toc": true
   },
   "source": [
    "<h1>Table of Contents<span class=\"tocSkip\"></span></h1>\n",
    "<div class=\"toc\"><ul class=\"toc-item\"><li><span><a href=\"#Lambda-functions\" data-toc-modified-id=\"Lambda-functions-1\"><span class=\"toc-item-num\">1&nbsp;&nbsp;</span>Lambda functions</a></span></li><li><span><a href=\"#Introduction-to-error-handling\" data-toc-modified-id=\"Introduction-to-error-handling-2\"><span class=\"toc-item-num\">2&nbsp;&nbsp;</span>Introduction to error handling</a></span></li><li><span><a href=\"#Exercises\" data-toc-modified-id=\"Exercises-3\"><span class=\"toc-item-num\">3&nbsp;&nbsp;</span>Exercises</a></span><ul class=\"toc-item\"><li><span><a href=\"#ex1\" data-toc-modified-id=\"ex1-3.1\"><span class=\"toc-item-num\">3.1&nbsp;&nbsp;</span>ex1</a></span></li><li><span><a href=\"#ex2\" data-toc-modified-id=\"ex2-3.2\"><span class=\"toc-item-num\">3.2&nbsp;&nbsp;</span>ex2</a></span></li></ul></li><li><span><a href=\"#Summary-of-CH1---CH3\" data-toc-modified-id=\"Summary-of-CH1---CH3-4\"><span class=\"toc-item-num\">4&nbsp;&nbsp;</span>Summary of CH1 - CH3</a></span></li></ul></div>"
   ]
  },
  {
   "cell_type": "markdown",
   "metadata": {},
   "source": [
    "## Lambda functions"
   ]
  },
  {
   "cell_type": "markdown",
   "metadata": {},
   "source": [
    "- Lambda functions allow you to define a function in a quick way\n",
    "    1. situation 1:\n",
    "        + define a function\n",
    "                func_name_u_def = (lambda v1, v2, ... : function body)\n",
    "                example = func_name_u_def(v1, v2, ...)\n",
    "    2. situation 2:\n",
    "        + define a function in another function which contains a function parameter\n",
    "                example = func_contain_func(lambda v1, v2, ... : function body, \n",
    "                v1_object, v2_object)"
   ]
  },
  {
   "cell_type": "code",
   "execution_count": 1,
   "metadata": {
    "code_folding": []
   },
   "outputs": [
    {
     "name": "stdout",
     "output_type": "stream",
     "text": [
      "heyheyheyheyhey\n"
     ]
    }
   ],
   "source": [
    "# Define echo_word as a lambda function: echo_word\n",
    "echo_word = (lambda word1, echo: word1 * echo)\n",
    "\n",
    "# Call echo_word: result\n",
    "result = echo_word('hey', 5)\n",
    "\n",
    "# Print result\n",
    "print(result)"
   ]
  },
  {
   "cell_type": "code",
   "execution_count": 2,
   "metadata": {},
   "outputs": [
    {
     "name": "stdout",
     "output_type": "stream",
     "text": [
      "<class 'map'>\n",
      "<map object at 0x111bc4bd0>\n",
      "['protego!!!', 'accio!!!', 'expecto patronum!!!', 'legilimens!!!']\n",
      "['protego!', 'accio?']\n"
     ]
    }
   ],
   "source": [
    "# help(map)\n",
    "# Create a list of strings: spells\n",
    "spells = [\"protego\", \"accio\", \"expecto patronum\", \"legilimens\"]\n",
    "marks = ['!', '?']\n",
    "\n",
    "# Use map() to apply a lambda function over spells: shout_spells\n",
    "shout_spells = map(lambda item: item + '!!!', spells)\n",
    "quation_shout_spells = map(lambda item, mark: item + mark, spells, marks)\n",
    "\n",
    "# Convert shout_spells to a list: shout_spells_list\n",
    "shout_spells_list = list(shout_spells)\n",
    "quation_shout_spells_list = list(quation_shout_spells)\n",
    "\n",
    "# Print the result\n",
    "print(type(shout_spells))\n",
    "print(shout_spells)\n",
    "print(shout_spells_list)\n",
    "print(quation_shout_spells_list)"
   ]
  },
  {
   "cell_type": "code",
   "execution_count": 3,
   "metadata": {},
   "outputs": [
    {
     "name": "stdout",
     "output_type": "stream",
     "text": [
      "['samwise', 'aragorn', 'boromir', 'legolas', 'gandalf']\n"
     ]
    }
   ],
   "source": [
    "# help(filter)\n",
    "# Create a list of strings: fellowship\n",
    "fellowship = ['frodo', 'samwise', 'merry', 'pippin', 'aragorn', 'boromir', 'legolas', 'gimli', 'gandalf']\n",
    "\n",
    "# Use filter() to apply a lambda function over fellowship: result\n",
    "result = filter(lambda member: len(member) > 6, fellowship)\n",
    "\n",
    "# Convert result to a list: result_list\n",
    "result_list = list(result)\n",
    "\n",
    "# Print result_list\n",
    "print(result_list)"
   ]
  },
  {
   "cell_type": "code",
   "execution_count": 4,
   "metadata": {},
   "outputs": [
    {
     "name": "stdout",
     "output_type": "stream",
     "text": [
      "robbsansaaryabrandonrickon\n"
     ]
    }
   ],
   "source": [
    "# Import reduce from functools\n",
    "from functools import reduce\n",
    "# help(reduce)\n",
    "# Create a list of strings: stark\n",
    "stark = ['robb', 'sansa', 'arya', 'brandon', 'rickon']\n",
    "\n",
    "# Use reduce() to apply a lambda function over stark: result\n",
    "result = reduce(lambda item1, item2: item1 + item2, stark)\n",
    "\n",
    "# Print the result\n",
    "print(result)"
   ]
  },
  {
   "cell_type": "markdown",
   "metadata": {},
   "source": [
    "## Introduction to error handling"
   ]
  },
  {
   "cell_type": "markdown",
   "metadata": {},
   "source": [
    "- Catching Exceptions in Python\n",
    "    - try-except - 幫助我們在 Exceptions 發生時執行相應的動作\n",
    "        - Runs the code following try\n",
    "        - If there’s an Exception, run the code following except\n",
    "                ex:\n",
    "                try:\n",
    "                    statement\n",
    "                except:\n",
    "                    statement\n",
    "        - 常見的 Exception:\n",
    "            - SyntaxError\n",
    "            - TypeError\n",
    "            - ValueError\n",
    "            - check help(locals()['__builtins__']) to see all built-in Exception\n",
    "        - Catching specific Exception:\n",
    "                except Exception:\n",
    "        - Catching specify mutiple exception:\n",
    "                except (Exception1, Exception2, ...):\n",
    "        - Catching all Exceptions\n",
    "                except:\n",
    "- Raise a Exception\n",
    "    - 與 except 在 Exception 發生後再執行不同的是，raise 可以強迫 Exception 發生\n",
    "            ex:\n",
    "            if x < 0:\n",
    "                raise ValueError(\"這裡讓你寫原因(optional)\")"
   ]
  },
  {
   "cell_type": "code",
   "execution_count": 5,
   "metadata": {
    "scrolled": true
   },
   "outputs": [
    {
     "name": "stdout",
     "output_type": "stream",
     "text": [
      "word1 must be a string and echo must be an integer.\n"
     ]
    },
    {
     "data": {
      "text/plain": [
       "''"
      ]
     },
     "execution_count": 5,
     "metadata": {},
     "output_type": "execute_result"
    }
   ],
   "source": [
    "\n",
    "# Define shout_echo\n",
    "def shout_echo(word1, echo=1):\n",
    "    \"\"\"Concatenate echo copies of word1 and three\n",
    "    exclamation marks at the end of the string.\"\"\"\n",
    "\n",
    "    # Initialize empty strings: echo_word, shout_words\n",
    "    echo_word = \"\"\n",
    "    shout_words = \"\"\n",
    "\n",
    "    # Add exception handling with try-except\n",
    "    try:\n",
    "        # Raise an error with raise\n",
    "        if echo <= 0 :\n",
    "            raise ValueError('echo must be greater than 0')\n",
    "            \n",
    "        # Concatenate echo copies of word1 using *: echo_word\n",
    "        echo_word = word1 * echo\n",
    "\n",
    "        # Concatenate '!!!' to echo_word: shout_words\n",
    "        shout_words = echo_word + '!!!'\n",
    "    except TypeError:\n",
    "        # Print error message\n",
    "        print(\"word1 must be a string and echo must be an integer.\")\n",
    "\n",
    "    # Return shout_words\n",
    "    return shout_words\n",
    "\n",
    "# Call shout_echo\n",
    "shout_echo(\"particle\", echo=\"accelerator\")\n",
    "#shout_echo(\"particle\", echo=-5)"
   ]
  },
  {
   "cell_type": "markdown",
   "metadata": {},
   "source": [
    "## Exercises"
   ]
  },
  {
   "cell_type": "markdown",
   "metadata": {},
   "source": [
    "### ex1\n",
    "- In the filter() call, pass a lambda function and the sequence of tweets as strings, tweets_df['text']. The lambda function should check if the first 2 characters in a tweet x are 'RT'. Assign the resulting filter object to result. To get the first 2 characters in a tweet x, use x[0:2]. To check equality, use a Boolean filter with ==.\n",
    "- Convert result to a list and print out the list."
   ]
  },
  {
   "cell_type": "code",
   "execution_count": 6,
   "metadata": {},
   "outputs": [
    {
     "name": "stdout",
     "output_type": "stream",
     "text": [
      "RT @bpolitics: .@krollbondrating's Christopher Whalen says Clinton is the weakest Dem candidate in 50 years https://t.co/pLk7rvoRSn https:/…\n",
      "RT @HeidiAlpine: @dmartosko Cruz video found.....racing from the scene.... #cruzsexscandal https://t.co/zuAPZfQDk3\n",
      "RT @AlanLohner: The anti-American D.C. elites despise Trump for his America-first foreign policy. Trump threatens their gravy train. https:…\n",
      "RT @BIackPplTweets: Young Donald trump meets his neighbor  https://t.co/RFlu17Z1eE\n",
      "RT @trumpresearch: @WaitingInBagdad @thehill Trump supporters have selective amnisia.\n",
      "RT @HouseCracka: 29,000+ PEOPLE WATCHING TRUMP LIVE ON ONE STREAM!!!\n",
      "\n",
      "https://t.co/7QCFz9ehNe\n",
      "RT @urfavandtrump: RT for Brendon Urie\n",
      "Fav for Donald Trump https://t.co/PZ5vS94lOg\n",
      "RT @trapgrampa: This is how I see #Trump every time he speaks. https://t.co/fYSiHNS0nT\n",
      "RT @trumpresearch: @WaitingInBagdad @thehill Trump supporters have selective amnisia.\n",
      "RT @Pjw20161951: NO KIDDING: #SleazyDonald just attacked Scott Walker for NOT RAISING TAXES in WI! #LyinTrump\n",
      "#NeverTrump  #CruzCrew  https…\n",
      "RT @urfavandtrump: RT for Brendon Urie\n",
      "Fav for Donald Trump https://t.co/PZ5vS94lOg\n",
      "RT @ggreenwald: The media spent all day claiming @SusanSarandon said she might vote for Trump. A total fabrication, but whatever... https:/…\n",
      "RT @Pjw20161951: NO KIDDING: #SleazyDonald just attacked Scott Walker for NOT RAISING TAXES in WI! #LyinTrump\n",
      "#NeverTrump  #CruzCrew  https…\n",
      "RT @trapgrampa: This is how I see #Trump every time he speaks. https://t.co/fYSiHNS0nT\n",
      "RT @mitchellvii: So let me get this straight.  Any reporter can assault Mr Trump at any time and Corey can do nothing?  Michelle is clearly…\n",
      "RT @paulbenedict7: How #Trump Sacks RINO Strongholds by Hitting Positions Held by Dems and GOP https://t.co/D7ulnAJhis   #tcot #PJNET https…\n",
      "RT @DRUDGE_REPORT: VIDEO:  Trump emotional moment with Former Miss Wisconsin who has terminal illness... https://t.co/qt06aG9inT\n",
      "RT @ggreenwald: The media spent all day claiming @SusanSarandon said she might vote for Trump. A total fabrication, but whatever... https:/…\n",
      "RT @DennisApgar: Thank God I seen Trump at first stop in Wisconsin media doesn't know how great he is, advice watch live streaming https://…\n",
      "RT @paulbenedict7: How #Trump Sacks RINO Strongholds by Hitting Positions Held by Dems and GOP https://t.co/D7ulnAJhis   #tcot #PJNET https…\n",
      "RT @DRUDGE_REPORT: VIDEO:  Trump emotional moment with Former Miss Wisconsin who has terminal illness... https://t.co/qt06aG9inT\n",
      "RT @DennisApgar: Thank God I seen Trump at first stop in Wisconsin media doesn't know how great he is, advice watch live streaming https://…\n",
      "RT @mitchellvii: So let me get this straight.  Any reporter can assault Mr Trump at any time and Corey can do nothing?  Michelle is clearly…\n",
      "RT @sciam: Trump's idiosyncratic patterns of speech are why people tend either to love or hate him https://t.co/QXwquVgs3c https://t.co/P9N…\n",
      "RT @Norsu2: Nightmare WI poll for Ted Cruz has Kasich surging: Trump 29, Kasich 27, Cruz 25. https://t.co/lJsgbLYY1P #NeverTrump\n",
      "RT @thehill: WATCH: Protester pepper-sprayed point blank at Trump rally https://t.co/B5f65Al9ld https://t.co/skAfByXuQc\n",
      "RT @sciam: Trump's idiosyncratic patterns of speech are why people tend either to love or hate him https://t.co/QXwquVgs3c https://t.co/P9N…\n",
      "RT @ggreenwald: The media spent all day claiming @SusanSarandon said she might vote for Trump. A total fabrication, but whatever... https:/…\n",
      "RT @DebbieStout5: Wow! Last I checked it was just 12 points &amp; that wasn't more than a day ago. Oh boy Trump ppl might want to rethink🤔 http…\n",
      "RT @tyleroakley: i'm a messy bitch, but at least i'm not voting for trump\n",
      "RT @vandives: Trump supporters r tired of justice NOT being served. There's no justice anymore. Hardworking Americans get screwed. That's n…\n",
      "RT @AP: BREAKING: Trump vows to stand by campaign manager charged with battery, says he does not discard people.\n",
      "RT @AP: BREAKING: Trump vows to stand by campaign manager charged with battery, says he does not discard people.\n",
      "RT @urfavandtrump: RT for Jerrie (Little Mix)\n",
      "Fav for Donald Trump https://t.co/nEVxElW6iG\n",
      "RT @urfavandtrump: RT for Jerrie (Little Mix)\n",
      "Fav for Donald Trump https://t.co/nEVxElW6iG\n",
      "RT @NoahCRothman: When Walker was fighting for reforms, Trump was defending unions and collective bargaining privileges https://t.co/e1UWNN…\n",
      "RT @RedheadAndRight: Report: Secret Service Says Michelle Fields Touched Trump https://t.co/c5c2sD8VO2\n",
      "\n",
      "This is the only article you will n…\n",
      "RT @AIIAmericanGirI: VIDEO=&gt; Anti-Trump Protester SLUGS Elderly Trump Supporter in the Face\n",
      "https://t.co/GeEryMDuDY\n",
      "RT @NoahCRothman: When Walker was fighting for reforms, Trump was defending unions and collective bargaining privileges https://t.co/e1UWNN…\n",
      "RT @JusticeRanger1: @realDonaldTrump @Pudingtane @DanScavino @GOP @infowars @EricTrump \n",
      "URGENT PUBLIC TRUMP ALERT:\n",
      "COVERT KILL MEANS https:…\n",
      "RT @AIIAmericanGirI: VIDEO=&gt; Anti-Trump Protester SLUGS Elderly Trump Supporter in the Face\n",
      "https://t.co/GeEryMDuDY\n",
      "RT @RedheadAndRight: Report: Secret Service Says Michelle Fields Touched Trump https://t.co/c5c2sD8VO2\n",
      "\n",
      "This is the only article you will n…\n",
      "RT @JusticeRanger1: @realDonaldTrump @Pudingtane @DanScavino @GOP @infowars @EricTrump \n",
      "URGENT PUBLIC TRUMP ALERT:\n",
      "COVERT KILL MEANS https:…\n",
      "RT @Schneider_CM: Trump says nobody had ever heard of executive orders before Obama started signing them. Never heard of the Emancipation P…\n",
      "RT @RonBasler1: @DavidWhitDennis @realDonaldTrump @tedcruz \n",
      "\n",
      "CRUZ SCREWS HOOKERS\n",
      "\n",
      "CRUZ / CLINTON\n",
      "RT @DonaldsAngel: Former Ms. WI just said that she is terminally ill but because of Trump pageant, her 7 yr. old son has his college educat…\n",
      "RT @Schneider_CM: Trump says nobody had ever heard of executive orders before Obama started signing them. Never heard of the Emancipation P…\n",
      "RT @DonaldsAngel: Former Ms. WI just said that she is terminally ill but because of Trump pageant, her 7 yr. old son has his college educat…\n",
      "RT @Dodarey: @DR8801 @SykesCharlie Charlie, let's see you get a straight \"yes\" or \"no\" answer from Cruz a/b being unfaithful to his wife @T…\n",
      "RT @RonBasler1: @DavidWhitDennis @realDonaldTrump @tedcruz \n",
      "\n",
      "CRUZ SCREWS HOOKERS\n",
      "\n",
      "CRUZ / CLINTON\n",
      "RT @RockCliffOne: Remember when the idea of a diabolical moron holding the world hostage was an idea for a funny movie? #Trump #GOP https:/…\n",
      "RT @HillaryClinton: \"Every day, another Republican bemoans the rise of Donald Trump... but [he] didn’t come out of nowhere.\" —Hillary\n",
      "https…\n",
      "RT @Dodarey: @DR8801 @SykesCharlie Charlie, let's see you get a straight \"yes\" or \"no\" answer from Cruz a/b being unfaithful to his wife @T…\n",
      "RT @HillaryClinton: \"Every day, another Republican bemoans the rise of Donald Trump... but [he] didn’t come out of nowhere.\" —Hillary\n",
      "https…\n",
      "RT @RockCliffOne: Remember when the idea of a diabolical moron holding the world hostage was an idea for a funny movie? #Trump #GOP https:/…\n",
      "RT @immigrant4trump: @immigrant4trump msm, cable news attacking trump all day, from 8am to 10pm today, then the reruns come on, repeating t…\n",
      "RT @immigrant4trump: @immigrant4trump msm, cable news attacking trump all day, from 8am to 10pm today, then the reruns come on, repeating t…\n",
      "RT @GlendaJazzey: Donald Trump’s Campaign Financing Dodge, @rrotunda https://t.co/L8flI4lswG via @VerdictJustia\n",
      "RT @TUSK81: LOUDER FOR THE PEOPLE IN THE BACK https://t.co/hlPVyNLXzx\n",
      "RT @loopzoop: Well...put it back https://t.co/8Yb7BDT5VM\n",
      "RT @claytoncubitt: Stop asking Bernie supporters if they’ll vote for Hillary against Trump. We got a plan to beat Trump already. Called Ber…\n",
      "RT @akaMaude13: Seriously can't make this up. What a joke. #NeverTrump  https://t.co/JkTx6mdRgC\n"
     ]
    }
   ],
   "source": [
    "import pandas as pd\n",
    "import matplotlib.pyplot as plt\n",
    "import numpy as np\n",
    "import jupyterthemes.jtplot as jtplot\n",
    "%matplotlib inline\n",
    "jtplot.style(theme='onedork')\n",
    "\n",
    "tweets_df = pd.read_csv('exercise/tweets.csv')\n",
    "\n",
    "\n",
    "# Select retweets from the Twitter DataFrame: result\n",
    "result = filter(lambda x: x[0:2] == \"RT\", tweets_df[\"text\"])\n",
    "\n",
    "# Create list from filter object result: res_list\n",
    "res_list = list(result)\n",
    "\n",
    "# Print all retweets in res_list\n",
    "for tweet in res_list:\n",
    "    print(tweet)"
   ]
  },
  {
   "cell_type": "markdown",
   "metadata": {},
   "source": [
    "### ex2"
   ]
  },
  {
   "cell_type": "code",
   "execution_count": 7,
   "metadata": {},
   "outputs": [
    {
     "name": "stdout",
     "output_type": "stream",
     "text": [
      "17\n",
      "r1 {'lang': {'en': 97, 'et': 1, 'und': 2}}\n",
      "r2 {'lang': {'en': 97, 'et': 1, 'und': 2}}\n",
      "The DataFrame does not have lang992 column.\n",
      "r3 None\n",
      "超出loc範圍\n",
      "r4 None\n",
      "無法藉由此類型存取Pandas_Dataframe\n",
      "r5 None\n",
      "r6 {'lang': {'en': 97, 'et': 1, 'und': 2}, 'possibly_sensitive': {False: 70, nan: 28, True: 2}}\n",
      "r7 {'lang': {'en': 97, 'et': 1, 'und': 2}, 'possibly_sensitive': {False: 70, nan: 28, True: 2}}\n"
     ]
    }
   ],
   "source": [
    "import pandas as pd\n",
    "import matplotlib.pyplot as plt\n",
    "import numpy as np\n",
    "import jupyterthemes.jtplot as jtplot\n",
    "%matplotlib inline\n",
    "jtplot.style(theme='onedork')\n",
    "\n",
    "tweets_df = pd.read_csv('exercise/tweets.csv')\n",
    "\n",
    "\n",
    "# Define count_entries()\n",
    "def count_entries(df, desired_col):\n",
    "    \"\"\"Return a dictionary with counts of\n",
    "    occurrences as value for each key.\"\"\"\n",
    "\n",
    "    # Initialize an empty dictionary: cols_count\n",
    "    cols_count = {}\n",
    "\n",
    "        # Add try block\n",
    "    try:\n",
    "        # if 輸入的是字串形式\n",
    "        if type(desired_col) == str:\n",
    "        # Extract column from DataFrame: col\n",
    "            col = df[[desired_col]]  # 因為後面要用iloc迭代每一行與每一行的內容（list）\n",
    "                                            # 所以要存成 DataFrame\n",
    "        # if 輸入的是int形式   \n",
    "        elif type(desired_col) == int:\n",
    "            col = df.iloc[:, [desired_col]] \n",
    "            \n",
    "        # if 輸入是list形式\n",
    "        elif type(desired_col) == list:\n",
    "            col = []\n",
    "            for i in desired_col:\n",
    "                if type(i) == int:\n",
    "                    col = df.iloc[:, desired_col]\n",
    "                    \n",
    "                elif type(i) == str:\n",
    "                    col = df.loc[:, desired_col]\n",
    "                    \n",
    "        '''#都不是的話\n",
    "        else: \n",
    "              raise TypeError(\"無法藉由此類型存取Pandas_Dataframe\")\n",
    "              # 可以在這裡用 raise 跳 error 出來打斷運行，\n",
    "              # 也可以在最後來個概括全部的except，因為想看多種不同的結果所以註解掉了\n",
    "              '''\n",
    "        # Iterate over the column name in dataframe\n",
    "        for col_name in col:\n",
    "            # 在字典中建立該 column 名稱的key, \n",
    "            cols_count[col_name] = {}\n",
    "            # Iterate over the column in dataframe\n",
    "            for entry in col.loc[:, col_name]:\n",
    "                # If entry is in cols_count, add 1\n",
    "                if entry in cols_count[col_name].keys():\n",
    "                    cols_count[col_name][entry] += 1\n",
    "        # Else add the entry to cols_count, set the value to 1\n",
    "                else:\n",
    "                    cols_count[col_name][entry] = 1\n",
    "\n",
    "        # Return the cols_count dictionary\n",
    "        return cols_count\n",
    "\n",
    "    # Add except block\n",
    "    except KeyError:\n",
    "        print('The DataFrame does not have ' + desired_col + ' column.')\n",
    "    except IndexError:\n",
    "        print(\"超出loc範圍\")\n",
    "    except:\n",
    "        print(\"無法藉由此類型存取Pandas_Dataframe\")\n",
    "    \n",
    "\n",
    "print(tweets_df.columns.get_loc('lang'))            \n",
    "# Call count_entries(): \n",
    "r1 = count_entries(tweets_df, 'lang')\n",
    "print(\"r1\", r1)\n",
    "r2 = count_entries(tweets_df, 17)\n",
    "print(\"r2\", r2)\n",
    "\n",
    "# error test:\n",
    "r3 = count_entries(tweets_df, \"lang992\")\n",
    "print(\"r3\", r3)\n",
    "r4 = count_entries(tweets_df, 100)\n",
    "print(\"r4\", r4)\n",
    "r5 = count_entries(tweets_df, True)\n",
    "print(\"r5\", r5)\n",
    "r6 = count_entries(tweets_df, [17, 19])\n",
    "print(\"r6\", r6)\n",
    "r7 = count_entries(tweets_df, ['lang', 'possibly_sensitive'])\n",
    "print(\"r7\", r7)"
   ]
  },
  {
   "cell_type": "code",
   "execution_count": 9,
   "metadata": {},
   "outputs": [
    {
     "name": "stdout",
     "output_type": "stream",
     "text": [
      "   lang  aaa  bbb\n",
      "0    en  NaN  NaN\n",
      "1    en  NaN  NaN\n",
      "2    et  NaN  NaN\n",
      "3    en  NaN  NaN\n",
      "4    en  NaN  NaN\n",
      "..  ...  ...  ...\n",
      "95   en  NaN  NaN\n",
      "96   en  NaN  NaN\n",
      "97   en  NaN  NaN\n",
      "98   en  NaN  NaN\n",
      "99   en  NaN  NaN\n",
      "\n",
      "[100 rows x 3 columns]\n",
      "使用“.loc”存取時，只要有一個對的loc就能夠使用 ，錯誤的loc該行的執會以 NaN 替代，當loc全錯時才會跳出KeyError\n"
     ]
    }
   ],
   "source": [
    "t1 = tweets_df.loc[:, ['lang', 'aaa', 'bbb']]\n",
    "print(t1)\n",
    "#t2 = tweets_df.loc[:, ['aaa', 'bbb']]\n",
    "#print(t2)\n",
    "print(\"使用“.loc”存取時，只要有一個對的loc就能夠使用\",\n",
    "      \"，錯誤的loc該行的執會以 NaN 替代，當loc全錯時才會跳出KeyError\")"
   ]
  },
  {
   "cell_type": "markdown",
   "metadata": {},
   "source": [
    "## Summary of CH1 - CH3"
   ]
  },
  {
   "cell_type": "markdown",
   "metadata": {},
   "source": [
    "- What you’ve learned:\n",
    "    - Write functions that accept single and multiple arguments \n",
    "    - Write functions that return one or many values\n",
    "    - Use default, flexible, and keyword arguments\n",
    "    - Global and local scope in functions\n",
    "    - Write lambda functions \n",
    "    - Handle errors\n",
    "- What's next:\n",
    "    - Create lists with list comprehensions\n",
    "    - Iterators - you’ve seen them before!\n",
    "    - Case studies to apply these techniques to Data Science"
   ]
  }
 ],
 "metadata": {
  "kernelspec": {
   "display_name": "Python [conda env:datacamp] *",
   "language": "python",
   "name": "conda-env-datacamp-py"
  },
  "language_info": {
   "codemirror_mode": {
    "name": "ipython",
    "version": 3
   },
   "file_extension": ".py",
   "mimetype": "text/x-python",
   "name": "python",
   "nbconvert_exporter": "python",
   "pygments_lexer": "ipython3",
   "version": "3.7.4"
  },
  "toc": {
   "base_numbering": 1,
   "nav_menu": {},
   "number_sections": true,
   "sideBar": false,
   "skip_h1_title": true,
   "title_cell": "Table of Contents",
   "title_sidebar": "Contents",
   "toc_cell": true,
   "toc_position": {
    "height": "152px",
    "left": "387px",
    "top": "164px",
    "width": "247px"
   },
   "toc_section_display": false,
   "toc_window_display": false
  },
  "varInspector": {
   "cols": {
    "lenName": 16,
    "lenType": 16,
    "lenVar": 40
   },
   "kernels_config": {
    "python": {
     "delete_cmd_postfix": "",
     "delete_cmd_prefix": "del ",
     "library": "var_list.py",
     "varRefreshCmd": "print(var_dic_list())"
    },
    "r": {
     "delete_cmd_postfix": ") ",
     "delete_cmd_prefix": "rm(",
     "library": "var_list.r",
     "varRefreshCmd": "cat(var_dic_list()) "
    }
   },
   "types_to_exclude": [
    "module",
    "function",
    "builtin_function_or_method",
    "instance",
    "_Feature"
   ],
   "window_display": false
  }
 },
 "nbformat": 4,
 "nbformat_minor": 2
}
