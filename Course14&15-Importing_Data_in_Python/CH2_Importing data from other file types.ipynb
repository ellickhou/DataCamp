{
 "cells": [
  {
   "cell_type": "markdown",
   "metadata": {},
   "source": [
    "# Importing data from other file types"
   ]
  },
  {
   "cell_type": "markdown",
   "metadata": {
    "toc": true
   },
   "source": [
    "<h1>Table of Contents<span class=\"tocSkip\"></span></h1>\n",
    "<div class=\"toc\"><ul class=\"toc-item\"><li><span><a href=\"#Introduction-to-other-file-types\" data-toc-modified-id=\"Introduction-to-other-file-types-1\"><span class=\"toc-item-num\">1&nbsp;&nbsp;</span>Introduction to other file types</a></span><ul class=\"toc-item\"><li><span><a href=\"#Not-so-flat-any-more\" data-toc-modified-id=\"Not-so-flat-any-more-1.1\"><span class=\"toc-item-num\">1.1&nbsp;&nbsp;</span>Not so flat any more</a></span></li><li><span><a href=\"#Creating-a-pickle-file\" data-toc-modified-id=\"Creating-a-pickle-file-1.2\"><span class=\"toc-item-num\">1.2&nbsp;&nbsp;</span>Creating a pickle file</a></span></li><li><span><a href=\"#Loading-a-pickled-file\" data-toc-modified-id=\"Loading-a-pickled-file-1.3\"><span class=\"toc-item-num\">1.3&nbsp;&nbsp;</span>Loading a pickled file</a></span></li><li><span><a href=\"#Listing-sheets-in-Excel-files\" data-toc-modified-id=\"Listing-sheets-in-Excel-files-1.4\"><span class=\"toc-item-num\">1.4&nbsp;&nbsp;</span>Listing sheets in Excel files</a></span></li><li><span><a href=\"#Importing-sheets-from-Excel-files\" data-toc-modified-id=\"Importing-sheets-from-Excel-files-1.5\"><span class=\"toc-item-num\">1.5&nbsp;&nbsp;</span>Importing sheets from Excel files</a></span></li><li><span><a href=\"#Customizing-your-spreadsheet-import\" data-toc-modified-id=\"Customizing-your-spreadsheet-import-1.6\"><span class=\"toc-item-num\">1.6&nbsp;&nbsp;</span>Customizing your spreadsheet import</a></span></li></ul></li><li><span><a href=\"#Importing-SAS/Stata-files-using-pandas\" data-toc-modified-id=\"Importing-SAS/Stata-files-using-pandas-2\"><span class=\"toc-item-num\">2&nbsp;&nbsp;</span>Importing SAS/Stata files using pandas</a></span><ul class=\"toc-item\"><li><span><a href=\"#Importing-SAS-files\" data-toc-modified-id=\"Importing-SAS-files-2.1\"><span class=\"toc-item-num\">2.1&nbsp;&nbsp;</span>Importing SAS files</a></span></li><li><span><a href=\"#Importing-Stata-files\" data-toc-modified-id=\"Importing-Stata-files-2.2\"><span class=\"toc-item-num\">2.2&nbsp;&nbsp;</span>Importing Stata files</a></span></li></ul></li><li><span><a href=\"#Importing-HDF5-files\" data-toc-modified-id=\"Importing-HDF5-files-3\"><span class=\"toc-item-num\">3&nbsp;&nbsp;</span>Importing HDF5 files</a></span><ul class=\"toc-item\"><li><span><a href=\"#Using-h5py-to-import-HDF5-files\" data-toc-modified-id=\"Using-h5py-to-import-HDF5-files-3.1\"><span class=\"toc-item-num\">3.1&nbsp;&nbsp;</span>Using h5py to import HDF5 files</a></span></li><li><span><a href=\"#Extracting-data-from-your-HDF5-file\" data-toc-modified-id=\"Extracting-data-from-your-HDF5-file-3.2\"><span class=\"toc-item-num\">3.2&nbsp;&nbsp;</span>Extracting data from your HDF5 file</a></span></li></ul></li><li><span><a href=\"#Importing-MATLAB-files\" data-toc-modified-id=\"Importing-MATLAB-files-4\"><span class=\"toc-item-num\">4&nbsp;&nbsp;</span>Importing MATLAB files</a></span><ul class=\"toc-item\"><li><span><a href=\"#Loading-.mat-files\" data-toc-modified-id=\"Loading-.mat-files-4.1\"><span class=\"toc-item-num\">4.1&nbsp;&nbsp;</span>Loading .mat files</a></span></li><li><span><a href=\"#The-structure-of-.mat-in-Python\" data-toc-modified-id=\"The-structure-of-.mat-in-Python-4.2\"><span class=\"toc-item-num\">4.2&nbsp;&nbsp;</span>The structure of .mat in Python</a></span></li></ul></li></ul></div>"
   ]
  },
  {
   "cell_type": "markdown",
   "metadata": {},
   "source": [
    "## Introduction to other file types"
   ]
  },
  {
   "cell_type": "markdown",
   "metadata": {},
   "source": [
    "- Other file types\n",
    "    - Excel spreadsheets \n",
    "    - MATLAB files\n",
    "    - SAS files\n",
    "    - Stata files\n",
    "    - HDF5 files\n",
    "        - More prevalent to store large datasets\n",
    "- Pickled files\n",
    "    - File type native to Python\n",
    "    - Motivation: many datatypes for which it isn’t obvious how to store them\n",
    "        - such as dictionary or list\n",
    "    - Pickled files are serialized\n",
    "    - Serialize = convert object to bytestream\n",
    "        - bytestream = sequence of bytes"
   ]
  },
  {
   "cell_type": "markdown",
   "metadata": {},
   "source": [
    "### Not so flat any more"
   ]
  },
  {
   "cell_type": "markdown",
   "metadata": {},
   "source": [
    "- to explore your current working directory\n",
    "        ! ls\n",
    "- do this natively in Python using the library os\n",
    "        import os\n",
    "        wd = os.getcwd()\n",
    "        os.listdir(wd)\n",
    "    - os consists of miscellaneous operating system interfaces."
   ]
  },
  {
   "cell_type": "code",
   "execution_count": 1,
   "metadata": {},
   "outputs": [
    {
     "name": "stdout",
     "output_type": "stream",
     "text": [
      "CH1_Introduction and flat files.ipynb\r\n",
      "CH2_Importing data from other file types.ipynb\r\n",
      "\u001b[34mexercise\u001b[m\u001b[m\r\n"
     ]
    },
    {
     "data": {
      "text/plain": [
       "['.DS_Store',\n",
       " 'CH2_Importing data from other file types.ipynb',\n",
       " 'exercise',\n",
       " '.ipynb_checkpoints',\n",
       " 'CH1_Introduction and flat files.ipynb']"
      ]
     },
     "execution_count": 1,
     "metadata": {},
     "output_type": "execute_result"
    }
   ],
   "source": [
    "!ls\n",
    "import os\n",
    "wd = os.getcwd()\n",
    "os.listdir(wd)\n"
   ]
  },
  {
   "cell_type": "markdown",
   "metadata": {},
   "source": [
    "### Creating a pickle file"
   ]
  },
  {
   "cell_type": "code",
   "execution_count": 2,
   "metadata": {},
   "outputs": [
    {
     "name": "stdout",
     "output_type": "stream",
     "text": [
      "True\n"
     ]
    }
   ],
   "source": [
    "import pickle\n",
    "\n",
    "data = {'June': '69.4', 'Aug': '85', 'Airline': '8', 'Mar': '84.4'}\n",
    "\n",
    "# Store data (serialize)\n",
    "with open('exercise/creat_a_pickle.pickle', 'wb') as file:\n",
    "    pickle.dump(data, file, protocol=pickle.HIGHEST_PROTOCOL)\n",
    "# The advantage of HIGHEST_PROTOCOL is that files get smaller.\n",
    "# This makes unpickling sometimes much faster.\n",
    "\n",
    "# Load data (deserialize)\n",
    "with open('exercise/creat_a_pickle.pickle', 'rb') as file:\n",
    "    unserialized_data = pickle.load(file)\n",
    "\n",
    "print(data == unserialized_data)"
   ]
  },
  {
   "cell_type": "markdown",
   "metadata": {},
   "source": [
    "### Loading a pickled file"
   ]
  },
  {
   "cell_type": "code",
   "execution_count": 3,
   "metadata": {},
   "outputs": [
    {
     "name": "stdout",
     "output_type": "stream",
     "text": [
      "{'June': '69.4', 'Aug': '85', 'Airline': '8', 'Mar': '84.4'}\n",
      "<class 'dict'>\n"
     ]
    }
   ],
   "source": [
    "# Import pickle package\n",
    "import pickle\n",
    "\n",
    "# Open pickle file and load data: d\n",
    "with open('exercise/creat_a_pickle.pickle', 'rb') as file:\n",
    "    d = pickle.load(file)\n",
    "\n",
    "# Print d\n",
    "print(d)\n",
    "\n",
    "# Print datatype of d\n",
    "print(type(d))"
   ]
  },
  {
   "cell_type": "markdown",
   "metadata": {},
   "source": [
    "### Listing sheets in Excel files\n",
    "- Install xlrd >= 1.0.0 for Excel support Use pip or conda to install xlrd."
   ]
  },
  {
   "cell_type": "code",
   "execution_count": 4,
   "metadata": {},
   "outputs": [
    {
     "name": "stdout",
     "output_type": "stream",
     "text": [
      "['2002', '2004']\n"
     ]
    }
   ],
   "source": [
    "# Import pandas\n",
    "import pandas as pd\n",
    "\n",
    "# Assign spreadsheet filename: file\n",
    "file = 'exercise/battledeath.xlsx'\n",
    "\n",
    "# Load spreadsheet: xl\n",
    "xls = pd.ExcelFile(file)\n",
    "\n",
    "# Print sheet names\n",
    "print(xls.sheet_names)"
   ]
  },
  {
   "cell_type": "markdown",
   "metadata": {},
   "source": [
    "### Importing sheets from Excel files"
   ]
  },
  {
   "cell_type": "code",
   "execution_count": 5,
   "metadata": {},
   "outputs": [
    {
     "name": "stdout",
     "output_type": "stream",
     "text": [
      "  War(country)      2004\n",
      "0  Afghanistan  9.451028\n",
      "1      Albania  0.130354\n",
      "  War, age-adjusted mortality due to       2002\n",
      "0                        Afghanistan  36.083990\n",
      "1                            Albania   0.128908\n"
     ]
    }
   ],
   "source": [
    "# Load a sheet into a DataFrame by name: df1\n",
    "df1 = xls.parse('2004')\n",
    "\n",
    "# Print the head of the DataFrame df1\n",
    "print(df1.head(2))\n",
    "\n",
    "# Load a sheet into a DataFrame by index: df2\n",
    "df2 = xls.parse(0)\n",
    "\n",
    "# Print the head of the DataFrame df2\n",
    "print(df2.head(2))"
   ]
  },
  {
   "cell_type": "markdown",
   "metadata": {},
   "source": [
    "### Customizing your spreadsheet import\n",
    "- Skip rows\n",
    "- Import certain columns\n",
    "- Change column names"
   ]
  },
  {
   "cell_type": "code",
   "execution_count": 6,
   "metadata": {},
   "outputs": [
    {
     "name": "stdout",
     "output_type": "stream",
     "text": [
      "               Country  AAM due to War (2002)\n",
      "0              Albania               0.128908\n",
      "1              Algeria              18.314120\n",
      "2              Andorra               0.000000\n",
      "3               Angola              18.964560\n",
      "4  Antigua and Barbuda               0.000000\n",
      "               Country\n",
      "0              Albania\n",
      "1              Algeria\n",
      "2              Andorra\n",
      "3               Angola\n",
      "4  Antigua and Barbuda\n"
     ]
    },
    {
     "name": "stderr",
     "output_type": "stream",
     "text": [
      "/Users/ellick/anaconda3/envs/datacamp/lib/python3.7/site-packages/pandas/io/excel/_base.py:445: FutureWarning: Passing in an integer for `usecols` has been deprecated. Please pass in a list of int from 0 to `usecols` inclusive instead.\n",
      "  usecols = _maybe_convert_usecols(usecols)\n"
     ]
    }
   ],
   "source": [
    "# Parse the first sheet and rename the columns: df1\n",
    "df1 = xls.parse(0, skiprows=[0], names=['Country', 'AAM due to War (2002)'])\n",
    "\n",
    "# Print the head of the DataFrame df1\n",
    "print(df1.head())\n",
    "\n",
    "# Parse the first column of the second sheet and rename the column: df2\n",
    "df2 = xls.parse(1, usecols=0, skiprows=[0], names=['Country'])\n",
    "\n",
    "# Print the head of the DataFrame df2\n",
    "print(df2.head())\n"
   ]
  },
  {
   "cell_type": "markdown",
   "metadata": {},
   "source": [
    "## Importing SAS/Stata files using pandas"
   ]
  },
  {
   "cell_type": "markdown",
   "metadata": {},
   "source": [
    "- SAS and Stata files\n",
    "    - SAS: Statistical Analysis System \n",
    "        - SAS: business analytics and biostatistics\n",
    "    - Stata: “Statistics” + “data”\n",
    "        - Stata: academic social sciences research\n",
    "- SAS files\n",
    "    - Standard for computational analysis\n",
    "    - Used for:\n",
    "        - Advanced analytics\n",
    "        - Multivariate analysis \n",
    "        - Business intelligence\n",
    "        - Data management \n",
    "        - Predictive analytics\n",
    "- Importing SAS files\n",
    "        In [1]: import pandas as pd\n",
    "        In [2]: from sas7bdat import SAS7BDAT\n",
    "        In [3]: with SAS7BDAT('urbanpop.sas7bdat') as file:\n",
    "                    df_sas = file.to_data_frame()\n",
    "- Importing Stata files\n",
    "        In [1]: import pandas as pd\n",
    "        In [2]: data = pd.read_stata('urbanpop.dta')"
   ]
  },
  {
   "cell_type": "markdown",
   "metadata": {},
   "source": [
    "### Importing SAS files\n",
    "- pip intall sas7bdat"
   ]
  },
  {
   "cell_type": "code",
   "execution_count": 7,
   "metadata": {},
   "outputs": [],
   "source": [
    "import numpy as np\n",
    "import pandas as pd\n",
    "import matplotlib.pyplot as plt\n",
    "import jupyterthemes.jtplot as jtplot\n",
    "%matplotlib inline\n",
    "jtplot.style(theme='onedork')"
   ]
  },
  {
   "cell_type": "code",
   "execution_count": 8,
   "metadata": {},
   "outputs": [
    {
     "name": "stdout",
     "output_type": "stream",
     "text": [
      "     YEAR     P           S\n",
      "0  1950.0  12.9  181.899994\n",
      "1  1951.0  11.9  245.000000\n",
      "2  1952.0  10.7  250.199997\n",
      "3  1953.0  11.3  265.899994\n",
      "4  1954.0  11.2  248.500000\n"
     ]
    },
    {
     "data": {
      "image/png": "[encoded data removed]",
      "text/plain": [
       "<Figure size 432x288 with 1 Axes>"
      ]
     },
     "metadata": {
      "needs_background": "dark"
     },
     "output_type": "display_data"
    }
   ],
   "source": [
    "# Import sas7bdat package\n",
    "from sas7bdat import SAS7BDAT\n",
    "\n",
    "# Save file to a DataFrame: df_sas\n",
    "with SAS7BDAT('exercise/sales.sas7bdat') as file:\n",
    "    df_sas = file.to_data_frame()\n",
    "\n",
    "# Print head of DataFrame\n",
    "print(df_sas.head())\n",
    "\n",
    "# Plot histogram of DataFrame features (pandas and pyplot already imported)\n",
    "pd.DataFrame.hist(df_sas[['P']])\n",
    "plt.ylabel('count')\n",
    "plt.show()"
   ]
  },
  {
   "cell_type": "markdown",
   "metadata": {},
   "source": [
    "### Importing Stata files"
   ]
  },
  {
   "cell_type": "code",
   "execution_count": 9,
   "metadata": {},
   "outputs": [
    {
     "name": "stdout",
     "output_type": "stream",
     "text": [
      "  wbcode               country  disa1  disa2  disa3  disa4  disa5  disa6  \\\n",
      "0    AFG           Afghanistan   0.00   0.00   0.76   0.73    0.0   0.00   \n",
      "1    AGO                Angola   0.32   0.02   0.56   0.00    0.0   0.00   \n",
      "2    ALB               Albania   0.00   0.00   0.02   0.00    0.0   0.00   \n",
      "3    ARE  United Arab Emirates   0.00   0.00   0.00   0.00    0.0   0.00   \n",
      "4    ARG             Argentina   0.00   0.24   0.24   0.00    0.0   0.23   \n",
      "\n",
      "   disa7  disa8  ...  disa16  disa17  disa18  disa19  disa20  disa21  disa22  \\\n",
      "0   0.00    0.0  ...     0.0     0.0     0.0    0.00    0.00     0.0    0.00   \n",
      "1   0.56    0.0  ...     0.0     0.4     0.0    0.61    0.00     0.0    0.99   \n",
      "2   0.00    0.0  ...     0.0     0.0     0.0    0.00    0.00     0.0    0.00   \n",
      "3   0.00    0.0  ...     0.0     0.0     0.0    0.00    0.00     0.0    0.00   \n",
      "4   0.00    0.0  ...     0.0     0.0     0.0    0.00    0.05     0.0    0.00   \n",
      "\n",
      "   disa23  disa24  disa25  \n",
      "0    0.02    0.00    0.00  \n",
      "1    0.98    0.61    0.00  \n",
      "2    0.00    0.00    0.16  \n",
      "3    0.00    0.00    0.00  \n",
      "4    0.01    0.00    0.11  \n",
      "\n",
      "[5 rows x 27 columns]\n"
     ]
    },
    {
     "data": {
      "image/png": "[encoded data removed]",
      "text/plain": [
       "<Figure size 432x288 with 1 Axes>"
      ]
     },
     "metadata": {
      "needs_background": "dark"
     },
     "output_type": "display_data"
    }
   ],
   "source": [
    "# Load Stata file into a pandas DataFrame: df\n",
    "df = pd.read_stata('exercise/disarea.dta')\n",
    "\n",
    "# Print the head of the DataFrame df\n",
    "print(df.head())\n",
    "\n",
    "# Plot histogram of one column of the DataFrame\n",
    "pd.DataFrame.hist(df[['disa10']])\n",
    "plt.xlabel('Extent of disease')\n",
    "plt.ylabel('Number of countries')\n",
    "plt.show()\n"
   ]
  },
  {
   "cell_type": "markdown",
   "metadata": {},
   "source": [
    "## Importing HDF5 files"
   ]
  },
  {
   "cell_type": "markdown",
   "metadata": {},
   "source": [
    "- HDF5 files\n",
    "    - Hierarchical Data Format version 5\n",
    "    - Standard for storing large quantities of numerical data \n",
    "    - Datasets can be hundreds of gigabytes or terabytes \n",
    "    - HDF5 can scale to exabytes\n",
    "- Importing HDF5 files\n",
    "        In [1]: import h5py\n",
    "        In [2]: filename = 'H-H1_LOSC_4_V1-815411200-4096.hdf5'\n",
    "        In [3]: data = h5py.File(filename, 'r') # 'r' is to read\n",
    "        In [4]: print(type(data))\n",
    "        <class 'h5py._hl.files.File'>\n",
    "- The structure of HDF5 files\n",
    "    - explore HDF5 files as a Dictionary, using the method .keys()\n",
    "            In [5]: for key in data.keys():\n",
    "                        print(key)\n",
    "            meta\n",
    "            quality\n",
    "            strain\n",
    "   - meta, quality, strain: each of these is an HDF groip\n",
    "           In [6]: print(type(data['meta']))\n",
    "            <class 'h5py._hl.group.Group'>\n",
    "        - can think of these group as directories\n",
    "    - Go deeper\n",
    "            In [7]: for key in data['meta'].keys():\n",
    "                        print(key)\n",
    "            Description\n",
    "            DescriptionURL\n",
    "            Detector\n",
    "            ...\n",
    "            In [8]: print(data['meta']['Description'].value, data['meta']['Detector'].value)\n",
    "            b'Strain data time series from LIGO' b'H1'\n",
    "- The HDF Project\n",
    "    - Actively maintained by the HDF Group\n",
    "            "
   ]
  },
  {
   "cell_type": "markdown",
   "metadata": {},
   "source": [
    "### Using h5py to import HDF5 files\n",
    "- pip install h5py"
   ]
  },
  {
   "cell_type": "code",
   "execution_count": 10,
   "metadata": {},
   "outputs": [
    {
     "name": "stdout",
     "output_type": "stream",
     "text": [
      "<class 'h5py._hl.files.File'>\n",
      "meta\n",
      "quality\n",
      "strain\n"
     ]
    }
   ],
   "source": [
    "# Import packages\n",
    "import numpy as np\n",
    "import h5py\n",
    "\n",
    "# Assign filename: file\n",
    "file = 'exercise/L-L1_LOSC_4_V1-1126259446-32.hdf5'\n",
    "\n",
    "# Load file: data\n",
    "data = h5py.File(file, 'r')\n",
    "\n",
    "# Print the datatype of the loaded file\n",
    "print(type(data))\n",
    "\n",
    "# Print the keys of the file\n",
    "for key in data.keys():\n",
    "    print(key)"
   ]
  },
  {
   "cell_type": "markdown",
   "metadata": {},
   "source": [
    "### Extracting data from your HDF5 file"
   ]
  },
  {
   "cell_type": "code",
   "execution_count": 11,
   "metadata": {},
   "outputs": [
    {
     "name": "stdout",
     "output_type": "stream",
     "text": [
      "Strain\n"
     ]
    },
    {
     "name": "stderr",
     "output_type": "stream",
     "text": [
      "/Users/ellick/anaconda3/envs/datacamp/lib/python3.7/site-packages/ipykernel_launcher.py:9: H5pyDeprecationWarning: dataset.value has been deprecated. Use dataset[()] instead.\n",
      "  if __name__ == '__main__':\n"
     ]
    },
    {
     "data": {
      "image/png": "[encoded data removed]",
      "text/plain": [
       "<Figure size 432x288 with 1 Axes>"
      ]
     },
     "metadata": {
      "needs_background": "dark"
     },
     "output_type": "display_data"
    }
   ],
   "source": [
    "# Get the HDF5 group: group\n",
    "group = data['strain']\n",
    "\n",
    "# Check out keys of group\n",
    "for key in group.keys():\n",
    "    print(key)\n",
    "\n",
    "# Set variable equal to time series data: strain\n",
    "strain = data['strain']['Strain'].value\n",
    "\n",
    "# Set number of time points to sample: num_samples\n",
    "num_samples = 10000\n",
    "\n",
    "# Set time vector\n",
    "time = np.arange(0, 1, 1 / num_samples)\n",
    "\n",
    "# Plot data\n",
    "plt.plot(time, strain[:num_samples])\n",
    "plt.xlabel('GPS Time (s)')\n",
    "plt.ylabel('strain')\n",
    "plt.show()"
   ]
  },
  {
   "cell_type": "markdown",
   "metadata": {},
   "source": [
    "## Importing MATLAB files"
   ]
  },
  {
   "cell_type": "markdown",
   "metadata": {},
   "source": [
    "- MATLAB\n",
    "    - “Matrix Laboratory”\n",
    "    - Industry standard in engineering and science \n",
    "    - Data saved as .mat files\n",
    "- Use library \"scipy\" to read & write\n",
    "    - scipy.io.loadmat() - read .mat files\n",
    "    - scipy.io.savemat() - write .mat files\n",
    "- What is a .mat file?\n",
    "    - A collection of objects\n",
    "        - such as strings, floats, vectors, array\n",
    "- Importing a .mat file\n",
    "    - A .mat file imported in Python is a Dictionary\n",
    "    - keys = MATLAB variable names \n",
    "    - values = objects assigned to variables\n",
    "            In [1]: import scipy.io\n",
    "            In [2]: filename = 'workspace.mat'\n",
    "            In [3]: mat = scipy.io.loadmat(filename)\n",
    "            In [4]: print(type(mat))\n",
    "            <class 'dict'>\n",
    "            In [5]: print(type(mat['x']))\n",
    "            <class 'numpy.ndarray'>\n",
    "    "
   ]
  },
  {
   "cell_type": "markdown",
   "metadata": {},
   "source": [
    "### Loading .mat files\n",
    "- pip install scipy"
   ]
  },
  {
   "cell_type": "code",
   "execution_count": 12,
   "metadata": {},
   "outputs": [
    {
     "name": "stdout",
     "output_type": "stream",
     "text": [
      "<class 'dict'>\n"
     ]
    }
   ],
   "source": [
    "# Import package\n",
    "import scipy.io\n",
    "\n",
    "# Load MATLAB file: mat\n",
    "mat = scipy.io.loadmat('exercise/ja_data2.mat')\n",
    "\n",
    "# Print the datatype type of mat\n",
    "print(type(mat))"
   ]
  },
  {
   "cell_type": "markdown",
   "metadata": {},
   "source": [
    "### The structure of .mat in Python"
   ]
  },
  {
   "cell_type": "code",
   "execution_count": 13,
   "metadata": {},
   "outputs": [
    {
     "name": "stdout",
     "output_type": "stream",
     "text": [
      "dict_keys(['__header__', '__version__', '__globals__', 'rfpCyt', 'rfpNuc', 'cfpNuc', 'cfpCyt', 'yfpNuc', 'yfpCyt', 'CYratioCyt'])\n",
      "<class 'numpy.ndarray'>\n",
      "(200, 137)\n"
     ]
    },
    {
     "data": {
      "image/png": "[encoded data removed]",
      "text/plain": [
       "<Figure size 432x288 with 1 Axes>"
      ]
     },
     "metadata": {
      "needs_background": "dark"
     },
     "output_type": "display_data"
    }
   ],
   "source": [
    "import scipy.io\n",
    "import matplotlib.pyplot as plt\n",
    "import numpy as np\n",
    "# Print the keys of the MATLAB dictionary\n",
    "print(mat.keys())\n",
    "\n",
    "# Print the type of the value corresponding to the key 'CYratioCyt'\n",
    "\n",
    "print(type(mat['CYratioCyt']))\n",
    "\n",
    "# Print the shape of the value corresponding to the key 'CYratioCyt'\n",
    "print(np.shape(mat['CYratioCyt']))\n",
    "\n",
    "# Subset the array and plot it\n",
    "data = mat['CYratioCyt'][25, 5:]\n",
    "fig = plt.figure()\n",
    "plt.plot(data)\n",
    "plt.xlabel('time (min.)')\n",
    "plt.ylabel('normalized fluorescence (measure of expression)')\n",
    "plt.show()"
   ]
  },
  {
   "cell_type": "code",
   "execution_count": null,
   "metadata": {},
   "outputs": [],
   "source": []
  }
 ],
 "metadata": {
  "kernelspec": {
   "display_name": "Python 3",
   "language": "python",
   "name": "python3"
  },
  "language_info": {
   "codemirror_mode": {
    "name": "ipython",
    "version": 3
   },
   "file_extension": ".py",
   "mimetype": "text/x-python",
   "name": "python",
   "nbconvert_exporter": "python",
   "pygments_lexer": "ipython3",
   "version": "3.7.4"
  },
  "toc": {
   "base_numbering": 1,
   "nav_menu": {},
   "number_sections": true,
   "sideBar": false,
   "skip_h1_title": true,
   "title_cell": "Table of Contents",
   "title_sidebar": "Contents",
   "toc_cell": true,
   "toc_position": {},
   "toc_section_display": false,
   "toc_window_display": false
  },
  "varInspector": {
   "cols": {
    "lenName": 16,
    "lenType": 16,
    "lenVar": 40
   },
   "kernels_config": {
    "python": {
     "delete_cmd_postfix": "",
     "delete_cmd_prefix": "del ",
     "library": "var_list.py",
     "varRefreshCmd": "print(var_dic_list())"
    },
    "r": {
     "delete_cmd_postfix": ") ",
     "delete_cmd_prefix": "rm(",
     "library": "var_list.r",
     "varRefreshCmd": "cat(var_dic_list()) "
    }
   },
   "types_to_exclude": [
    "module",
    "function",
    "builtin_function_or_method",
    "instance",
    "_Feature"
   ],
   "window_display": false
  }
 },
 "nbformat": 4,
 "nbformat_minor": 2
}
