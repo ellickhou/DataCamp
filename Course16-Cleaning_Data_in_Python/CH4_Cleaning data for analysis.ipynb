{
 "cells": [
  {
   "cell_type": "markdown",
   "metadata": {},
   "source": [
    "# Cleaning data for analysis"
   ]
  },
  {
   "cell_type": "markdown",
   "metadata": {
    "toc": true
   },
   "source": [
    "<h1>Table of Contents<span class=\"tocSkip\"></span></h1>\n",
    "<div class=\"toc\"><ul class=\"toc-item\"><li><span><a href=\"#Data-types\" data-toc-modified-id=\"Data-types-1\"><span class=\"toc-item-num\">1&nbsp;&nbsp;</span>Data types</a></span></li><li><span><a href=\"#Using-regular-expressions-to-clean-strings\" data-toc-modified-id=\"Using-regular-expressions-to-clean-strings-2\"><span class=\"toc-item-num\">2&nbsp;&nbsp;</span>Using regular expressions to clean strings</a></span></li><li><span><a href=\"#Using-functions-to-clean-data\" data-toc-modified-id=\"Using-functions-to-clean-data-3\"><span class=\"toc-item-num\">3&nbsp;&nbsp;</span>Using functions to clean data</a></span></li><li><span><a href=\"#Duplicate-and-missing-data\" data-toc-modified-id=\"Duplicate-and-missing-data-4\"><span class=\"toc-item-num\">4&nbsp;&nbsp;</span>Duplicate and missing data</a></span></li><li><span><a href=\"#Testing-with-asserts\" data-toc-modified-id=\"Testing-with-asserts-5\"><span class=\"toc-item-num\">5&nbsp;&nbsp;</span>Testing with asserts</a></span></li></ul></div>"
   ]
  },
  {
   "cell_type": "markdown",
   "metadata": {},
   "source": [
    "## Data types"
   ]
  },
  {
   "cell_type": "markdown",
   "metadata": {},
   "source": [
    "- Data types\n",
    "         In [1]: print(df.dtypes)\n",
    "            name            object\n",
    "            sex               object\n",
    "            treatment a    object\n",
    "            treatment b    int64\n",
    "            dtype: object\n",
    "    - There may be times we want to convert from one type to another\n",
    "        - Numeric columns can be strings, or vice versa\n",
    "- Converting data types\n",
    "        In [2]: df['treatment b'] = df['treatment b'].astype(str)\n",
    "        In [3]: df['sex'] = df['sex'].astype('category')\n",
    "        In [4]: df.dtypes\n",
    "        Out[4]:\n",
    "            name            object\n",
    "            sex               category\n",
    "            treatment a    object\n",
    "            treatment b    object\n",
    "            dtype: object\n",
    "    - Categorical data\n",
    "        - Converting categorical data to ‘category’ dtype\n",
    "            - Can make the DataFrame smaller in memory\n",
    "            - Can make them be utilized by other Python libraries for analysis\n",
    "- Cleaning bad data\n",
    "        In [5]: df['treatment a'] = pd.to_numeric(df['treatment a'],\n",
    "        ...:                                   errors='coerce')\n",
    "        In [6]: df.dtypes\n",
    "        Out[6]:\n",
    "            name            object\n",
    "            sex               category\n",
    "            treatment a    float64\n",
    "            treatment b    object\n",
    "            dtype: object\n",
    "    - errors='coerce'\n",
    "        - force unconvertable data convert to NaN"
   ]
  },
  {
   "cell_type": "code",
   "execution_count": 1,
   "metadata": {},
   "outputs": [],
   "source": [
    "import numpy as np\n",
    "import pandas as pd\n",
    "import matplotlib.pyplot as plt\n",
    "import jupyterthemes.jtplot as jtplot\n",
    "%matplotlib inline\n",
    "jtplot.style(theme='onedork')"
   ]
  },
  {
   "cell_type": "code",
   "execution_count": 2,
   "metadata": {},
   "outputs": [
    {
     "name": "stdout",
     "output_type": "stream",
     "text": [
      "<class 'pandas.core.frame.DataFrame'>\n",
      "RangeIndex: 244 entries, 0 to 243\n",
      "Data columns (total 7 columns):\n",
      "total_bill    244 non-null float64\n",
      "tip           244 non-null float64\n",
      "sex           244 non-null category\n",
      "smoker        244 non-null category\n",
      "day           244 non-null object\n",
      "time          244 non-null object\n",
      "size          244 non-null int64\n",
      "dtypes: category(2), float64(2), int64(1), object(2)\n",
      "memory usage: 10.3+ KB\n",
      "None\n"
     ]
    }
   ],
   "source": [
    "tips = pd.read_csv('exercise/tips.csv')\n",
    "\n",
    "# Convert the sex column to type 'category'\n",
    "#tips.sex = tips.sex.astype('category')\n",
    "tips['sex'] = tips['sex'].astype('category')\n",
    "# Convert the smoker column to type 'category'\n",
    "tips.smoker = tips.smoker.astype('category')\n",
    "\n",
    "# Convert 'total_bill' to a numeric dtype\n",
    "tips['total_bill'] = pd.to_numeric(tips['total_bill'], errors='coerce')\n",
    "\n",
    "# Convert 'tip' to a numeric dtype\n",
    "tips['tip'] = pd.to_numeric(tips['tip'], errors='coerce')\n",
    "\n",
    "# Print the info of tips\n",
    "print(tips.info())\n"
   ]
  },
  {
   "cell_type": "markdown",
   "metadata": {},
   "source": [
    "## Using regular expressions to clean strings"
   ]
  },
  {
   "cell_type": "markdown",
   "metadata": {},
   "source": [
    "- String manipulation\n",
    "    - Much of data cleaning involves string manipulation\n",
    "        - Most of the world’s data is unstructured text\n",
    "    - Also have to do string manipulation to make datasets consistent with one another\n",
    "    - Many built-in and external libraries\n",
    "    - ‘re’ library for regular expressions\n",
    "        - A formal way of specifying a pattern\n",
    "        - Sequence of characters\n",
    "    - Pattern matching\n",
    "        - Similar to globbing\n",
    "- Example match\n",
    "    - 17               \n",
    "        - \\d*\n",
    "    - \\\\$17           \n",
    "        - \\\\\\\\\\$\\d*\n",
    "    - \\\\$17.00      \n",
    "        - \\\\\\\\\\$\\d* \\.\\d*\n",
    "    - \\\\$17.89       \n",
    "        - \\\\\\\\\\$\\d*\\.\\d{2}\n",
    "    - \\\\$17.895     \n",
    "        - ^\\\\\\\\\\$\\d*\\.\\d{2}\\\\$\n",
    "        - match 規則\n",
    "            - 從第一個字開始對\n",
    "            - 對完指定格式之後，後面的都不會管\n",
    "            - 特殊規則\n",
    "                    ^-----這裡夾格式---$\n",
    "                - '^'開頭，'\\\\$'結尾，只會抓絕對符合格式的\n",
    "                \n",
    "- Using regular expressions\n",
    "    - Compile the pattern\n",
    "    - Use the compiled pattern to match values\n",
    "    - This lets us use the pattern over and over again\n",
    "    - Useful since we want to match values down a column of values\n",
    "            In [1]: import re\n",
    "            In [2]: pattern = re.compile('\\$\\d*\\.\\d{2}')\n",
    "            In [3]: result = pattern.match('$17.89')\n",
    "            In [4]: bool(result)\n",
    "            True\n",
    "- Write patterns to match:\n",
    "    - \\d\n",
    "        - digit\n",
    "    - [A-Z]\n",
    "        - A capital letter witch in the range\n",
    "        - lowercase is capable\n",
    "        - so as number\n",
    "    - \\w\n",
    "        - a-z, A-Z, 0-9\n",
    "    - follow with\n",
    "        - {x}\n",
    "            - x times\n",
    "        - *\n",
    "            - arbitrary number of times(include 0)\n",
    "        - +\n",
    "            - one or more times"
   ]
  },
  {
   "cell_type": "code",
   "execution_count": 3,
   "metadata": {},
   "outputs": [
    {
     "name": "stdout",
     "output_type": "stream",
     "text": [
      "True\n",
      "False\n"
     ]
    }
   ],
   "source": [
    "# Import the regular expression module\n",
    "import re\n",
    "\n",
    "# Compile the pattern: prog\n",
    "prog = re.compile('\\d{3}-\\d{3}-\\d{4}')\n",
    "\n",
    "# See if the pattern matches\n",
    "result = prog.match('123-456-7890')\n",
    "print(bool(result))\n",
    "\n",
    "# See if the pattern matches\n",
    "result2 = prog.match('1123-456-7890')\n",
    "print(bool(result2))\n"
   ]
  },
  {
   "cell_type": "code",
   "execution_count": 4,
   "metadata": {},
   "outputs": [
    {
     "name": "stdout",
     "output_type": "stream",
     "text": [
      "['10', '1']\n"
     ]
    }
   ],
   "source": [
    "# Find the numeric values: matches\n",
    "matches = re.findall('\\d+', 'the recipe calls for 10 strawberries and 1 banana')\n",
    "\n",
    "# Print the matches\n",
    "print(matches)\n"
   ]
  },
  {
   "cell_type": "code",
   "execution_count": 5,
   "metadata": {},
   "outputs": [
    {
     "name": "stdout",
     "output_type": "stream",
     "text": [
      "True\n",
      "True\n",
      "True\n",
      "True\n",
      "False\n"
     ]
    }
   ],
   "source": [
    "# Write the first pattern\n",
    "pattern1 = bool(re.match(pattern='\\d{3}-\\d{3}-\\d{4}', string='123-456-7890'))\n",
    "print(pattern1)\n",
    "\n",
    "# Write the second pattern\n",
    "pattern2 = bool(re.match(pattern='\\$\\d*\\.\\d{2}', string='$0.45'))\n",
    "print(pattern2)\n",
    "\n",
    "# Write the third pattern\n",
    "pattern3 = bool(re.match(pattern='[A-Z]\\w+', string='Australia'))\n",
    "print(pattern3)\n",
    "\n",
    "pattern4 = bool(re.match(pattern='\\S', string='$'))\n",
    "print(pattern4)\n",
    "\n",
    "pattern5 = bool(re.match(pattern='^\\w*$', string='qedaM$'))\n",
    "print(pattern5)"
   ]
  },
  {
   "cell_type": "markdown",
   "metadata": {},
   "source": [
    "## Using functions to clean data"
   ]
  },
  {
   "cell_type": "markdown",
   "metadata": {},
   "source": [
    "- Complex cleaning\n",
    "    - Cleaning step requires multiple steps \n",
    "        - Extract number from string\n",
    "        - Perform transformation on extracted number\n",
    "- Apply\n",
    "        In [1]: print(df)\n",
    "                    treatment a  treatment b\n",
    "        Daniel           18           42\n",
    "        John             12           31\n",
    "        Jane             24           27\n",
    "        In [2]: df.apply(np.mean, axis=0)\n",
    "        Out[2]:\n",
    "        treatment a    18.000000\n",
    "        treatment b    33.333333\n",
    "        dtype: float64\n",
    "        In [4]: df.apply(np.mean, axis=1)\n",
    "        Out[4]:\n",
    "        Daniel    30.0\n",
    "        John      21.5\n",
    "        Jane      25.5\n",
    "        dtype: float64\n",
    "    - axis=0, row-wise\n",
    "    - axis=1, col-wise"
   ]
  },
  {
   "cell_type": "code",
   "execution_count": 6,
   "metadata": {},
   "outputs": [
    {
     "name": "stdout",
     "output_type": "stream",
     "text": [
      "     total_bill   tip     sex smoker   day    time  size  recode\n",
      "239       29.03  5.92    Male     No   Sat  Dinner     3       1\n",
      "240       27.18  2.00  Female    Yes   Sat  Dinner     2       0\n",
      "241       22.67  2.00    Male    Yes   Sat  Dinner     2       1\n",
      "242       17.82  1.75    Male     No   Sat  Dinner     2       1\n",
      "243       18.78  3.00  Female     No  Thur  Dinner     2       0\n"
     ]
    }
   ],
   "source": [
    "tips = pd.read_csv('exercise/tips.csv')\n",
    "\n",
    "# Define recode_gender()\n",
    "def recode_gender(gender):\n",
    "\n",
    "    # Return 0 if gender is 'Female'\n",
    "    if gender == 'Female':\n",
    "        return 0\n",
    "    \n",
    "    # Return 1 if gender is 'Male'    \n",
    "    elif gender == 'Male':\n",
    "        return 1\n",
    "    \n",
    "    # Return np.nan    \n",
    "    else:\n",
    "        return np.nan\n",
    "\n",
    "# Apply the function to the sex column\n",
    "tips['recode'] = tips['sex'].apply(recode_gender)\n",
    "\n",
    "# Print the first five rows of tips\n",
    "print(tips.tail())"
   ]
  },
  {
   "cell_type": "code",
   "execution_count": 7,
   "metadata": {},
   "outputs": [
    {
     "name": "stdout",
     "output_type": "stream",
     "text": [
      "   total_bill   tip     sex smoker  day    time  size  recode $total_dollar  \\\n",
      "0       16.99  1.01  Female     No  Sun  Dinner     2       0        $16.99   \n",
      "1       10.34  1.66    Male     No  Sun  Dinner     3       1        $10.34   \n",
      "2       21.01  3.50    Male     No  Sun  Dinner     3       1        $21.01   \n",
      "3       23.68  3.31    Male     No  Sun  Dinner     2       1        $23.68   \n",
      "4       24.59  3.61  Female     No  Sun  Dinner     4       0        $24.59   \n",
      "\n",
      "   total_dollar  \n",
      "0         16.99  \n",
      "1         10.34  \n",
      "2         21.01  \n",
      "3         23.68  \n",
      "4         24.59  \n"
     ]
    }
   ],
   "source": [
    "tips['$total_dollar'] = tips.total_bill.apply(lambda x: '$' + str(x))\n",
    "# Write the lambda function using replace\n",
    "tips['total_dollar'] = tips['$total_dollar'].apply(lambda x: float(x.replace('$', '')))\n",
    "\n",
    "# Write the lambda function using regular expressions\n",
    "# re.findall function  returns a list, [0] to access the value\n",
    "#tips['total_dollar2'] = tips.total_dollar.apply(lambda x: re.findall('\\d+\\.\\d+', x)[0])\n",
    "\n",
    "# Print the head of tips\n",
    "print(tips.head())"
   ]
  },
  {
   "cell_type": "markdown",
   "metadata": {},
   "source": [
    "## Duplicate and missing data"
   ]
  },
  {
   "cell_type": "markdown",
   "metadata": {},
   "source": [
    "- Duplicate data\n",
    "    - Can skew results \n",
    "    - ‘.drop_duplicates()’ method\n",
    "             In [1]: df = df.drop_duplicates()\n",
    "- Missing data\n",
    "    - Leave as-is(維持原樣)\n",
    "    - Drop them\n",
    "            In [4]: tips_dropped = tips_nan.dropna()\n",
    "    - Fill missing value\n",
    "            tips_nan['sex'] = tips_nan['sex'].fillna('missing')\n",
    "            tips_nan[['total_bill', 'size']] = tips_nan[['total_bill','size']].fillna(0)\n",
    "    - Fill missing values with a test statistic\n",
    "        - Careful when using test statistics to fill\n",
    "        - Have to make sure the value you are filling in makes sense\n",
    "        - Median is a be!er statistic in the presence of outliers"
   ]
  },
  {
   "cell_type": "code",
   "execution_count": 8,
   "metadata": {},
   "outputs": [
    {
     "name": "stdout",
     "output_type": "stream",
     "text": [
      "<class 'pandas.core.frame.DataFrame'>\n",
      "RangeIndex: 153 entries, 0 to 152\n",
      "Data columns (total 6 columns):\n",
      "Ozone      116 non-null float64\n",
      "Solar.R    146 non-null float64\n",
      "Wind       153 non-null float64\n",
      "Temp       153 non-null int64\n",
      "Month      153 non-null int64\n",
      "Day        153 non-null int64\n",
      "dtypes: float64(3), int64(3)\n",
      "memory usage: 7.3 KB\n",
      "None\n",
      "<class 'pandas.core.frame.DataFrame'>\n",
      "Int64Index: 153 entries, 0 to 152\n",
      "Data columns (total 6 columns):\n",
      "Ozone      153 non-null float64\n",
      "Solar.R    146 non-null float64\n",
      "Wind       153 non-null float64\n",
      "Temp       153 non-null int64\n",
      "Month      153 non-null int64\n",
      "Day        153 non-null int64\n",
      "dtypes: float64(3), int64(3)\n",
      "memory usage: 8.4 KB\n",
      "None\n"
     ]
    }
   ],
   "source": [
    "airquality = pd.read_csv('exercise/airquality.csv')\n",
    "print(airquality.info())\n",
    "# Calculate the mean of the Ozone column: oz_mean\n",
    "oz_mean = airquality['Ozone'].mean()\n",
    "\n",
    "# Replace all the missing values in the Ozone column with the mean\n",
    "airquality['Ozone'] = airquality['Ozone'].fillna(oz_mean)\n",
    "airquality = airquality.drop_duplicates()\n",
    "\n",
    "# Print the info of airquality\n",
    "print(airquality.info())\n"
   ]
  },
  {
   "cell_type": "markdown",
   "metadata": {},
   "source": [
    "## Testing with asserts"
   ]
  },
  {
   "cell_type": "markdown",
   "metadata": {},
   "source": [
    "- Assert statements\n",
    "    - Programmatically vs visually checking\n",
    "    - If we drop or fill NaNs, we expect 0 missing values\n",
    "    - We can write an assert statement to verify this \n",
    "    - We can detect early warnings and errors\n",
    "    - This gives us confidence that our code is running correctly\n",
    "    - ex:\n",
    "            assert google.Close.notnull().all()\n",
    "                        df.column.notnull().all()\n",
    "    - assert\n",
    "        - 接在後面的敘述是否為True\n",
    "            - 是的話不會發生什麼\n",
    "            - 若否，則 raise error\n",
    "            - 只接受 bool object\n",
    "    - pd.notnull()\n",
    "        -  For scalar input, returns a scalar boolean.\n",
    "        - For array input, returns an array of boolean indicating whether each corresponding element is valid.\n",
    "    - all(iterable, /)\n",
    "        - Return True if bool(x) is True for all values x in the iterable.\n",
    "        - If the iterable is empty, return True.\n",
    "        - 可以看成降階的效果\n",
    "                ebola.notnull().all().all()\n",
    "            - pd.notnull()給出 整個df每一個值 是否 not-NaN\n",
    "            - 第一個 all()給出 這個df中的每一行 是否 所有值都為True，是個 Series\n",
    "                - 迭代一個df, 會得到其有哪些column\n",
    "            - 第二個 all()給出 上個all()給的Series 是否所以值都為 True\n",
    "            - df -> Series -> bool\n"
   ]
  },
  {
   "cell_type": "code",
   "execution_count": 10,
   "metadata": {},
   "outputs": [
    {
     "name": "stdout",
     "output_type": "stream",
     "text": [
      "<class 'pandas.core.frame.DataFrame'>\n",
      "<class 'pandas.core.series.Series'>\n",
      "<class 'numpy.bool_'>\n"
     ]
    }
   ],
   "source": [
    "ebola = pd.read_csv('exercise/ebola.csv')\n",
    "#print(ebola.info())\n",
    "ebola = ebola.fillna(0)\n",
    "#print(ebola.info())\n",
    "# Assert that there are no missing values\n",
    "print(type(ebola.notnull()))\n",
    "print(type(ebola.notnull().all()))\n",
    "print(type(ebola.notnull().all().all()))\n",
    "\n",
    "assert ebola.notnull().all().all()\n",
    "\n",
    "# Assert that all values are >= 0\n",
    "#assert (ebola >= 0).all().all()\n"
   ]
  },
  {
   "cell_type": "code",
   "execution_count": null,
   "metadata": {},
   "outputs": [],
   "source": []
  },
  {
   "cell_type": "code",
   "execution_count": null,
   "metadata": {},
   "outputs": [],
   "source": []
  }
 ],
 "metadata": {
  "kernelspec": {
   "display_name": "Python 3",
   "language": "python",
   "name": "python3"
  },
  "language_info": {
   "codemirror_mode": {
    "name": "ipython",
    "version": 3
   },
   "file_extension": ".py",
   "mimetype": "text/x-python",
   "name": "python",
   "nbconvert_exporter": "python",
   "pygments_lexer": "ipython3",
   "version": "3.7.4"
  },
  "toc": {
   "base_numbering": 1,
   "nav_menu": {},
   "number_sections": true,
   "sideBar": false,
   "skip_h1_title": true,
   "title_cell": "Table of Contents",
   "title_sidebar": "Contents",
   "toc_cell": true,
   "toc_position": {},
   "toc_section_display": true,
   "toc_window_display": false
  },
  "varInspector": {
   "cols": {
    "lenName": 16,
    "lenType": 16,
    "lenVar": 40
   },
   "kernels_config": {
    "python": {
     "delete_cmd_postfix": "",
     "delete_cmd_prefix": "del ",
     "library": "var_list.py",
     "varRefreshCmd": "print(var_dic_list())"
    },
    "r": {
     "delete_cmd_postfix": ") ",
     "delete_cmd_prefix": "rm(",
     "library": "var_list.r",
     "varRefreshCmd": "cat(var_dic_list()) "
    }
   },
   "types_to_exclude": [
    "module",
    "function",
    "builtin_function_or_method",
    "instance",
    "_Feature"
   ],
   "window_display": false
  }
 },
 "nbformat": 4,
 "nbformat_minor": 2
}
