{
 "cells": [
  {
   "cell_type": "markdown",
   "metadata": {},
   "source": [
    "# DataCleaning"
   ]
  },
  {
   "cell_type": "markdown",
   "metadata": {
    "toc": true
   },
   "source": [
    "<h1>Table of Contents<span class=\"tocSkip\"></span></h1>\n",
    "<div class=\"toc\"><ul class=\"toc-item\"><li><span><a href=\"#Common-funcs\" data-toc-modified-id=\"Common-funcs-1\"><span class=\"toc-item-num\">1&nbsp;&nbsp;</span>Common funcs</a></span></li><li><span><a href=\"#Categorical-data-problems\" data-toc-modified-id=\"Categorical-data-problems-2\"><span class=\"toc-item-num\">2&nbsp;&nbsp;</span>Categorical data problems</a></span></li><li><span><a href=\"#Uniform-dates\" data-toc-modified-id=\"Uniform-dates-3\"><span class=\"toc-item-num\">3&nbsp;&nbsp;</span>Uniform dates</a></span></li><li><span><a href=\"#Missing-data\" data-toc-modified-id=\"Missing-data-4\"><span class=\"toc-item-num\">4&nbsp;&nbsp;</span>Missing data</a></span></li><li><span><a href=\"#字串相似度\" data-toc-modified-id=\"字串相似度-5\"><span class=\"toc-item-num\">5&nbsp;&nbsp;</span>字串相似度</a></span></li><li><span><a href=\"#Generating-pairs\" data-toc-modified-id=\"Generating-pairs-6\"><span class=\"toc-item-num\">6&nbsp;&nbsp;</span>Generating pairs</a></span></li></ul></div>"
   ]
  },
  {
   "cell_type": "code",
   "execution_count": 2,
   "metadata": {},
   "outputs": [],
   "source": [
    "import numpy as np\n",
    "import pandas as pd\n",
    "import matplotlib.pyplot as plt\n",
    "import jupyterthemes.jtplot as jtplot\n",
    "%matplotlib inline\n",
    "jtplot.style(theme='onedork')"
   ]
  },
  {
   "cell_type": "markdown",
   "metadata": {},
   "source": [
    "## Common funcs\n",
    "- `df.col.astype`\n",
    "- Set values\n",
    "    - `df.loc[df.col > 27, col] = 27`\n",
    "- duplicates\n",
    "    - `df.duplicated(subset=['co1', col2], keep=)`\n",
    "        - return bool Series，找重複\n",
    "        - `keep{‘first’, ‘last’, False}, default ‘first’`\n",
    "            - 第一次出現不return, 最後一次出現不return, 全return\n",
    "    - `df.drop_duplicates(subset=['co1', col2], keep=, inplace=)`\n",
    "        - 丟掉重複\n",
    "- replace value\n",
    "    - df.S.replace, df.replace\n",
    "        - take a dict agg\n",
    "- missing"
   ]
  },
  {
   "cell_type": "code",
   "execution_count": 3,
   "metadata": {},
   "outputs": [
    {
     "data": {
      "text/plain": [
       "0    12 minutes\n",
       "1    24 minutes\n",
       "2     8 minutes\n",
       "Name: duration, dtype: object"
      ]
     },
     "execution_count": 3,
     "metadata": {},
     "output_type": "execute_result"
    }
   ],
   "source": [
    "ride_sharing = pd.read_csv('ride_sharing_new.csv', index_col=0)\n",
    "# ride_sharing.info()\n",
    "ride_sharing['duration'].head(3)"
   ]
  },
  {
   "cell_type": "code",
   "execution_count": 4,
   "metadata": {},
   "outputs": [
    {
     "data": {
      "text/plain": [
       "0    12\n",
       "1    24\n",
       "2     8\n",
       "Name: duration, dtype: int64"
      ]
     },
     "execution_count": 4,
     "metadata": {},
     "output_type": "execute_result"
    }
   ],
   "source": [
    "ride_sharing['duration'] = ride_sharing['duration']\\\n",
    "                            .str.strip('minutes')\\\n",
    "                            .astype(int)\n",
    "ride_sharing['duration'].head(3)"
   ]
  },
  {
   "cell_type": "code",
   "execution_count": 5,
   "metadata": {},
   "outputs": [
    {
     "data": {
      "text/html": [
       "<div>\n",
       "<style scoped>\n",
       "    .dataframe tbody tr th:only-of-type {\n",
       "        vertical-align: middle;\n",
       "    }\n",
       "\n",
       "    .dataframe tbody tr th {\n",
       "        vertical-align: top;\n",
       "    }\n",
       "\n",
       "    .dataframe thead th {\n",
       "        text-align: right;\n",
       "    }\n",
       "</style>\n",
       "<table border=\"1\" class=\"dataframe\">\n",
       "  <thead>\n",
       "    <tr style=\"text-align: right;\">\n",
       "      <th></th>\n",
       "      <th>bike_id</th>\n",
       "      <th>user_birth_year</th>\n",
       "    </tr>\n",
       "  </thead>\n",
       "  <tbody>\n",
       "    <tr>\n",
       "      <td>0</td>\n",
       "      <td>27</td>\n",
       "      <td>1971</td>\n",
       "    </tr>\n",
       "    <tr>\n",
       "      <td>1</td>\n",
       "      <td>27</td>\n",
       "      <td>1971</td>\n",
       "    </tr>\n",
       "    <tr>\n",
       "      <td>2</td>\n",
       "      <td>27</td>\n",
       "      <td>1988</td>\n",
       "    </tr>\n",
       "    <tr>\n",
       "      <td>3</td>\n",
       "      <td>27</td>\n",
       "      <td>1988</td>\n",
       "    </tr>\n",
       "    <tr>\n",
       "      <td>4</td>\n",
       "      <td>27</td>\n",
       "      <td>1989</td>\n",
       "    </tr>\n",
       "  </tbody>\n",
       "</table>\n",
       "</div>"
      ],
      "text/plain": [
       "   bike_id  user_birth_year\n",
       "0       27             1971\n",
       "1       27             1971\n",
       "2       27             1988\n",
       "3       27             1988\n",
       "4       27             1989"
      ]
     },
     "execution_count": 5,
     "metadata": {},
     "output_type": "execute_result"
    }
   ],
   "source": [
    "sub=['bike_id', 'user_birth_year']\n",
    "# Find duplicates\n",
    "duplicates = ride_sharing.duplicated(sub, keep=False)\n",
    "\n",
    "# Sort your duplicated rides\n",
    "duplicated_id = ride_sharing[duplicates].sort_values(sub).reset_index(drop=True)\n",
    "\n",
    "duplicated_id[sub].head(5)"
   ]
  },
  {
   "cell_type": "code",
   "execution_count": 6,
   "metadata": {},
   "outputs": [],
   "source": [
    "# Drop complete duplicates from ride_sharing\n",
    "ride_dup = ride_sharing.drop_duplicates()\n",
    "def round_1(x):\n",
    "    return round(np.mean(x),1)\n",
    "    \n",
    "# Create statistics dictionary for aggregation function\n",
    "statistics = {'user_birth_year': 'min', 'duration':round_1 }\n",
    "\n",
    "# # Group by ride_id and compute new statistics\n",
    "ride_unique = ride_sharing.groupby('bike_id').agg(statistics).reset_index()\n",
    "\n",
    "# Find duplicated values again\n",
    "duplicates = ride_unique.duplicated(subset = 'bike_id', keep = False)\n",
    "duplicated_rides = ride_unique[duplicates == True]\n",
    "\n",
    "# Assert duplicates are processed\n",
    "assert duplicated_rides.shape[0] == 0"
   ]
  },
  {
   "cell_type": "markdown",
   "metadata": {},
   "source": [
    "## Categorical data problems"
   ]
  },
  {
   "cell_type": "code",
   "execution_count": 25,
   "metadata": {},
   "outputs": [
    {
     "name": "stdout",
     "output_type": "stream",
     "text": [
      "<class 'pandas.core.frame.DataFrame'>\n",
      "Int64Index: 2477 entries, 0 to 2808\n",
      "Data columns (total 12 columns):\n",
      "id               2477 non-null int64\n",
      "day              2477 non-null object\n",
      "airline          2477 non-null object\n",
      "destination      2477 non-null object\n",
      "dest_region      2477 non-null object\n",
      "dest_size        2477 non-null object\n",
      "boarding_area    2477 non-null object\n",
      "dept_time        2477 non-null object\n",
      "wait_min         2477 non-null float64\n",
      "cleanliness      2477 non-null object\n",
      "safety           2477 non-null object\n",
      "satisfaction     2477 non-null object\n",
      "dtypes: float64(1), int64(1), object(10)\n",
      "memory usage: 251.6+ KB\n"
     ]
    }
   ],
   "source": [
    "airlines = pd.read_csv('airlines_final.csv', index_col=0)\n",
    "airlines.info()"
   ]
  },
  {
   "cell_type": "code",
   "execution_count": 15,
   "metadata": {},
   "outputs": [
    {
     "data": {
      "text/plain": [
       "array(['Clean', 'Average', 'Somewhat clean', 'Somewhat dirty', 'Dirty'],\n",
       "      dtype=object)"
      ]
     },
     "execution_count": 15,
     "metadata": {},
     "output_type": "execute_result"
    }
   ],
   "source": [
    "\n",
    "airlines['cleanliness'].unique()"
   ]
  },
  {
   "cell_type": "code",
   "execution_count": 22,
   "metadata": {},
   "outputs": [],
   "source": [
    "# Find the cleanliness category in airlines not in categories\n",
    "cat_clean = set(airlines['cleanliness']).difference(airlines['cleanliness'].unique())\n",
    "\n",
    "# Find rows with that category\n",
    "cat_clean_rows = airlines['cleanliness'].isin(cat_clean)\n",
    "\n",
    "# # Print rows with inconsistent category\n",
    "# print(airlines[cat_clean_rows])\n",
    "\n",
    "# # Print rows with consistent categories only\n",
    "# print(airlines[~cat_clean_rows])"
   ]
  },
  {
   "cell_type": "code",
   "execution_count": 47,
   "metadata": {},
   "outputs": [
    {
     "name": "stdout",
     "output_type": "stream",
     "text": [
      "0.33    120.0\n",
      "0.66    170.0\n",
      "Name: wait_min, dtype: float64\n"
     ]
    },
    {
     "data": {
      "text/html": [
       "<div>\n",
       "<style scoped>\n",
       "    .dataframe tbody tr th:only-of-type {\n",
       "        vertical-align: middle;\n",
       "    }\n",
       "\n",
       "    .dataframe tbody tr th {\n",
       "        vertical-align: top;\n",
       "    }\n",
       "\n",
       "    .dataframe thead th {\n",
       "        text-align: right;\n",
       "    }\n",
       "</style>\n",
       "<table border=\"1\" class=\"dataframe\">\n",
       "  <thead>\n",
       "    <tr style=\"text-align: right;\">\n",
       "      <th></th>\n",
       "      <th>wait_min</th>\n",
       "      <th>wait_type</th>\n",
       "      <th>wait_type2</th>\n",
       "    </tr>\n",
       "  </thead>\n",
       "  <tbody>\n",
       "    <tr>\n",
       "      <td>0</td>\n",
       "      <td>115.0</td>\n",
       "      <td>medium</td>\n",
       "      <td>short</td>\n",
       "    </tr>\n",
       "    <tr>\n",
       "      <td>1</td>\n",
       "      <td>135.0</td>\n",
       "      <td>medium</td>\n",
       "      <td>medium</td>\n",
       "    </tr>\n",
       "    <tr>\n",
       "      <td>2</td>\n",
       "      <td>70.0</td>\n",
       "      <td>medium</td>\n",
       "      <td>short</td>\n",
       "    </tr>\n",
       "    <tr>\n",
       "      <td>3</td>\n",
       "      <td>190.0</td>\n",
       "      <td>long</td>\n",
       "      <td>long</td>\n",
       "    </tr>\n",
       "    <tr>\n",
       "      <td>4</td>\n",
       "      <td>559.0</td>\n",
       "      <td>long</td>\n",
       "      <td>long</td>\n",
       "    </tr>\n",
       "  </tbody>\n",
       "</table>\n",
       "</div>"
      ],
      "text/plain": [
       "   wait_min wait_type wait_type2\n",
       "0     115.0    medium      short\n",
       "1     135.0    medium     medium\n",
       "2      70.0    medium      short\n",
       "3     190.0      long       long\n",
       "4     559.0      long       long"
      ]
     },
     "execution_count": 47,
     "metadata": {},
     "output_type": "execute_result"
    }
   ],
   "source": [
    "# Create ranges for categories\n",
    "label_ranges = [0, 60, 180, np.inf]\n",
    "label_names = ['short', 'medium', 'long']\n",
    "\n",
    "# Create wait_type column\n",
    "airlines['wait_type'] = pd.cut(airlines['wait_min'],\n",
    "                               bins = label_ranges, \n",
    "                                labels = label_names)\n",
    "\n",
    "print(airlines['wait_min'].quantile([0.33, 0.66]))\n",
    "# Quantile-based  Interval = 1/q\n",
    "airlines['wait_type2'] = pd.qcut(airlines['wait_min'],\n",
    "                               q = 3, \n",
    "                                labels = label_names)\n",
    "\n",
    "# Create mappings and replace\n",
    "mappings = {'Monday':'weekday', 'Tuesday':'weekday', 'Wednesday': 'weekday', \n",
    "            'Thursday': 'weekday', 'Friday': 'weekday', \n",
    "            'Saturday': 'weekend', 'Sunday': 'weekend'}\n",
    "\n",
    "airlines['day_week'] = airlines['day'].replace(mappings)\n",
    "# airlines[airlines.wait_min>=169][['wait_min','wait_type', 'wait_type2']]\n",
    "airlines[['wait_min','wait_type', 'wait_type2']].head()"
   ]
  },
  {
   "cell_type": "code",
   "execution_count": 49,
   "metadata": {},
   "outputs": [
    {
     "data": {
      "text/plain": [
       "1        SAN JOSE DEL CABO\n",
       "15    MINNEAPOLIS-ST. PAUL\n",
       "32        DALLAS-FT. WORTH\n",
       "71    WASHINGTON DC-DULLES\n",
       "75        DALLAS-FT. WORTH\n",
       "Name: destination, dtype: object"
      ]
     },
     "execution_count": 49,
     "metadata": {},
     "output_type": "execute_result"
    }
   ],
   "source": [
    "# Store length of each row in destination column\n",
    "destination_length = airlines.destination.str.len()\n",
    "\n",
    "# Find rows in airlines where length > 40\n",
    "airlines_ = airlines[destination_length > 15]\n",
    "\n",
    "# Assert minimum survey_response length is > 40\n",
    "assert airlines_.destination.str.len().min() > 15\n",
    "\n",
    "# Print new survey_response column\n",
    "airlines_['destination'].head()"
   ]
  },
  {
   "cell_type": "markdown",
   "metadata": {},
   "source": [
    "## Uniform dates"
   ]
  },
  {
   "cell_type": "code",
   "execution_count": 118,
   "metadata": {},
   "outputs": [],
   "source": [
    "import seaborn as sns\n",
    "import matplotlib.pyplot as plt\n",
    "import random\n",
    "import numpy as np\n",
    "import datetime as dt"
   ]
  },
  {
   "cell_type": "code",
   "execution_count": 119,
   "metadata": {},
   "outputs": [
    {
     "name": "stdout",
     "output_type": "stream",
     "text": [
      "<class 'pandas.core.frame.DataFrame'>\n",
      "Int64Index: 100 entries, 0 to 99\n",
      "Data columns (total 12 columns):\n",
      "cust_id             100 non-null object\n",
      "birth_date          100 non-null object\n",
      "Age                 100 non-null int64\n",
      "acct_amount         100 non-null float64\n",
      "inv_amount          100 non-null int64\n",
      "fund_A              100 non-null float64\n",
      "fund_B              100 non-null float64\n",
      "fund_C              100 non-null float64\n",
      "fund_D              100 non-null float64\n",
      "account_opened      100 non-null object\n",
      "last_transaction    100 non-null object\n",
      "acct_cur            100 non-null int64\n",
      "dtypes: float64(5), int64(3), object(4)\n",
      "memory usage: 10.2+ KB\n"
     ]
    },
    {
     "data": {
      "text/html": [
       "<div>\n",
       "<style scoped>\n",
       "    .dataframe tbody tr th:only-of-type {\n",
       "        vertical-align: middle;\n",
       "    }\n",
       "\n",
       "    .dataframe tbody tr th {\n",
       "        vertical-align: top;\n",
       "    }\n",
       "\n",
       "    .dataframe thead th {\n",
       "        text-align: right;\n",
       "    }\n",
       "</style>\n",
       "<table border=\"1\" class=\"dataframe\">\n",
       "  <thead>\n",
       "    <tr style=\"text-align: right;\">\n",
       "      <th></th>\n",
       "      <th>cust_id</th>\n",
       "      <th>birth_date</th>\n",
       "      <th>Age</th>\n",
       "      <th>acct_amount</th>\n",
       "      <th>inv_amount</th>\n",
       "      <th>fund_A</th>\n",
       "      <th>fund_B</th>\n",
       "      <th>fund_C</th>\n",
       "      <th>fund_D</th>\n",
       "      <th>account_opened</th>\n",
       "      <th>last_transaction</th>\n",
       "      <th>acct_cur</th>\n",
       "    </tr>\n",
       "  </thead>\n",
       "  <tbody>\n",
       "    <tr>\n",
       "      <td>0</td>\n",
       "      <td>870A9281</td>\n",
       "      <td>1962-06-09</td>\n",
       "      <td>58</td>\n",
       "      <td>63523.31</td>\n",
       "      <td>51295</td>\n",
       "      <td>30105.0</td>\n",
       "      <td>4138.0</td>\n",
       "      <td>1420.0</td>\n",
       "      <td>15632.0</td>\n",
       "      <td>02-09-18</td>\n",
       "      <td>22-02-19</td>\n",
       "      <td>1</td>\n",
       "    </tr>\n",
       "    <tr>\n",
       "      <td>1</td>\n",
       "      <td>166B05B0</td>\n",
       "      <td>1962-12-16</td>\n",
       "      <td>58</td>\n",
       "      <td>38175.46</td>\n",
       "      <td>15050</td>\n",
       "      <td>4995.0</td>\n",
       "      <td>938.0</td>\n",
       "      <td>6696.0</td>\n",
       "      <td>2421.0</td>\n",
       "      <td>28-02-19</td>\n",
       "      <td>31-10-18</td>\n",
       "      <td>1</td>\n",
       "    </tr>\n",
       "    <tr>\n",
       "      <td>2</td>\n",
       "      <td>BFC13E88</td>\n",
       "      <td>1990-09-12</td>\n",
       "      <td>34</td>\n",
       "      <td>59863.77</td>\n",
       "      <td>24567</td>\n",
       "      <td>10323.0</td>\n",
       "      <td>4590.0</td>\n",
       "      <td>8469.0</td>\n",
       "      <td>1185.0</td>\n",
       "      <td>25-04-18</td>\n",
       "      <td>02-04-18</td>\n",
       "      <td>0</td>\n",
       "    </tr>\n",
       "    <tr>\n",
       "      <td>3</td>\n",
       "      <td>F2158F66</td>\n",
       "      <td>1985-11-03</td>\n",
       "      <td>35</td>\n",
       "      <td>84132.10</td>\n",
       "      <td>23712</td>\n",
       "      <td>3908.0</td>\n",
       "      <td>492.0</td>\n",
       "      <td>6482.0</td>\n",
       "      <td>12830.0</td>\n",
       "      <td>07-11-17</td>\n",
       "      <td>08-11-18</td>\n",
       "      <td>1</td>\n",
       "    </tr>\n",
       "    <tr>\n",
       "      <td>4</td>\n",
       "      <td>7A73F334</td>\n",
       "      <td>1990-05-17</td>\n",
       "      <td>30</td>\n",
       "      <td>120512.00</td>\n",
       "      <td>93230</td>\n",
       "      <td>12158.4</td>\n",
       "      <td>51281.0</td>\n",
       "      <td>13434.0</td>\n",
       "      <td>18383.0</td>\n",
       "      <td>14-05-18</td>\n",
       "      <td>19-07-18</td>\n",
       "      <td>0</td>\n",
       "    </tr>\n",
       "  </tbody>\n",
       "</table>\n",
       "</div>"
      ],
      "text/plain": [
       "    cust_id  birth_date  Age  acct_amount  inv_amount   fund_A   fund_B  \\\n",
       "0  870A9281  1962-06-09   58     63523.31       51295  30105.0   4138.0   \n",
       "1  166B05B0  1962-12-16   58     38175.46       15050   4995.0    938.0   \n",
       "2  BFC13E88  1990-09-12   34     59863.77       24567  10323.0   4590.0   \n",
       "3  F2158F66  1985-11-03   35     84132.10       23712   3908.0    492.0   \n",
       "4  7A73F334  1990-05-17   30    120512.00       93230  12158.4  51281.0   \n",
       "\n",
       "    fund_C   fund_D account_opened last_transaction  acct_cur  \n",
       "0   1420.0  15632.0       02-09-18         22-02-19         1  \n",
       "1   6696.0   2421.0       28-02-19         31-10-18         1  \n",
       "2   8469.0   1185.0       25-04-18         02-04-18         0  \n",
       "3   6482.0  12830.0       07-11-17         08-11-18         1  \n",
       "4  13434.0  18383.0       14-05-18         19-07-18         0  "
      ]
     },
     "execution_count": 119,
     "metadata": {},
     "output_type": "execute_result"
    }
   ],
   "source": [
    "banking = pd.read_csv('banking_dirty.csv', index_col=0)\n",
    "banking['acct_cur'] = np.random.randint(0,2, size=len(banking))\n",
    "banking.info()\n",
    "banking.head()"
   ]
  },
  {
   "cell_type": "code",
   "execution_count": 120,
   "metadata": {},
   "outputs": [
    {
     "data": {
      "image/png": "[encoded data removed]",
      "text/plain": [
       "<Figure size 360x360 with 1 Axes>"
      ]
     },
     "metadata": {
      "needs_background": "dark"
     },
     "output_type": "display_data"
    }
   ],
   "source": [
    "sns.relplot(y= 'acct_amount',\n",
    "            x= banking.index,\n",
    "            data =banking, kind = 'scatter')\n",
    "plt.show()"
   ]
  },
  {
   "cell_type": "code",
   "execution_count": 121,
   "metadata": {},
   "outputs": [],
   "source": [
    "# Find values of acct_cur that are equal to 1\n",
    "acct_eu = banking['acct_cur'] == 1\n",
    "\n",
    "# Convert acct_amount where it is in euro to dollars\n",
    "banking.loc[acct_eu, 'acct_amount'] = \\\n",
    "                        banking.loc[acct_eu, 'acct_amount'] * 1.1\n",
    "\n",
    "# Unify acct_cur column by changing 1 to 0\n",
    "banking.loc[acct_eu, 'acct_cur'] = 0\n",
    "\n",
    "# Print unique values of acct_cur\n",
    "assert banking['acct_cur'].unique() == 0"
   ]
  },
  {
   "cell_type": "code",
   "execution_count": 122,
   "metadata": {},
   "outputs": [
    {
     "name": "stdout",
     "output_type": "stream",
     "text": [
      "0    02-09-18\n",
      "1    28-02-19\n",
      "2    25-04-18\n",
      "3    07-11-17\n",
      "4    14-05-18\n",
      "Name: account_opened, dtype: object\n"
     ]
    },
    {
     "data": {
      "text/plain": [
       "0    2018\n",
       "1    2019\n",
       "2    2018\n",
       "3    2017\n",
       "4    2018\n",
       "Name: acct_year, dtype: object"
      ]
     },
     "execution_count": 122,
     "metadata": {},
     "output_type": "execute_result"
    }
   ],
   "source": [
    "# Print the header of account_opend\n",
    "print(banking['account_opened'].head())\n",
    "\n",
    "# Convert account_opened to datetime\n",
    "banking['account_opened'] = pd.to_datetime(banking['account_opened'],\n",
    "                                           # Infer datetime format\n",
    "                                           infer_datetime_format = True,\n",
    "                                           # Return missing value for error\n",
    "                                           errors = 'coerce') \n",
    "\n",
    "# Get year of account opened\n",
    "banking['acct_year'] = banking['account_opened'].dt.strftime('%Y')\n",
    "\n",
    "# Print acct_year\n",
    "banking['acct_year'].head()"
   ]
  },
  {
   "cell_type": "code",
   "execution_count": 123,
   "metadata": {},
   "outputs": [
    {
     "name": "stdout",
     "output_type": "stream",
     "text": [
      "Number of inconsistent investments:  8\n"
     ]
    }
   ],
   "source": [
    "# Store fund columns to sum against\n",
    "fund_columns = ['fund_A', 'fund_B', 'fund_C', 'fund_D']\n",
    "\n",
    "# Find rows where fund_columns row sum == inv_amount\n",
    "inv_equ = banking[fund_columns].sum(axis=1).agg(round) == banking.inv_amount\n",
    "\n",
    "# Store consistent and inconsistent data\n",
    "consistent_inv = banking[inv_equ]\n",
    "inconsistent_inv = banking[~inv_equ]\n",
    "\n",
    "# Store consistent and inconsistent data\n",
    "print(\"Number of inconsistent investments: \", inconsistent_inv.shape[0])"
   ]
  },
  {
   "cell_type": "code",
   "execution_count": 128,
   "metadata": {},
   "outputs": [
    {
     "name": "stdout",
     "output_type": "stream",
     "text": [
      "Number of inconsistent ages:  8\n"
     ]
    }
   ],
   "source": [
    "banking['birth_date'] = pd.to_datetime(banking['birth_date'],\n",
    "                                           # Infer datetime format\n",
    "                                           infer_datetime_format = True,\n",
    "                                           # Return missing value for error\n",
    "                                           errors = 'coerce') \n",
    "# Store today's date and find ages\n",
    "today = dt.date.today()\n",
    "ages_manual = today.year - banking.birth_date.dt.year\n",
    "\n",
    "\n",
    "\n",
    "# Find rows where age column == ages_manual\n",
    "age_equ = banking.Age == ages_manual\n",
    "\n",
    "# Store consistent and inconsistent data\n",
    "consistent_ages = banking[age_equ]\n",
    "inconsistent_ages = banking[~age_equ]\n",
    "\n",
    "# Store consistent and inconsistent data\n",
    "print(\"Number of inconsistent ages: \", inconsistent_ages.shape[0])"
   ]
  },
  {
   "cell_type": "markdown",
   "metadata": {},
   "source": [
    "## Missing data"
   ]
  },
  {
   "cell_type": "code",
   "execution_count": 130,
   "metadata": {},
   "outputs": [],
   "source": [
    "import missingno as msno"
   ]
  },
  {
   "cell_type": "code",
   "execution_count": 132,
   "metadata": {},
   "outputs": [
    {
     "name": "stdout",
     "output_type": "stream",
     "text": [
      "cust_id             0\n",
      "birth_date          0\n",
      "Age                 0\n",
      "acct_amount         0\n",
      "inv_amount          0\n",
      "fund_A              0\n",
      "fund_B              0\n",
      "fund_C              0\n",
      "fund_D              0\n",
      "account_opened      0\n",
      "last_transaction    0\n",
      "acct_cur            0\n",
      "acct_year           0\n",
      "dtype: int64\n"
     ]
    },
    {
     "data": {
      "image/png": "[encoded data removed]",
      "text/plain": [
       "<Figure size 1800x720 with 2 Axes>"
      ]
     },
     "metadata": {
      "needs_background": "dark"
     },
     "output_type": "display_data"
    },
    {
     "data": {
      "image/png": "[encoded data removed]",
      "text/plain": [
       "<Figure size 1800x720 with 2 Axes>"
      ]
     },
     "metadata": {
      "needs_background": "dark"
     },
     "output_type": "display_data"
    }
   ],
   "source": [
    "# Print number of missing values in banking\n",
    "print(banking.isna().sum())\n",
    "\n",
    "# Visualize missingness matrix\n",
    "msno.matrix(banking)\n",
    "plt.show()\n",
    "\n",
    "# Isolate missing and non missing values of inv_amount\n",
    "missing_investors = banking[banking['inv_amount'].isna()]\n",
    "investors = banking[~banking['inv_amount'].isna()]\n",
    "\n",
    "# Sort banking by age and visualize\n",
    "banking_sorted = banking.sort_values('Age')\n",
    "msno.matrix(banking_sorted)\n",
    "plt.show()"
   ]
  },
  {
   "cell_type": "code",
   "execution_count": 133,
   "metadata": {},
   "outputs": [
    {
     "name": "stdout",
     "output_type": "stream",
     "text": [
      "cust_id             0\n",
      "birth_date          0\n",
      "Age                 0\n",
      "acct_amount         0\n",
      "inv_amount          0\n",
      "fund_A              0\n",
      "fund_B              0\n",
      "fund_C              0\n",
      "fund_D              0\n",
      "account_opened      0\n",
      "last_transaction    0\n",
      "acct_cur            0\n",
      "acct_year           0\n",
      "dtype: int64\n"
     ]
    }
   ],
   "source": [
    "# Drop missing values of cust_id\n",
    "banking_fullid = banking.dropna(subset = ['cust_id'])\n",
    "\n",
    "# Compute estimated acct_amount\n",
    "acct_imp = banking_fullid['inv_amount'] * 5\n",
    "\n",
    "# Impute missing acct_amount with corresponding acct_imp\n",
    "banking_imputed = banking_fullid.fillna({'acct_amount':acct_imp})\n",
    "\n",
    "# Print number of missing values\n",
    "print(banking_imputed.isna().sum())"
   ]
  },
  {
   "cell_type": "markdown",
   "metadata": {},
   "source": [
    "## 字串相似度"
   ]
  },
  {
   "cell_type": "code",
   "execution_count": 136,
   "metadata": {},
   "outputs": [
    {
     "name": "stderr",
     "output_type": "stream",
     "text": [
      "/Users/ellick/anaconda3/envs/datacamp/lib/python3.7/site-packages/fuzzywuzzy/fuzz.py:11: UserWarning: Using slow pure-python SequenceMatcher. Install python-Levenshtein to remove this warning\n",
      "  warnings.warn('Using slow pure-python SequenceMatcher. Install python-Levenshtein to remove this warning')\n"
     ]
    }
   ],
   "source": [
    "from fuzzywuzzy import process as fuzpro"
   ]
  },
  {
   "cell_type": "code",
   "execution_count": 153,
   "metadata": {},
   "outputs": [
    {
     "data": {
      "text/plain": [
       "array(['la', 'hollywood', 'pasadena', 'los angeles', 'new york',\n",
       "       'studio city', 'venice', 'santa monica', 'mar vista',\n",
       "       'beverly hills', 'w. hollywood', 'encino', 'st. boyle hts .',\n",
       "       'westlake village', 'westwood', 'west la', 'chinatown',\n",
       "       'monterey park', 'rancho park', 'redondo beach', 'long beach',\n",
       "       'marina del rey', 'culver city', 'burbank', 'century city',\n",
       "       'malibu', 'seal beach', 'northridge', 'st. hermosa beach'],\n",
       "      dtype=object)"
      ]
     },
     "execution_count": 153,
     "metadata": {},
     "output_type": "execute_result"
    }
   ],
   "source": [
    "restaurants = pd.read_csv('restaurants_L2_dirty.csv', index_col=0)\n",
    "restaurants.head()\n",
    "restaurants.city.unique()"
   ]
  },
  {
   "cell_type": "code",
   "execution_count": 156,
   "metadata": {},
   "outputs": [
    {
     "data": {
      "text/plain": [
       "[('hollywood', 100),\n",
       " ('w. hollywood', 95),\n",
       " ('westwood', 47),\n",
       " ('la', 45),\n",
       " ('chinatown', 33),\n",
       " ('westlake village', 28),\n",
       " ('beverly hills', 27),\n",
       " ('redondo beach', 26),\n",
       " ('marina del rey', 26),\n",
       " ('west la', 24),\n",
       " ('northridge', 21),\n",
       " ('los angeles', 20),\n",
       " ('studio city', 20),\n",
       " ('rancho park', 20),\n",
       " ('long beach', 20),\n",
       " ('culver city', 20),\n",
       " ('seal beach', 20),\n",
       " ('st. hermosa beach', 20),\n",
       " ('monterey park', 18),\n",
       " ('encino', 15),\n",
       " ('malibu', 15),\n",
       " ('pasadena', 12),\n",
       " ('new york', 12),\n",
       " ('santa monica', 10),\n",
       " ('st. boyle hts .', 10),\n",
       " ('century city', 10),\n",
       " ('venice', 0),\n",
       " ('mar vista', 0),\n",
       " ('burbank', 0)]"
      ]
     },
     "execution_count": 156,
     "metadata": {},
     "output_type": "execute_result"
    }
   ],
   "source": [
    "fuzpro.extract('hollywood', restaurants.city.unique(), \n",
    "                 limit = len(restaurants))"
   ]
  },
  {
   "cell_type": "code",
   "execution_count": 146,
   "metadata": {},
   "outputs": [],
   "source": [
    "categories =  ['asian', 'american', 'italian']"
   ]
  },
  {
   "cell_type": "code",
   "execution_count": 149,
   "metadata": {},
   "outputs": [
    {
     "name": "stdout",
     "output_type": "stream",
     "text": [
      "['american' 'californian' 'japanese' 'cajun/creole' 'hot dogs' 'diners'\n",
      " 'delis' 'hamburgers' 'seafood' 'italian' 'coffee shops' 'russian'\n",
      " 'steakhouses' 'mexican/tex-mex' 'noodle shops' 'middle eastern' 'asian'\n",
      " 'vietnamese' 'health food' 'pacific new wave' 'indonesian' 'eclectic'\n",
      " 'chicken' 'fast food' 'southern/soul' 'coffeebar' 'continental'\n",
      " 'french ( new )' 'desserts' 'chinese' 'pizza']\n"
     ]
    }
   ],
   "source": [
    "# For each correct cuisine_type in categories\n",
    "for cuisine in categories:\n",
    "    # Find matches in cuisine_type of restaurants\n",
    "    matches = fuzpro.extract(cuisine, restaurants['type'], \n",
    "                 limit = len(restaurants))\n",
    "  # For each possible_match with similarity score >= 80\n",
    "    for possible_match in matches:\n",
    "        if possible_match[1] >= 80:\n",
    "      # Find matching cuisine type\n",
    "            matching_cuisine = restaurants['type'] == possible_match[0]\n",
    "            restaurants.loc[matching_cuisine, 'type'] = cuisine\n",
    "\n",
    "# Print unique values to confirm mapping\n",
    "print(restaurants['type'].unique())"
   ]
  },
  {
   "cell_type": "markdown",
   "metadata": {},
   "source": [
    "## Generating pairs"
   ]
  },
  {
   "cell_type": "code",
   "execution_count": 157,
   "metadata": {},
   "outputs": [],
   "source": [
    "# # Create an indexer and object and find possible pairs\n",
    "# indexer = recordlinkage.Index()\n",
    "\n",
    "# # Block pairing on cuisine_type\n",
    "# indexer.block('cuisine_type')\n",
    "\n",
    "# # Generate pairs\n",
    "# pairs = indexer.index(restaurants, restaurants_new)"
   ]
  },
  {
   "cell_type": "code",
   "execution_count": 158,
   "metadata": {},
   "outputs": [],
   "source": [
    "# # Create a comparison object\n",
    "# comp_cl = recordlinkage.Compare()\n",
    "\n",
    "# # Find exact matches on city, cuisine_types - \n",
    "# comp_cl.exact('city', 'city', label='city')\n",
    "# comp_cl.exact('cuisine_type', 'cuisine_type', label='cuisine_type')\n",
    "\n",
    "# # Find similar matches of rest_name\n",
    "# comp_cl.string('rest_name', 'rest_name', label='name', threshold = 0.8) \n",
    "\n",
    "# # Get potential matches and print\n",
    "# potential_matches = comp_cl.compute(pairs, restaurants, restaurants_new)\n",
    "# print(potential_matches)"
   ]
  },
  {
   "cell_type": "code",
   "execution_count": 159,
   "metadata": {},
   "outputs": [],
   "source": [
    "# # Isolate potential matches with row sum >=3\n",
    "# matches = potential_matches[potential_matches.sum(axis=1) >= 3]\n",
    "\n",
    "# # Get values of second column index of matches\n",
    "# matching_indices = matches.index.get_level_values(1)\n",
    "\n",
    "# # Subset restaurants_new based on non-duplicate values\n",
    "# non_dup = restaurants_new[~restaurants_new.index.isin(matching_indices)]\n",
    "\n",
    "# # Append non_dup to restaurants\n",
    "# full_restaurants = restaurants.append(non_dup)\n",
    "# print(full_restaurants)"
   ]
  },
  {
   "cell_type": "code",
   "execution_count": null,
   "metadata": {},
   "outputs": [],
   "source": []
  }
 ],
 "metadata": {
  "kernelspec": {
   "display_name": "Python [conda env:datacamp]",
   "language": "python",
   "name": "conda-env-datacamp-py"
  },
  "language_info": {
   "codemirror_mode": {
    "name": "ipython",
    "version": 3
   },
   "file_extension": ".py",
   "mimetype": "text/x-python",
   "name": "python",
   "nbconvert_exporter": "python",
   "pygments_lexer": "ipython3",
   "version": "3.7.4"
  },
  "toc": {
   "base_numbering": 1,
   "nav_menu": {},
   "number_sections": true,
   "sideBar": false,
   "skip_h1_title": true,
   "title_cell": "Table of Contents",
   "title_sidebar": "Contents",
   "toc_cell": true,
   "toc_position": {
    "height": "537.628662109375px",
    "left": "1224.7867431640625px",
    "top": "59.5036735534668px",
    "width": "256.3970642089844px"
   },
   "toc_section_display": false,
   "toc_window_display": true
  },
  "varInspector": {
   "cols": {
    "lenName": 16,
    "lenType": 16,
    "lenVar": 40
   },
   "kernels_config": {
    "python": {
     "delete_cmd_postfix": "",
     "delete_cmd_prefix": "del ",
     "library": "var_list.py",
     "varRefreshCmd": "print(var_dic_list())"
    },
    "r": {
     "delete_cmd_postfix": ") ",
     "delete_cmd_prefix": "rm(",
     "library": "var_list.r",
     "varRefreshCmd": "cat(var_dic_list()) "
    }
   },
   "types_to_exclude": [
    "module",
    "function",
    "builtin_function_or_method",
    "instance",
    "_Feature"
   ],
   "window_display": false
  }
 },
 "nbformat": 4,
 "nbformat_minor": 2
}
