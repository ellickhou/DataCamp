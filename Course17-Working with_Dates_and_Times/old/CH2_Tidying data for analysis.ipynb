{
 "cells": [
  {
   "cell_type": "markdown",
   "metadata": {},
   "source": [
    "# Tidying data for analysis"
   ]
  },
  {
   "cell_type": "markdown",
   "metadata": {
    "toc": true
   },
   "source": [
    "<h1>Table of Contents<span class=\"tocSkip\"></span></h1>\n",
    "<div class=\"toc\"><ul class=\"toc-item\"><li><span><a href=\"#Tidy-data\" data-toc-modified-id=\"Tidy-data-1\"><span class=\"toc-item-num\">1&nbsp;&nbsp;</span>Tidy data</a></span></li><li><span><a href=\"#Pivoting-data\" data-toc-modified-id=\"Pivoting-data-2\"><span class=\"toc-item-num\">2&nbsp;&nbsp;</span>Pivoting data</a></span></li><li><span><a href=\"#Beyond-melt-and-pivot\" data-toc-modified-id=\"Beyond-melt-and-pivot-3\"><span class=\"toc-item-num\">3&nbsp;&nbsp;</span>Beyond melt and pivot</a></span></li></ul></div>"
   ]
  },
  {
   "cell_type": "markdown",
   "metadata": {},
   "source": [
    "## Tidy data"
   ]
  },
  {
   "cell_type": "markdown",
   "metadata": {},
   "source": [
    "- Tidy Data\n",
    "    - “Tidy Data” paper by Hadley Wickham, PhD\n",
    "    - Formalize the way we describe the shape of data\n",
    "    - Gives us a goal when forma!ing our data\n",
    "    - “Standard way to organize data values within a dataset”\n",
    "- Principles of tidy data\n",
    "    - Columns represent separate variables \n",
    "    - Rows represent individual observations \n",
    "    - Observational units form tables\n",
    "-  Converting to tidy data\n",
    "    - Better for reporting to better for analysis\n",
    "    - Tidy data makes it easier to fix common data problems\n",
    "        - Columns containing values, instead of variables\n",
    "    - Solution: pd.melt()\n",
    "                 In [1]: pd.melt(frame=df, id_vars='name',value_vars=['treatment a', 'treatment b'])\n",
    "                Out[1]:\n",
    "                               name    variable       value\n",
    "                            0 Daniel treatment a     _ \n",
    "                            1 John    treatment a    12 \n",
    "                            2 Jane   treatment a    24 \n",
    "                            3 Daniel treatment b    42 \n",
    "                            4 John   treatment b    31 \n",
    "                            5 Jane   treatment b    27\n",
    "                 In [2]: pd.melt(frame=df, id_vars='name',value_vars=['treatment a', 'treatment b’],var_name='treatment', value_name='result')\n",
    "                Out[2]:\n",
    "                                name    treatment   result\n",
    "                            0  Daniel  treatment a      _\n",
    "                            1    John  treatment a     12\n",
    "                            2    Jane  treatment a     24\n",
    "                            3  Daniel  treatment b     42\n",
    "                            4    John  treatment b     31\n",
    "                            5    Jane  treatment b     27\n",
    "        - id_vars \n",
    "            - represent the columns of the data you do not want to melt (i.e., keep it in its current shape)\n",
    "        - value_vars \n",
    "            - represent the columns you do wish to melt into rows.\n",
    "        -  if no value_vars are provided, all columns not set in the id_vars will be melted. "
   ]
  },
  {
   "cell_type": "code",
   "execution_count": 1,
   "metadata": {},
   "outputs": [],
   "source": [
    "import numpy as np\n",
    "import pandas as pd\n",
    "import matplotlib.pyplot as plt\n",
    "import jupyterthemes.jtplot as jtplot\n",
    "%matplotlib inline\n",
    "jtplot.style(theme='onedork')"
   ]
  },
  {
   "cell_type": "code",
   "execution_count": 2,
   "metadata": {},
   "outputs": [
    {
     "name": "stdout",
     "output_type": "stream",
     "text": [
      "   Ozone  Solar.R  Wind  Temp  Month  Day\n",
      "0   41.0    190.0   7.4    67      5    1\n",
      "1   36.0    118.0   8.0    72      5    2\n",
      "2   12.0    149.0  12.6    74      5    3\n",
      "3   18.0    313.0  11.5    62      5    4\n",
      "4    NaN      NaN  14.3    56      5    5\n",
      "   Month  Day variable  value\n",
      "0      5    1    Ozone   41.0\n",
      "1      5    2    Ozone   36.0\n",
      "2      5    3    Ozone   12.0\n",
      "3      5    4    Ozone   18.0\n",
      "4      5    5    Ozone    NaN\n",
      "   Month  Day measurement  reading\n",
      "0      5    1       Ozone     41.0\n",
      "1      5    2       Ozone     36.0\n",
      "2      5    3       Ozone     12.0\n",
      "3      5    4       Ozone     18.0\n",
      "4      5    5       Ozone      NaN\n"
     ]
    }
   ],
   "source": [
    "airquality = pd.read_csv('exercise/airquality.csv')\n",
    "# Print the head of airquality\n",
    "print(airquality.head())\n",
    "\n",
    "# Melt airquality: airquality_melt\n",
    "airquality_melt = pd.melt(frame=airquality, id_vars=['Month','Day'])\n",
    "\n",
    "# Print the head of airquality_melt\n",
    "print(airquality_melt.head())\n",
    "\n",
    "# Melt airquality: airquality_melt\n",
    "airquality_melt = pd.melt(airquality, id_vars=['Month', 'Day'], var_name='measurement'\n",
    "                                      , value_name='reading')\n",
    "\n",
    "# Print the head of airquality_melt\n",
    "print(airquality_melt.head())\n"
   ]
  },
  {
   "cell_type": "markdown",
   "metadata": {},
   "source": [
    "## Pivoting data"
   ]
  },
  {
   "cell_type": "markdown",
   "metadata": {},
   "source": [
    "- Pivot: un-melting data\n",
    "    - Opposite of melting\n",
    "    - Turn unique values into separate columns\n",
    "    - Analysis friendly shape to reporting friendly shape\n",
    "    - Violates tidy data principle: rows contain observations\n",
    "        - Multiple variables stored in the same column\n",
    "                In [1]: weather_tidy = weather.pivot(index='date',columns='element',values='value')\n",
    "                In [2]: print(weather_tidy)\n",
    "                element     tmax tmin\n",
    "                date\n",
    "                2010-01-30  27.8 14.5\n",
    "                2010-02-02  27.3 14.4\n",
    "    - Using pivot when you have duplicate entries\n",
    "        - ValueError: Index contains duplicate entries, cannot reshape\n",
    "- Pivot table\n",
    "    - Has a parameter that specifies how to deal with duplicate values\n",
    "    - Example: Can aggregate the duplicate values by taking their average\n",
    "             In [5]: weather2_tidy = weather.pivot_table(values='value',index='date',columns='element',aggfunc=np.mean)\n",
    "            Out[5]:\n",
    "            element\n",
    "            date            tmax tmin\n",
    "            2010-01-30  27.8 14.5\n",
    "            2010-02-02  27.3 15.4\n",
    "    - index \n",
    "        - Specify the columns that you don't want pivoted\n",
    "    - columns \n",
    "        - The name of the column you want to pivot\n",
    "    - Values\n",
    "        - The values to be used when the column is pivoted \n",
    "    - aggfunc\n",
    "        - aggregation function"
   ]
  },
  {
   "cell_type": "code",
   "execution_count": 3,
   "metadata": {},
   "outputs": [
    {
     "name": "stdout",
     "output_type": "stream",
     "text": [
      "   Month  Day measurement  reading\n",
      "0      5    1       Ozone     41.0\n",
      "1      5    2       Ozone     36.0\n",
      "2      5    3       Ozone     12.0\n",
      "3      5    4       Ozone     18.0\n",
      "4      5    5       Ozone      NaN\n",
      "measurement  Ozone  Solar.R  Temp  Wind\n",
      "Month Day                              \n",
      "5     1       41.0    190.0  67.0   7.4\n",
      "      2       36.0    118.0  72.0   8.0\n",
      "      3       12.0    149.0  74.0  12.6\n",
      "      4       18.0    313.0  62.0  11.5\n",
      "      5        NaN      NaN  56.0  14.3\n",
      "airquality_pivot's index also call multiIndex, see in airquality_pivot.head(), Month value '5' contains 5 different Day value\n"
     ]
    }
   ],
   "source": [
    "# Print the head of airquality_melt\n",
    "print(airquality_melt.head())\n",
    "\n",
    "# Pivot airquality_melt: airquality_pivot\n",
    "airquality_pivot = airquality_melt.pivot_table(index=['Month', 'Day'], columns='measurement', values='reading')\n",
    "\n",
    "# Print the head of airquality_pivot\n",
    "print(airquality_pivot.head())\n",
    "print('airquality_pivot\\'s index also call multiIndex, see in airquality_pivot.head(), \\\n",
    "Month value \\'5\\' contains 5 different Day value')"
   ]
  },
  {
   "cell_type": "code",
   "execution_count": 4,
   "metadata": {},
   "outputs": [
    {
     "name": "stdout",
     "output_type": "stream",
     "text": [
      "MultiIndex([(5,  1),\n",
      "            (5,  2),\n",
      "            (5,  3),\n",
      "            (5,  4),\n",
      "            (5,  5),\n",
      "            (5,  6),\n",
      "            (5,  7),\n",
      "            (5,  8),\n",
      "            (5,  9),\n",
      "            (5, 10),\n",
      "            ...\n",
      "            (9, 21),\n",
      "            (9, 22),\n",
      "            (9, 23),\n",
      "            (9, 24),\n",
      "            (9, 25),\n",
      "            (9, 26),\n",
      "            (9, 27),\n",
      "            (9, 28),\n",
      "            (9, 29),\n",
      "            (9, 30)],\n",
      "           names=['Month', 'Day'], length=153)\n",
      "RangeIndex(start=0, stop=153, step=1)\n",
      "measurement  Month  Day  Ozone  Solar.R  Temp  Wind\n",
      "0                5    1   41.0    190.0  67.0   7.4\n",
      "1                5    2   36.0    118.0  72.0   8.0\n",
      "2                5    3   12.0    149.0  74.0  12.6\n",
      "3                5    4   18.0    313.0  62.0  11.5\n",
      "4                5    5    NaN      NaN  56.0  14.3\n"
     ]
    }
   ],
   "source": [
    "# Print the index of airquality_pivot\n",
    "print(airquality_pivot.index)\n",
    "\n",
    "# Reset the index of airquality_pivot: airquality_pivot_reset\n",
    "airquality_pivot_reset = airquality_pivot.reset_index()\n",
    "\n",
    "# Print the new index of airquality_pivot_reset\n",
    "print(airquality_pivot_reset.index)\n",
    "\n",
    "# Print the head of airquality_pivot_reset\n",
    "print(airquality_pivot_reset.head())\n"
   ]
  },
  {
   "cell_type": "code",
   "execution_count": 5,
   "metadata": {},
   "outputs": [
    {
     "name": "stdout",
     "output_type": "stream",
     "text": [
      "measurement  Ozone  Solar.R  Temp  Wind\n",
      "Month Day                              \n",
      "5     1       41.0    190.0  67.0   7.4\n",
      "      2       36.0    118.0  72.0   8.0\n",
      "      3       12.0    149.0  74.0  12.6\n",
      "      4       18.0    313.0  62.0  11.5\n",
      "      5        NaN      NaN  56.0  14.3\n",
      "measurement  Month  Day  Ozone  Solar.R  Temp  Wind\n",
      "0                5    1   41.0    190.0  67.0   7.4\n",
      "1                5    2   36.0    118.0  72.0   8.0\n",
      "2                5    3   12.0    149.0  74.0  12.6\n",
      "3                5    4   18.0    313.0  62.0  11.5\n",
      "4                5    5    NaN      NaN  56.0  14.3\n",
      "   Ozone  Solar.R  Wind  Temp  Month  Day\n",
      "0   41.0    190.0   7.4    67      5    1\n",
      "1   36.0    118.0   8.0    72      5    2\n",
      "2   12.0    149.0  12.6    74      5    3\n",
      "3   18.0    313.0  11.5    62      5    4\n",
      "4    NaN      NaN  14.3    56      5    5\n"
     ]
    }
   ],
   "source": [
    "# Pivot table the airquality_dup: airquality_pivot\n",
    "airquality_pivot = airquality_melt.pivot_table(index=['Month', 'Day'], \n",
    "                                          columns='measurement', values='reading', aggfunc=np.mean)\n",
    "\n",
    "# Print the head of airquality_pivot before reset_index\n",
    "print(airquality_pivot.head())\n",
    "\n",
    "# Reset the index of airquality_pivot\n",
    "airquality_pivot = airquality_pivot.reset_index()\n",
    "\n",
    "# Print the head of airquality_pivot\n",
    "print(airquality_pivot.head())\n",
    "\n",
    "# Print the head of airquality\n",
    "print(airquality.head())"
   ]
  },
  {
   "cell_type": "markdown",
   "metadata": {},
   "source": [
    "## Beyond melt and pivot"
   ]
  },
  {
   "cell_type": "markdown",
   "metadata": {},
   "source": [
    "- Melting and pivoting are basic tools \n",
    "- Another common problem:\n",
    "    - Columns contain multiple bits of information\n",
    "- Melting and parsing\n",
    "    - tb.csv\n",
    "        - Nothing inherently wrong about original data shape \n",
    "        - Not conducive for analysis\n",
    "        - 'm014' column\n",
    "            - represents males aged 0-14 years of age\n",
    "            - to parse this value\n",
    "                - a new column for gender\n",
    "                - a new column for age_group\n",
    "- Splitting a column with .split() and .get()\n",
    "    - column names such as Cases_Guinea and Deaths_Guinea\n",
    "        - cannot directly slice the variable by position\n",
    "    - .split()\n",
    "        - Python's built-in string method\n",
    "            - have to access the str attribute before use .split()\n",
    "        - 'Cases_Guinea'.split('_')\n",
    "            - returns list ['Cases', 'Guinea']\n",
    "    - .get()\n",
    "        - Python's built-in string method\n",
    "            - have to access the str attribute before use .get()\n",
    "        - to extract elements\n",
    "            - by index\n",
    "        \n"
   ]
  },
  {
   "cell_type": "code",
   "execution_count": 6,
   "metadata": {},
   "outputs": [
    {
     "name": "stdout",
     "output_type": "stream",
     "text": [
      "  country  year variable  value gender age_group\n",
      "0      AD  2000     m014    0.0      m       014\n",
      "1      AE  2000     m014    2.0      m       014\n",
      "2      AF  2000     m014   52.0      m       014\n",
      "3      AG  2000     m014    0.0      m       014\n",
      "4      AL  2000     m014    2.0      m       014\n"
     ]
    }
   ],
   "source": [
    "tb = pd.read_csv('exercise/tb.csv')\n",
    "#print(tb.head())\n",
    "\n",
    "# Melt tb: tb_melt\n",
    "tb_melt = tb.melt(id_vars=['country', 'year'])\n",
    "\n",
    "# Create the 'gender' column\n",
    "tb_melt['gender'] = tb_melt.variable.str[0]\n",
    "\n",
    "# Create the 'age_group' column\n",
    "tb_melt['age_group'] = tb_melt.variable.str[1:]\n",
    "\n",
    "# Print the head of tb_melt\n",
    "print(tb_melt.head())\n"
   ]
  },
  {
   "cell_type": "code",
   "execution_count": 7,
   "metadata": {},
   "outputs": [
    {
     "name": "stdout",
     "output_type": "stream",
     "text": [
      "         Date  Day  type_country  counts        str_split   type country\n",
      "0    1/5/2015  289  Cases_Guinea  2776.0  [Cases, Guinea]  Cases  Guinea\n",
      "1    1/4/2015  288  Cases_Guinea  2775.0  [Cases, Guinea]  Cases  Guinea\n",
      "2    1/3/2015  287  Cases_Guinea  2769.0  [Cases, Guinea]  Cases  Guinea\n",
      "3    1/2/2015  286  Cases_Guinea     NaN  [Cases, Guinea]  Cases  Guinea\n",
      "4  12/31/2014  284  Cases_Guinea  2730.0  [Cases, Guinea]  Cases  Guinea\n"
     ]
    }
   ],
   "source": [
    "ebola = pd.read_csv('exercise/ebola.csv')\n",
    "#print(ebola.columns)\n",
    "\n",
    "# Melt ebola: ebola_melt\n",
    "ebola_melt = pd.melt(ebola, id_vars=['Date', 'Day'],\n",
    "                     var_name='type_country', value_name='counts')\n",
    "\n",
    "# Create the 'str_split' column\n",
    "ebola_melt['str_split'] = ebola_melt['type_country'].str.split('_')\n",
    "\n",
    "# Create the 'type' column\n",
    "ebola_melt['type'] = ebola_melt['str_split'].str.get(0)\n",
    "\n",
    "# Create the 'country' column\n",
    "ebola_melt['country'] = ebola_melt['str_split'].str.get(1)\n",
    "\n",
    "# Print the head of ebola_melt\n",
    "print(ebola_melt.head())"
   ]
  }
 ],
 "metadata": {
  "kernelspec": {
   "display_name": "Python 3",
   "language": "python",
   "name": "python3"
  },
  "language_info": {
   "codemirror_mode": {
    "name": "ipython",
    "version": 3
   },
   "file_extension": ".py",
   "mimetype": "text/x-python",
   "name": "python",
   "nbconvert_exporter": "python",
   "pygments_lexer": "ipython3",
   "version": "3.7.4"
  },
  "toc": {
   "base_numbering": 1,
   "nav_menu": {},
   "number_sections": true,
   "sideBar": false,
   "skip_h1_title": true,
   "title_cell": "Table of Contents",
   "title_sidebar": "Contents",
   "toc_cell": true,
   "toc_position": {},
   "toc_section_display": true,
   "toc_window_display": false
  },
  "varInspector": {
   "cols": {
    "lenName": 16,
    "lenType": 16,
    "lenVar": 40
   },
   "kernels_config": {
    "python": {
     "delete_cmd_postfix": "",
     "delete_cmd_prefix": "del ",
     "library": "var_list.py",
     "varRefreshCmd": "print(var_dic_list())"
    },
    "r": {
     "delete_cmd_postfix": ") ",
     "delete_cmd_prefix": "rm(",
     "library": "var_list.r",
     "varRefreshCmd": "cat(var_dic_list()) "
    }
   },
   "types_to_exclude": [
    "module",
    "function",
    "builtin_function_or_method",
    "instance",
    "_Feature"
   ],
   "window_display": false
  }
 },
 "nbformat": 4,
 "nbformat_minor": 2
}
