{
 "cells": [
  {
   "cell_type": "markdown",
   "metadata": {},
   "source": [
    "# Logic, Control Flow and Filtering"
   ]
  },
  {
   "cell_type": "markdown",
   "metadata": {
    "toc": true
   },
   "source": [
    "<h1>Table of Contents<span class=\"tocSkip\"></span></h1>\n",
    "<div class=\"toc\"><ul class=\"toc-item\"><li><span><a href=\"#Comparison-Operators\" data-toc-modified-id=\"Comparison-Operators-1\"><span class=\"toc-item-num\">1&nbsp;&nbsp;</span>Comparison Operators</a></span><ul class=\"toc-item\"><li><span><a href=\"#Comparisons\" data-toc-modified-id=\"Comparisons-1.1\"><span class=\"toc-item-num\">1.1&nbsp;&nbsp;</span>Comparisons</a></span></li></ul></li><li><span><a href=\"#Boolean-Operators\" data-toc-modified-id=\"Boolean-Operators-2\"><span class=\"toc-item-num\">2&nbsp;&nbsp;</span>Boolean Operators</a></span></li><li><span><a href=\"#Conditional-Statements\" data-toc-modified-id=\"Conditional-Statements-3\"><span class=\"toc-item-num\">3&nbsp;&nbsp;</span>Conditional Statements</a></span></li><li><span><a href=\"#Filtering-Pandas-DataFrame\" data-toc-modified-id=\"Filtering-Pandas-DataFrame-4\"><span class=\"toc-item-num\">4&nbsp;&nbsp;</span>Filtering Pandas DataFrame</a></span></li></ul></div>"
   ]
  },
  {
   "cell_type": "markdown",
   "metadata": {},
   "source": [
    "## Comparison Operators"
   ]
  },
  {
   "cell_type": "markdown",
   "metadata": {},
   "source": [
    "* \"<\"\n",
    "    * strictly less than\n",
    "* \"<=\"\n",
    "    * less than or equal\n",
    "* \">\"\n",
    "    * strictly greater than\n",
    "* \">=\"\n",
    "    * greater than or equal\n",
    "* \"==\"\n",
    "    * equal\n",
    "* \"!=\"\n",
    "    * not equal"
   ]
  },
  {
   "cell_type": "markdown",
   "metadata": {},
   "source": [
    "### Comparisons"
   ]
  },
  {
   "cell_type": "code",
   "execution_count": 1,
   "metadata": {
    "code_folding": []
   },
   "outputs": [
    {
     "name": "stdout",
     "output_type": "stream",
     "text": [
      "False\n",
      "True\n",
      "False\n",
      "True\n",
      "False\n",
      "True\n",
      "True\n"
     ]
    }
   ],
   "source": [
    "# Comparison of booleans\n",
    "print(True == False)\n",
    "\n",
    "# Comparison of integers\n",
    "print(-5 * 15 != 75)\n",
    "\n",
    "# Comparison of strings\n",
    "print(\"pyscript\" == \"PyScript\")\n",
    "\n",
    "# Compare a boolean with an integer\n",
    "print(True == 1)\n",
    "\n",
    "# Comparison of integers\n",
    "x = -3 * 6\n",
    "print(x >= -10)\n",
    "\n",
    "# Comparison of strings\n",
    "y = \"test\"\n",
    "print(y >= \"test\")\n",
    "\n",
    "# Comparison of booleans\n",
    "print(True > False)\n",
    "\n"
   ]
  },
  {
   "cell_type": "code",
   "execution_count": 2,
   "metadata": {
    "code_folding": []
   },
   "outputs": [
    {
     "name": "stdout",
     "output_type": "stream",
     "text": [
      "[ True  True False False]\n",
      "[False  True  True False]\n"
     ]
    }
   ],
   "source": [
    "# Create arrays\n",
    "import numpy as np\n",
    "my_house = np.array([18.0, 20.0, 10.75, 9.50])\n",
    "your_house = np.array([14.0, 24.0, 14.25, 9.0])\n",
    "\n",
    "# my_house greater than or equal to 18\n",
    "print(my_house >= 18)\n",
    "\n",
    "# my_house less than your_house\n",
    "print(my_house < your_house)"
   ]
  },
  {
   "cell_type": "markdown",
   "metadata": {},
   "source": [
    "## Boolean Operators"
   ]
  },
  {
   "cell_type": "markdown",
   "metadata": {},
   "source": [
    "* and\n",
    "    * return *True* if and only if both statements are True\n",
    "* or\n",
    "    * return *True* if any statements are True\n",
    "* not\n",
    "    * return the opposite of the statement\n",
    "\n",
    "np.array \n",
    "* np.logical_and()\n",
    "        np.logical_and(np.array > 21, np.array < 22)"
   ]
  },
  {
   "cell_type": "code",
   "execution_count": 3,
   "metadata": {},
   "outputs": [
    {
     "name": "stdout",
     "output_type": "stream",
     "text": [
      "False\n",
      "True\n",
      "True\n"
     ]
    }
   ],
   "source": [
    "# Define variables\n",
    "my_kitchen = 18.0\n",
    "your_kitchen = 14.0\n",
    "\n",
    "# my_kitchen bigger than 10 and smaller than 18?\n",
    "print(my_kitchen > 10 and my_kitchen < 18)\n",
    "\n",
    "# my_kitchen smaller than 14 or bigger than 17?\n",
    "print(my_kitchen > 17 or my_kitchen < 14)\n",
    "\n",
    "# Double my_kitchen smaller than triple your_kitchen?\n",
    "print(my_kitchen*2 < your_kitchen*3)\n",
    "\n"
   ]
  },
  {
   "cell_type": "code",
   "execution_count": 4,
   "metadata": {},
   "outputs": [
    {
     "data": {
      "text/plain": [
       "False"
      ]
     },
     "execution_count": 4,
     "metadata": {},
     "output_type": "execute_result"
    }
   ],
   "source": [
    "# What will the result be if you execute these three commands in the IPython Shell?\n",
    "# Notice that not has a higher priority than and and or, it is executed first.\n",
    "x = 8\n",
    "y = 9\n",
    "not(not(x < 3) and not(y > 14 or y > 10))"
   ]
  },
  {
   "cell_type": "code",
   "execution_count": 5,
   "metadata": {},
   "outputs": [
    {
     "name": "stdout",
     "output_type": "stream",
     "text": [
      "[False  True False  True]\n",
      "[False False False  True]\n"
     ]
    }
   ],
   "source": [
    "# Create arrays\n",
    "import numpy as np\n",
    "my_house = np.array([18.0, 20.0, 10.75, 9.50])\n",
    "your_house = np.array([14.0, 24.0, 14.25, 9.0])\n",
    "\n",
    "# my_house greater than 18.5 or smaller than 10\n",
    "print(np.logical_or(my_house >18.5 , my_house <10))\n",
    "\n",
    "# Both my_house and your_house smaller than 11\n",
    "print(np.logical_and(my_house<11, your_house<11))"
   ]
  },
  {
   "cell_type": "markdown",
   "metadata": {},
   "source": [
    "## Conditional Statements"
   ]
  },
  {
   "cell_type": "markdown",
   "metadata": {},
   "source": [
    "1. if  \n",
    "    如果 條件判斷為True的話，執行敘述\n",
    "2. elif\n",
    "    不然如果 條件2判斷為True的話，執行敘述\n",
    "3. else  \n",
    "    所有條件都不滿足的話，執行敘述  \n",
    "    \n",
    "Python會依照 Conditional Statements 程式碼的執行順序判斷，當 if 為 True時就會執行相對應的敘述(expression)，並且結束條件判斷，就算elif條件滿足也不會執行其對應的敘述。"
   ]
  },
  {
   "cell_type": "code",
   "execution_count": 6,
   "metadata": {},
   "outputs": [
    {
     "name": "stdout",
     "output_type": "stream",
     "text": [
      "looking around in the kitchen.\n",
      "pretty small.\n"
     ]
    }
   ],
   "source": [
    "# Define variables\n",
    "room = \"kit\"\n",
    "area = 14.0\n",
    "\n",
    "# if-else construct for room\n",
    "if room == \"kit\" :\n",
    "    print(\"looking around in the kitchen.\")\n",
    "else :\n",
    "    print(\"looking around elsewhere.\")\n",
    "\n",
    "# if-else construct for area\n",
    "if area > 15 :\n",
    "    print(\"big place!\")\n",
    "else:\n",
    "    print(\"pretty small.\")"
   ]
  },
  {
   "cell_type": "code",
   "execution_count": 7,
   "metadata": {},
   "outputs": [
    {
     "name": "stdout",
     "output_type": "stream",
     "text": [
      "looking around in the bedroom.\n",
      "medium size, nice!\n"
     ]
    }
   ],
   "source": [
    "# Define variables\n",
    "room = \"bed\"\n",
    "area = 14.0\n",
    "\n",
    "# if-elif-else construct for room\n",
    "if room == \"kit\" :\n",
    "    print(\"looking around in the kitchen.\")\n",
    "elif room == \"bed\":\n",
    "    print(\"looking around in the bedroom.\")\n",
    "else :\n",
    "    print(\"looking around elsewhere.\")\n",
    "\n",
    "# if-elif-else construct for area\n",
    "if area > 15 :\n",
    "    print(\"big place!\")\n",
    "elif area > 10 :\n",
    "    print( \"medium size, nice!\" )\n",
    "else :\n",
    "    print(\"pretty small.\")"
   ]
  },
  {
   "cell_type": "markdown",
   "metadata": {},
   "source": [
    "## Filtering Pandas DataFrame"
   ]
  },
  {
   "cell_type": "markdown",
   "metadata": {},
   "source": [
    "1. Get column  \n",
    "    * Needs \"Pandas Series\" type\n",
    "            pandas_dataframe_name[\"col_title\"]\n",
    "2. Compare\n",
    "    * \n",
    "            ture_false_series = pandas_dataframe_name[\"col_title\"] > 15\n",
    "    * type of ture_false_series = Pandas Series  \n",
    "    * type of elements in ture_false_series = bool\n",
    "3. Subset DateFrame\n",
    "    * input\n",
    "        1. \n",
    "                pandas_dataframe_name[ture_false_series]\n",
    "        2. \n",
    "                pandas_dataframe_name[pandas_dataframe_name[\"col_title\"] > 15]\n",
    "    * output  \n",
    "        The subset of pandas_dataframe_name if the corresponding value of crossponding is True"
   ]
  },
  {
   "cell_type": "code",
   "execution_count": 16,
   "metadata": {},
   "outputs": [
    {
     "name": "stdout",
     "output_type": "stream",
     "text": [
      "           country  drives_right  cars_per_cap\n",
      "US   United States          True           809\n",
      "RU          Russia          True           200\n",
      "MOR        Morocco          True            70\n",
      "EG           Egypt          True            45\n",
      "           country  drives_right  cars_per_cap\n",
      "US   United States          True           809\n",
      "RU          Russia          True           200\n",
      "MOR        Morocco          True            70\n",
      "EG           Egypt          True            45\n",
      "           country  drives_right  cars_per_cap\n",
      "US   United States          True           809\n",
      "AUS      Australia         False           731\n",
      "JAP          Japan         False           588\n",
      "<class 'pandas.core.frame.DataFrame'>\n"
     ]
    }
   ],
   "source": [
    "# Import cars data\n",
    "import pandas as pd\n",
    "cars = pd.read_csv('pandas_examples/cars.csv', index_col=0)\n",
    "\n",
    "# Extract drives_right column as Series: dr\n",
    "dr = cars[\"drives_right\"]\n",
    "\n",
    "# Use dr to subset cars: sel\n",
    "sel = dr == True\n",
    "\n",
    "# Print sel\n",
    "print(cars[sel])\n",
    "\n",
    "# Convert code to a one-liner\n",
    "print(cars[cars['drives_right'] == True])\n",
    "\n",
    "# Create car_maniac: observations that have a cars_per_cap over 500\n",
    "car_maniac = cars[cars[\"cars_per_cap\"] > 500]\n",
    "\n",
    "# Print car_maniac\n",
    "print(car_maniac)\n"
   ]
  },
  {
   "cell_type": "code",
   "execution_count": 9,
   "metadata": {},
   "outputs": [
    {
     "name": "stdout",
     "output_type": "stream",
     "text": [
      "   country  drives_right  cars_per_cap\n",
      "RU  Russia          True           200\n"
     ]
    }
   ],
   "source": [
    "# use np.array to achieve Boolean Operation\n",
    "import pandas as pd\n",
    "import numpy as np\n",
    "cars = pd.read_csv('pandas_examples/cars.csv', index_col=0)\n",
    "\n",
    "# Create medium: observations with cars_per_cap between 100 and 500\n",
    "cpc = cars['cars_per_cap']\n",
    "between = np.logical_and(cpc > 100, cpc < 500)\n",
    "medium = cars[between]\n",
    "\n",
    "# Print medium\n",
    "print(medium)"
   ]
  }
 ],
 "metadata": {
  "kernelspec": {
   "display_name": "DateCamp",
   "language": "python",
   "name": "datecamp"
  },
  "language_info": {
   "codemirror_mode": {
    "name": "ipython",
    "version": 3
   },
   "file_extension": ".py",
   "mimetype": "text/x-python",
   "name": "python",
   "nbconvert_exporter": "python",
   "pygments_lexer": "ipython3",
   "version": "3.7.3"
  },
  "toc": {
   "base_numbering": 1,
   "nav_menu": {},
   "number_sections": true,
   "sideBar": false,
   "skip_h1_title": true,
   "title_cell": "Table of Contents",
   "title_sidebar": "Contents",
   "toc_cell": true,
   "toc_position": {
    "height": "541.6px",
    "left": "1228.8px",
    "top": "91.6px",
    "width": "307.2px"
   },
   "toc_section_display": true,
   "toc_window_display": true
  },
  "varInspector": {
   "cols": {
    "lenName": 16,
    "lenType": 16,
    "lenVar": 40
   },
   "kernels_config": {
    "python": {
     "delete_cmd_postfix": "",
     "delete_cmd_prefix": "del ",
     "library": "var_list.py",
     "varRefreshCmd": "print(var_dic_list())"
    },
    "r": {
     "delete_cmd_postfix": ") ",
     "delete_cmd_prefix": "rm(",
     "library": "var_list.r",
     "varRefreshCmd": "cat(var_dic_list()) "
    }
   },
   "types_to_exclude": [
    "module",
    "function",
    "builtin_function_or_method",
    "instance",
    "_Feature"
   ],
   "window_display": false
  }
 },
 "nbformat": 4,
 "nbformat_minor": 2
}
