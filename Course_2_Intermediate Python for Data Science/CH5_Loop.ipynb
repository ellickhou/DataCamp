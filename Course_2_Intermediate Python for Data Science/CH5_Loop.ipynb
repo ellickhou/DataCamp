{
 "cells": [
  {
   "cell_type": "markdown",
   "metadata": {},
   "source": [
    "# Loop"
   ]
  },
  {
   "cell_type": "markdown",
   "metadata": {
    "toc": true
   },
   "source": [
    "<h1>Table of Contents<span class=\"tocSkip\"></span></h1>\n",
    "<div class=\"toc\"><ul class=\"toc-item\"><li><span><a href=\"#While-loop\" data-toc-modified-id=\"While-loop-1\"><span class=\"toc-item-num\">1&nbsp;&nbsp;</span>While loop</a></span></li><li><span><a href=\"#For-loop\" data-toc-modified-id=\"For-loop-2\"><span class=\"toc-item-num\">2&nbsp;&nbsp;</span>For loop</a></span></li><li><span><a href=\"#Looping-Data-Structures\" data-toc-modified-id=\"Looping-Data-Structures-3\"><span class=\"toc-item-num\">3&nbsp;&nbsp;</span>Looping Data Structures</a></span><ul class=\"toc-item\"><li><span><a href=\"#Dictionary\" data-toc-modified-id=\"Dictionary-3.1\"><span class=\"toc-item-num\">3.1&nbsp;&nbsp;</span>Dictionary</a></span></li><li><span><a href=\"#Numpy-array\" data-toc-modified-id=\"Numpy-array-3.2\"><span class=\"toc-item-num\">3.2&nbsp;&nbsp;</span>Numpy array</a></span></li></ul></li><li><span><a href=\"#Pandas-Dataframe\" data-toc-modified-id=\"Pandas-Dataframe-4\"><span class=\"toc-item-num\">4&nbsp;&nbsp;</span>Pandas Dataframe</a></span><ul class=\"toc-item\"><li><span><a href=\"#.iterrows():\" data-toc-modified-id=\".iterrows():-4.1\"><span class=\"toc-item-num\">4.1&nbsp;&nbsp;</span>.iterrows():</a></span></li><li><span><a href=\"#Add-column\" data-toc-modified-id=\"Add-column-4.2\"><span class=\"toc-item-num\">4.2&nbsp;&nbsp;</span>Add column</a></span></li></ul></li></ul></div>"
   ]
  },
  {
   "cell_type": "markdown",
   "metadata": {},
   "source": [
    "## While loop"
   ]
  },
  {
   "cell_type": "markdown",
   "metadata": {},
   "source": [
    "        while condition :\n",
    "            expression\n",
    "* If condition == True,  execute expression\n",
    "* If not Loop break"
   ]
  },
  {
   "cell_type": "code",
   "execution_count": 1,
   "metadata": {},
   "outputs": [
    {
     "name": "stdout",
     "output_type": "stream",
     "text": [
      "correcting...\n",
      "-5\n",
      "correcting...\n",
      "-4\n",
      "correcting...\n",
      "-3\n",
      "correcting...\n",
      "-2\n",
      "correcting...\n",
      "-1\n",
      "correcting...\n",
      "0\n"
     ]
    }
   ],
   "source": [
    "# Initialize offset\n",
    "offset = -6\n",
    "\n",
    "# Code the while loop\n",
    "while offset != 0 :\n",
    "    print(\"correcting...\")\n",
    "    if offset > 0 :\n",
    "      offset = offset - 1\n",
    "\n",
    "    else : \n",
    "      offset = offset + 1    \n",
    "    print(offset)"
   ]
  },
  {
   "cell_type": "markdown",
   "metadata": {},
   "source": [
    "## For loop"
   ]
  },
  {
   "cell_type": "markdown",
   "metadata": {},
   "source": [
    "    for var in seq : \n",
    "        expression\n",
    "* For each var in seq, execute expression  \n",
    "* To access the index information, use\n",
    "        for var1, var2 in enumerate() :\n",
    "    var1 will be treated as index"
   ]
  },
  {
   "cell_type": "code",
   "execution_count": 2,
   "metadata": {
    "code_folding": []
   },
   "outputs": [
    {
     "name": "stdout",
     "output_type": "stream",
     "text": [
      "11.25\n",
      "18.0\n",
      "20.0\n",
      "10.75\n",
      "9.5\n",
      "room 0 : 11.25\n",
      "room 1 : 18.0\n",
      "room 2 : 20.0\n",
      "room 3 : 10.75\n",
      "room 4 : 9.5\n",
      "the hallway is 11.25 sqm\n",
      "the kitchen is 18.0 sqm\n",
      "the living room is 20.0 sqm\n",
      "the bedroom is 10.75 sqm\n",
      "the bathroom is 9.5 sqm\n"
     ]
    }
   ],
   "source": [
    "# Write a for loop that iterates over all elements\n",
    "# of the areas list and prints out every element separately.\n",
    "\n",
    "# areas list\n",
    "areas = [11.25, 18.0, 20.0, 10.75, 9.50]\n",
    "\n",
    "# Code the for loop\n",
    "for are in areas : \n",
    "    print(are)\n",
    "\n",
    "# Change for loop to use enumerate() and update print()\n",
    "for index,a in enumerate(areas) :\n",
    "    print(\"room \" + str(index) + \" : \" + str(a) )\n",
    "    \n",
    "# house list of lists\n",
    "house = [[\"hallway\", 11.25], \n",
    "         [\"kitchen\", 18.0], \n",
    "         [\"living room\", 20.0], \n",
    "         [\"bedroom\", 10.75], \n",
    "         [\"bathroom\", 9.50]]\n",
    "         \n",
    "# Build a for loop from scratch\n",
    "for i in house:\n",
    "    print(\"the \" + i[0] + \" is \" + str(i[1]) + \" sqm\")"
   ]
  },
  {
   "cell_type": "code",
   "execution_count": 3,
   "metadata": {
    "code_folding": []
   },
   "outputs": [
    {
     "name": "stdout",
     "output_type": "stream",
     "text": [
      "[ True  True False False]\n",
      "[False  True  True False]\n"
     ]
    }
   ],
   "source": [
    "# Create arrays\n",
    "import numpy as np\n",
    "my_house = np.array([18.0, 20.0, 10.75, 9.50])\n",
    "your_house = np.array([14.0, 24.0, 14.25, 9.0])\n",
    "\n",
    "# my_house greater than or equal to 18\n",
    "print(my_house >= 18)\n",
    "\n",
    "# my_house less than your_house\n",
    "print(my_house < your_house)"
   ]
  },
  {
   "cell_type": "markdown",
   "metadata": {},
   "source": [
    "## Looping Data Structures"
   ]
  },
  {
   "cell_type": "markdown",
   "metadata": {},
   "source": [
    "* Dictionary\n",
    "        for var1, var2 in dic_name.items() :\n",
    "            print(var1 + \" -- \" + str(var2))\n",
    "    * var1 will allways be treated as key\n",
    "    * var2 will allways be treated as value\n",
    "* Numpy array\n",
    "    * 直接存取第一階層的元素\n",
    "            for i in np_array_name:\n",
    "    * 存取所有在np.array裡的元素\n",
    "            for i in np.nditer(np_array_name):  \n",
    "****\n",
    "* Dictionary 為 method\n",
    "* Numpy array 為 function"
   ]
  },
  {
   "cell_type": "markdown",
   "metadata": {},
   "source": [
    "### Dictionary"
   ]
  },
  {
   "cell_type": "code",
   "execution_count": 4,
   "metadata": {},
   "outputs": [
    {
     "name": "stdout",
     "output_type": "stream",
     "text": [
      "the capital of spain is madrid\n",
      "the capital of france is paris\n",
      "the capital of germany is berlin\n",
      "the capital of norway is oslo\n",
      "the capital of italy is rome\n",
      "the capital of poland is warsaw\n",
      "the capital of austria is vienna\n"
     ]
    }
   ],
   "source": [
    "# Definition of dictionary\n",
    "europe = {'spain':'madrid', 'france':'paris', 'germany':'berlin',\n",
    "          'norway':'oslo', 'italy':'rome', 'poland':'warsaw', 'austria':'vienna' }\n",
    "          \n",
    "# Iterate over europe\n",
    "for k,v in europe.items():\n",
    "    print(\"the capital of %s is %s\" %(k,v))"
   ]
  },
  {
   "cell_type": "markdown",
   "metadata": {},
   "source": [
    "### Numpy array"
   ]
  },
  {
   "cell_type": "code",
   "execution_count": 5,
   "metadata": {},
   "outputs": [
    {
     "name": "stdout",
     "output_type": "stream",
     "text": [
      "[18.   20.   10.75  9.5 ]\n",
      "[14.   24.   14.25  9.  ]\n",
      "18.0\n",
      "20.0\n",
      "10.75\n",
      "9.5\n",
      "14.0\n",
      "24.0\n",
      "14.25\n",
      "9.0\n"
     ]
    }
   ],
   "source": [
    "# Create arrays\n",
    "import numpy as np\n",
    "my_house = np.array([18.0, 20.0, 10.75, 9.50])\n",
    "your_house = np.array([14.0, 24.0, 14.25, 9.0])\n",
    "house = np.array([my_house, your_house])\n",
    "\n",
    "# 只存取第一層\n",
    "for i in house:\n",
    "    print(i)\n",
    "\n",
    "# 存取全部\n",
    "for i in np.nditer(house) :\n",
    "    print(i)\n"
   ]
  },
  {
   "cell_type": "markdown",
   "metadata": {},
   "source": [
    "## Pandas Dataframe"
   ]
  },
  {
   "cell_type": "markdown",
   "metadata": {},
   "source": [
    "### .iterrows():"
   ]
  },
  {
   "cell_type": "markdown",
   "metadata": {},
   "source": [
    "0. 使用方法為 method\n",
    "1. 單變數\n",
    "       for var in pd_DF_name.iterrows():\n",
    "       var 存取 每一 label 中所有資料，type = tuple\n",
    "2. 雙變數\n",
    "       for var1,var2 in pd_DF_name.iterrows():\n",
    "       var1 單單存取 row index_label\n",
    "       var2 存取該row，type = pandas.core.series.Series\n",
    "       (適用Serise方法)\n",
    "\n",
    "---\n",
    "* 直接使用for:\n",
    "        for i in pd_DF_name:\n",
    "        i 會直接存取 0th row\n",
    "        \n",
    "\n"
   ]
  },
  {
   "cell_type": "code",
   "execution_count": 46,
   "metadata": {},
   "outputs": [
    {
     "name": "stdout",
     "output_type": "stream",
     "text": [
      "           country  drives_right  cars_per_cap\n",
      "US   United States          True           809\n",
      "AUS      Australia         False           731\n",
      "JAP          Japan         False           588\n",
      "IN           India         False            18\n",
      "RU          Russia          True           200\n",
      "MOR        Morocco          True            70\n",
      "EG           Egypt          True            45\n",
      "US <class 'str'>\n",
      "country         United States\n",
      "drives_right             True\n",
      "cars_per_cap              809\n",
      "Name: US, dtype: object <class 'pandas.core.series.Series'>\n",
      "AUS <class 'str'>\n",
      "country         Australia\n",
      "drives_right        False\n",
      "cars_per_cap          731\n",
      "Name: AUS, dtype: object <class 'pandas.core.series.Series'>\n",
      "JAP <class 'str'>\n",
      "country         Japan\n",
      "drives_right    False\n",
      "cars_per_cap      588\n",
      "Name: JAP, dtype: object <class 'pandas.core.series.Series'>\n",
      "IN <class 'str'>\n",
      "country         India\n",
      "drives_right    False\n",
      "cars_per_cap       18\n",
      "Name: IN, dtype: object <class 'pandas.core.series.Series'>\n",
      "RU <class 'str'>\n",
      "country         Russia\n",
      "drives_right      True\n",
      "cars_per_cap       200\n",
      "Name: RU, dtype: object <class 'pandas.core.series.Series'>\n",
      "MOR <class 'str'>\n",
      "country         Morocco\n",
      "drives_right       True\n",
      "cars_per_cap         70\n",
      "Name: MOR, dtype: object <class 'pandas.core.series.Series'>\n",
      "EG <class 'str'>\n",
      "country         Egypt\n",
      "drives_right     True\n",
      "cars_per_cap       45\n",
      "Name: EG, dtype: object <class 'pandas.core.series.Series'>\n",
      "US : 809\n",
      "AUS : 731\n",
      "JAP : 588\n",
      "IN : 18\n",
      "RU : 200\n",
      "MOR : 70\n",
      "EG : 45\n"
     ]
    }
   ],
   "source": [
    "import pandas as pd\n",
    "cars = pd.read_csv('pandas_examples/cars.csv', index_col = 0)\n",
    "print(cars)\n",
    "'''\n",
    "#直接使用for\n",
    "for i in cars:\n",
    "    print(i)\n",
    "\n",
    "#單變數.iterrows()\n",
    "for i in cars.iterrows():\n",
    "    print(i, type(i))\n",
    "\n",
    "#雙變數.iterrows()\n",
    "for lab, row in cars.iterrows():\n",
    "    print(lab, type(lab))\n",
    "    print(row, type(row))\n",
    "'''\n",
    "#雙變數.iterrows() + pd_Series操作\n",
    "for lab, row in cars.iterrows():\n",
    "    print(lab, \":\", row['cars_per_cap'])"
   ]
  },
  {
   "cell_type": "markdown",
   "metadata": {},
   "source": [
    "### Add column"
   ]
  },
  {
   "cell_type": "markdown",
   "metadata": {},
   "source": [
    "1. for loop\n",
    "        for for var1,var2 in pd_DF_name.iterrows():\n",
    "            pd_DF_name.loc[var1, 'new_column_name'] = var2['column_name'].upper()\n",
    "    * 呼叫pd_DF對應位置(無此column → 創建) = 使用方法與資料來源\n",
    "    * 需要訪問原始資料中的每一row，取得對應的 column 資訊後才產生新column\n",
    "      若原始pd_DF龐大的話效率低\n",
    "    * .loc[var1, var2] : label_based pd_DF 存取方法\n",
    "        * var1 : row\n",
    "        * var2 : column\n",
    "2. .apply()\n",
    "        pd_DF_name[''new_column_name''] =  pd_DF_name['column_name'].apply(operation_tou_need)\n",
    "    * 不需逐行訪問，直接存取該column使用"
   ]
  },
  {
   "cell_type": "code",
   "execution_count": 45,
   "metadata": {},
   "outputs": [
    {
     "name": "stdout",
     "output_type": "stream",
     "text": [
      "           country  drives_right  cars_per_cap        COUNTRY\n",
      "US   United States          True           809  UNITED STATES\n",
      "AUS      Australia         False           731      AUSTRALIA\n",
      "JAP          Japan         False           588          JAPAN\n",
      "IN           India         False            18          INDIA\n",
      "RU          Russia          True           200         RUSSIA\n",
      "MOR        Morocco          True            70        MOROCCO\n",
      "EG           Egypt          True            45          EGYPT\n"
     ]
    }
   ],
   "source": [
    "# Import cars data\n",
    "import pandas as pd\n",
    "cars = pd.read_csv('pandas_examples/cars.csv', index_col = 0)\n",
    "\n",
    "# Code for loop that adds COUNTRY column\n",
    "for lab, row in cars.iterrows():\n",
    "    cars.loc[lab, \"COUNTRY\"] = row['country'].upper()\n",
    "\n",
    "# Use .apply(str.upper)\n",
    "cars[\"COUNTRY\"] = cars['country'].apply(str.upper)\n",
    "# Print cars\n",
    "print(cars)"
   ]
  }
 ],
 "metadata": {
  "kernelspec": {
   "display_name": "DateCamp",
   "language": "python",
   "name": "datecamp"
  },
  "language_info": {
   "codemirror_mode": {
    "name": "ipython",
    "version": 3
   },
   "file_extension": ".py",
   "mimetype": "text/x-python",
   "name": "python",
   "nbconvert_exporter": "python",
   "pygments_lexer": "ipython3",
   "version": "3.7.3"
  },
  "toc": {
   "base_numbering": 1,
   "nav_menu": {},
   "number_sections": true,
   "sideBar": false,
   "skip_h1_title": true,
   "title_cell": "Table of Contents",
   "title_sidebar": "Contents",
   "toc_cell": true,
   "toc_position": {
    "height": "541.6px",
    "left": "1228.8px",
    "top": "91.6px",
    "width": "307.2px"
   },
   "toc_section_display": true,
   "toc_window_display": true
  },
  "varInspector": {
   "cols": {
    "lenName": 16,
    "lenType": 16,
    "lenVar": 40
   },
   "kernels_config": {
    "python": {
     "delete_cmd_postfix": "",
     "delete_cmd_prefix": "del ",
     "library": "var_list.py",
     "varRefreshCmd": "print(var_dic_list())"
    },
    "r": {
     "delete_cmd_postfix": ") ",
     "delete_cmd_prefix": "rm(",
     "library": "var_list.r",
     "varRefreshCmd": "cat(var_dic_list()) "
    }
   },
   "types_to_exclude": [
    "module",
    "function",
    "builtin_function_or_method",
    "instance",
    "_Feature"
   ],
   "window_display": false
  }
 },
 "nbformat": 4,
 "nbformat_minor": 2
}
