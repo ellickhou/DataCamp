{
 "cells": [
  {
   "cell_type": "markdown",
   "metadata": {
    "cell_style": "center"
   },
   "source": [
    "# List comprehensions and generators"
   ]
  },
  {
   "cell_type": "markdown",
   "metadata": {
    "cell_style": "center",
    "toc": true
   },
   "source": [
    "<h1>Table of Contents<span class=\"tocSkip\"></span></h1>\n",
    "<div class=\"toc\"><ul class=\"toc-item\"><li><span><a href=\"#List-comprehensions\" data-toc-modified-id=\"List-comprehensions-1\"><span class=\"toc-item-num\">1&nbsp;&nbsp;</span>List comprehensions</a></span></li><li><span><a href=\"#Advanced-comprehensions\" data-toc-modified-id=\"Advanced-comprehensions-2\"><span class=\"toc-item-num\">2&nbsp;&nbsp;</span>Advanced comprehensions</a></span></li><li><span><a href=\"#Introduction-to-generator-expressions\" data-toc-modified-id=\"Introduction-to-generator-expressions-3\"><span class=\"toc-item-num\">3&nbsp;&nbsp;</span>Introduction to generator expressions</a></span></li><li><span><a href=\"#Wrapping-up-comprehensions-and-generators\" data-toc-modified-id=\"Wrapping-up-comprehensions-and-generators-4\"><span class=\"toc-item-num\">4&nbsp;&nbsp;</span>Wrapping up comprehensions and generators</a></span></li></ul></div>"
   ]
  },
  {
   "cell_type": "markdown",
   "metadata": {},
   "source": [
    "## List comprehensions"
   ]
  },
  {
   "cell_type": "markdown",
   "metadata": {},
   "source": [
    "- Collapse for loops for building lists into a single line \n",
    "- Components\n",
    "    - Iterable(range(), list, ... ,etc)\n",
    "    - Iterator variable (represent members of iterable) \n",
    "    - Output expression\n",
    "            something = [[output expression] for iterator variable in iterable]\n",
    "    - Tradeoff: readability\n",
    "- Nested loop is capable\n",
    "            ex: generate matrix\n",
    "            matrix = [[col for col in range(0, 5)] for row in range(0,5)]\n",
    "                                        inner loop                 outer loop"
   ]
  },
  {
   "cell_type": "code",
   "execution_count": 1,
   "metadata": {
    "code_folding": []
   },
   "outputs": [
    {
     "name": "stdout",
     "output_type": "stream",
     "text": [
      "[[0, 1, 2, 3, 4], [0, 1, 2, 3, 4], [0, 1, 2, 3, 4], [0, 1, 2, 3, 4], [0, 1, 2, 3, 4]]\n",
      "[[0, 1, 2, 3, 4], [0, 1, 2, 3, 4], [0, 1, 2, 3, 4], [0, 1, 2, 3, 4]]\n"
     ]
    }
   ],
   "source": [
    "# Create a 5 x 5 matrix using a list of lists: matrix\n",
    "matrix = [[col for col in range(0, 5)] for row in range(0,5)]\n",
    "matrix2 = []\n",
    "for row in range(0,4):\n",
    "    matrix2.append([])\n",
    "    for col in range(0,5):\n",
    "        matrix2[row] += [col]\n",
    "# Print the matrix\n",
    "print(matrix)\n",
    "print(matrix2)\n"
   ]
  },
  {
   "cell_type": "markdown",
   "metadata": {},
   "source": [
    "## Advanced comprehensions"
   ]
  },
  {
   "cell_type": "markdown",
   "metadata": {},
   "source": [
    "- Conditionals on the iterable\n",
    "        In [1]: [num ** 2 for num in range(10) if num % 2 == 0]\n",
    "        Out[1]: [0, 4, 16, 36, 64]\n",
    "- Conditionals on the output expression\n",
    "         In [2]: [num ** 2     for num in range(10)]\n",
    "         Out[2]: [0, 0, 4, 0, 16, 0, 36, 0, 64, 0]\n",
    "- Dict comprehensions\n",
    "        pos_neg = {num: -num for num in range(9)}"
   ]
  },
  {
   "cell_type": "code",
   "execution_count": 2,
   "metadata": {},
   "outputs": [
    {
     "name": "stdout",
     "output_type": "stream",
     "text": [
      "['samwise', 'aragorn', 'legolas', 'boromir']\n"
     ]
    }
   ],
   "source": [
    "# Create a list of strings: fellowship\n",
    "fellowship = ['frodo', 'samwise', 'merry', 'aragorn', 'legolas', 'boromir', 'gimli']\n",
    "\n",
    "# Create list comprehension: new_fellowship, Conditionals on the iterable\n",
    "new_fellowship = [member for member in fellowship if len(member) >= 7]\n",
    "\n",
    "# Print the new list\n",
    "print(new_fellowship)"
   ]
  },
  {
   "cell_type": "code",
   "execution_count": 3,
   "metadata": {},
   "outputs": [
    {
     "name": "stdout",
     "output_type": "stream",
     "text": [
      "['', 'samwise', '', 'aragorn', 'legolas', 'boromir', '']\n"
     ]
    }
   ],
   "source": [
    "# Create a list of strings: fellowship\n",
    "fellowship = ['frodo', 'samwise', 'merry', 'aragorn', 'legolas', 'boromir', 'gimli']\n",
    "\n",
    "# Create list comprehension: new_fellowship, Conditionals on the output expression\n",
    "new_fellowship = [member if len(member) >= 7 else '' for member in fellowship ]\n",
    "\n",
    "# Print the new list\n",
    "print(new_fellowship)\n"
   ]
  },
  {
   "cell_type": "code",
   "execution_count": 4,
   "metadata": {},
   "outputs": [
    {
     "name": "stdout",
     "output_type": "stream",
     "text": [
      "{'frodo': 5, 'samwise': 7, 'merry': 5, 'aragorn': 7, 'legolas': 7, 'boromir': 7, 'gimli': 5}\n"
     ]
    }
   ],
   "source": [
    "# Create a list of strings: fellowship\n",
    "fellowship = ['frodo', 'samwise', 'merry', 'aragorn', 'legolas', 'boromir', 'gimli']\n",
    "\n",
    "# Create dict comprehension: new_fellowship\n",
    "new_fellowship = {member : len(member) for member in fellowship}\n",
    "\n",
    "# Print the new dictionary\n",
    "print(new_fellowship)\n"
   ]
  },
  {
   "cell_type": "markdown",
   "metadata": {},
   "source": [
    "## Introduction to generator expressions"
   ]
  },
  {
   "cell_type": "markdown",
   "metadata": {},
   "source": [
    "- List comprehensions vs. generators\n",
    "    - List comprehension - returns a list \n",
    "    - Generators - returns a generator object\n",
    "    - Both can be iterated over\n",
    "            result = (num for num in range(10 ** 10000))\n",
    "- generator object 不會真正占用到記憶體空間，因為內容還沒有真正被創造，但仍可以進行操作，適用於過於巨大的資料\n",
    "- Conditionals in generator expressions\n",
    "        In [1]: even_nums = (num for num in range(10) if num % 2 == 0)\n",
    "        In [2]: print(list(even_nums))\n",
    "        [0, 2, 4, 6, 8]\n",
    "- Generator functions\n",
    "    - Produces generator objects when called\n",
    "    - Defined like a regular function - def\n",
    "    - Yields a sequence of values instead of returning a single value\n",
    "    - Generates a value with yield keyword\n",
    "            def num_sequence(n):\n",
    "                 \"\"\"Generate values from 0 to n.\"\"\"\n",
    "                i= 0\n",
    "                while i < n:\n",
    "                    yield i \n",
    "                    i += 1"
   ]
  },
  {
   "cell_type": "code",
   "execution_count": 5,
   "metadata": {},
   "outputs": [
    {
     "name": "stdout",
     "output_type": "stream",
     "text": [
      "0\n",
      "1\n",
      "2\n",
      "[3, 4, 5, 6] []\n",
      "generator object 的元素如 iterators 一樣，使用過就會消失，在 for loop 中 result 的每一個值都經過迭代了，不管有無output出來都視作使用過\n"
     ]
    }
   ],
   "source": [
    "import numpy as np\n",
    "# Create generator object: result\n",
    "result = (num for num in range(0, 7))\n",
    "\n",
    "# Print the first 3 values\n",
    "print(next(result))\n",
    "print(next(result))\n",
    "print(next(result))\n",
    "\n",
    "'''print(np.array(list(result)) < 5)\n",
    "for value in result:\n",
    "    if value < 5:\n",
    "        print(value)'''\n",
    "r1 = list(result)\n",
    "r2 = list(result)\n",
    "print(r1, r2)\n",
    "print(\"generator object 的元素如 iterators 一樣，使用過就會消失，\"\n",
    "      \"在 for loop 中 result 的每一個值都經過迭代了，\"\n",
    "     \"不管有無output出來都視作使用過\")"
   ]
  },
  {
   "cell_type": "code",
   "execution_count": 6,
   "metadata": {},
   "outputs": [
    {
     "name": "stdout",
     "output_type": "stream",
     "text": [
      "6\n",
      "5\n",
      "5\n",
      "6\n",
      "7\n"
     ]
    }
   ],
   "source": [
    "# Create a list of strings: lannister\n",
    "lannister = ['cersei', 'jaime', 'tywin', 'tyrion', 'joffrey']\n",
    "\n",
    "# Create a generator object: lengths\n",
    "lengths = (len(person) for person in lannister)\n",
    "\n",
    "# Iterate over and print the values in lengths\n",
    "for value in lengths:\n",
    "    print(value)\n"
   ]
  },
  {
   "cell_type": "code",
   "execution_count": 7,
   "metadata": {},
   "outputs": [
    {
     "name": "stdout",
     "output_type": "stream",
     "text": [
      "6\n",
      "5\n",
      "5\n",
      "6\n",
      "7\n"
     ]
    }
   ],
   "source": [
    "# Create a list of strings\n",
    "lannister = ['cersei', 'jaime', 'tywin', 'tyrion', 'joffrey']\n",
    "\n",
    "# Define generator function get_lengths\n",
    "def get_lengths(input_list):\n",
    "    \"\"\"Generator function that yields the\n",
    "    length of the strings in input_list.\"\"\"\n",
    "\n",
    "    # Yield the length of a string\n",
    "    for person in input_list:\n",
    "        yield len(person)\n",
    "\n",
    "# Print the values generated by get_lengths()\n",
    "for value in get_lengths(lannister):\n",
    "    print(value)"
   ]
  },
  {
   "cell_type": "markdown",
   "metadata": {},
   "source": [
    "## Wrapping up comprehensions and generators\n",
    "- Basic\n",
    "        [<output expression> for <iterator variable> in <iterable>] \n",
    "- Advanced\n",
    "        [<output expression + conditional on output> for <iterator variable> in <iterable + conditional on iterable>]"
   ]
  },
  {
   "cell_type": "code",
   "execution_count": 10,
   "metadata": {},
   "outputs": [
    {
     "name": "stdout",
     "output_type": "stream",
     "text": [
      "['23:40:19', '23:40:19', '23:40:19', '23:40:19', '23:40:19', '23:40:19', '23:40:19', '23:40:19', '23:40:19', '23:40:19', '23:40:19', '23:40:19', '23:40:19', '23:40:19', '23:40:19', '23:40:19', '23:40:19', '23:40:19', '23:40:19', '23:40:19', '23:40:19', '23:40:19', '23:40:19', '23:40:19', '23:40:19', '23:40:19', '23:40:19', '23:40:19', '23:40:19', '23:40:19', '23:40:19', '23:40:19', '23:40:19', '23:40:19']\n"
     ]
    }
   ],
   "source": [
    "import numpy as np\n",
    "import pandas as pd\n",
    "import matplotlib.pyplot as plt\n",
    "import jupyterthemes.jtplot as jtplot\n",
    "%matplotlib inline\n",
    "jtplot.style(theme='onedork')\n",
    "\n",
    "df = pd.read_csv('exercise/tweets.csv')\n",
    "\n",
    "# Extract the created_at column from df: tweet_time\n",
    "tweet_time = df['created_at']\n",
    "\n",
    "# Extract the clock time: tweet_clock_time\n",
    "tweet_clock_time = [entry[11:19] for entry in tweet_time if entry[17:19] == '19']\n",
    "\n",
    "# Print the extracted times\n",
    "print(tweet_clock_time)\n",
    "\n"
   ]
  },
  {
   "cell_type": "code",
   "execution_count": null,
   "metadata": {},
   "outputs": [],
   "source": []
  }
 ],
 "metadata": {
  "kernelspec": {
   "display_name": "Python [conda env:datacamp] *",
   "language": "python",
   "name": "conda-env-datacamp-py"
  },
  "language_info": {
   "codemirror_mode": {
    "name": "ipython",
    "version": 3
   },
   "file_extension": ".py",
   "mimetype": "text/x-python",
   "name": "python",
   "nbconvert_exporter": "python",
   "pygments_lexer": "ipython3",
   "version": "3.7.4"
  },
  "toc": {
   "base_numbering": 1,
   "nav_menu": {},
   "number_sections": true,
   "sideBar": false,
   "skip_h1_title": true,
   "title_cell": "Table of Contents",
   "title_sidebar": "Contents",
   "toc_cell": true,
   "toc_position": {
    "height": "152px",
    "left": "387px",
    "top": "164px",
    "width": "247px"
   },
   "toc_section_display": false,
   "toc_window_display": false
  },
  "varInspector": {
   "cols": {
    "lenName": 16,
    "lenType": 16,
    "lenVar": 40
   },
   "kernels_config": {
    "python": {
     "delete_cmd_postfix": "",
     "delete_cmd_prefix": "del ",
     "library": "var_list.py",
     "varRefreshCmd": "print(var_dic_list())"
    },
    "r": {
     "delete_cmd_postfix": ") ",
     "delete_cmd_prefix": "rm(",
     "library": "var_list.r",
     "varRefreshCmd": "cat(var_dic_list()) "
    }
   },
   "types_to_exclude": [
    "module",
    "function",
    "builtin_function_or_method",
    "instance",
    "_Feature"
   ],
   "window_display": false
  }
 },
 "nbformat": 4,
 "nbformat_minor": 2
}
