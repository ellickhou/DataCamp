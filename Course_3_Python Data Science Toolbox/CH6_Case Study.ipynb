{
 "cells": [
  {
   "cell_type": "markdown",
   "metadata": {
    "cell_style": "center"
   },
   "source": [
    "# Case Study"
   ]
  },
  {
   "cell_type": "markdown",
   "metadata": {
    "cell_style": "center",
    "toc": true
   },
   "source": [
    "<h1>Table of Contents<span class=\"tocSkip\"></span></h1>\n",
    "<div class=\"toc\"><ul class=\"toc-item\"><li><span><a href=\"#From-list-to-dictionary-to-pd.DataFrame\" data-toc-modified-id=\"From-list-to-dictionary-to-pd.DataFrame-1\"><span class=\"toc-item-num\">1&nbsp;&nbsp;</span>From list to dictionary to pd.DataFrame</a></span><ul class=\"toc-item\"><li><span><a href=\"#預設list-&amp;-檔案位置\" data-toc-modified-id=\"預設list-&amp;-檔案位置-1.1\"><span class=\"toc-item-num\">1.1&nbsp;&nbsp;</span>預設list &amp; 檔案位置</a></span></li><li><span><a href=\"#Dictionaries-for-data-science\" data-toc-modified-id=\"Dictionaries-for-data-science-1.2\"><span class=\"toc-item-num\">1.2&nbsp;&nbsp;</span>Dictionaries for data science</a></span></li><li><span><a href=\"#Writing-a-function-to-help-you\" data-toc-modified-id=\"Writing-a-function-to-help-you-1.3\"><span class=\"toc-item-num\">1.3&nbsp;&nbsp;</span>Writing a function to help you</a></span></li><li><span><a href=\"#Using-a-list-comprehension\" data-toc-modified-id=\"Using-a-list-comprehension-1.4\"><span class=\"toc-item-num\">1.4&nbsp;&nbsp;</span>Using a list comprehension</a></span></li><li><span><a href=\"#Turning-this-all-into-a-DataFrame\" data-toc-modified-id=\"Turning-this-all-into-a-DataFrame-1.5\"><span class=\"toc-item-num\">1.5&nbsp;&nbsp;</span>Turning this all into a DataFrame</a></span></li></ul></li><li><span><a href=\"#Using-Python-generators-for-streaming-data\" data-toc-modified-id=\"Using-Python-generators-for-streaming-data-2\"><span class=\"toc-item-num\">2&nbsp;&nbsp;</span>Using Python generators for streaming data</a></span><ul class=\"toc-item\"><li><span><a href=\"#Using-Python-generators-for-streaming-data-(1)\" data-toc-modified-id=\"Using-Python-generators-for-streaming-data-(1)-2.1\"><span class=\"toc-item-num\">2.1&nbsp;&nbsp;</span>Using Python generators for streaming data (1)</a></span><ul class=\"toc-item\"><li><span><a href=\"#file.readline()性質探討\" data-toc-modified-id=\"file.readline()性質探討-2.1.1\"><span class=\"toc-item-num\">2.1.1&nbsp;&nbsp;</span>file.readline()性質探討</a></span></li></ul></li><li><span><a href=\"#Using-Python-generators-for-streaming-data-(2)\" data-toc-modified-id=\"Using-Python-generators-for-streaming-data-(2)-2.2\"><span class=\"toc-item-num\">2.2&nbsp;&nbsp;</span>Using Python generators for streaming data (2)</a></span></li><li><span><a href=\"#Using-Python-generators-for-streaming-data-(3)\" data-toc-modified-id=\"Using-Python-generators-for-streaming-data-(3)-2.3\"><span class=\"toc-item-num\">2.3&nbsp;&nbsp;</span>Using Python generators for streaming data (3)</a></span><ul class=\"toc-item\"><li><span><a href=\"#既然file-object-已經是-generator，那不用generator-function寫寫看\" data-toc-modified-id=\"既然file-object-已經是-generator，那不用generator-function寫寫看-2.3.1\"><span class=\"toc-item-num\">2.3.1&nbsp;&nbsp;</span>既然file object 已經是 generator，那不用generator function寫寫看</a></span></li></ul></li></ul></li><li><span><a href=\"#Using-pd.read_csv-iterator-for-streaming-data\" data-toc-modified-id=\"Using-pd.read_csv-iterator-for-streaming-data-3\"><span class=\"toc-item-num\">3&nbsp;&nbsp;</span>Using pd.read_csv iterator for streaming data</a></span><ul class=\"toc-item\"><li><span><a href=\"#Writing-an-iterator-to-load-data-in-chunks-(1)\" data-toc-modified-id=\"Writing-an-iterator-to-load-data-in-chunks-(1)-3.1\"><span class=\"toc-item-num\">3.1&nbsp;&nbsp;</span>Writing an iterator to load data in chunks (1)</a></span></li><li><span><a href=\"#Writing-an-iterator-to-load-data-in-chunks-(2)\" data-toc-modified-id=\"Writing-an-iterator-to-load-data-in-chunks-(2)-3.2\"><span class=\"toc-item-num\">3.2&nbsp;&nbsp;</span>Writing an iterator to load data in chunks (2)</a></span><ul class=\"toc-item\"><li><span><a href=\"#探討為何-df_pop-要用兩層？\" data-toc-modified-id=\"探討為何-df_pop-要用兩層？-3.2.1\"><span class=\"toc-item-num\">3.2.1&nbsp;&nbsp;</span>探討為何 df_pop 要用兩層？</a></span></li></ul></li><li><span><a href=\"#Writing-an-iterator-to-load-data-in-chunks-(3)\" data-toc-modified-id=\"Writing-an-iterator-to-load-data-in-chunks-(3)-3.3\"><span class=\"toc-item-num\">3.3&nbsp;&nbsp;</span>Writing an iterator to load data in chunks (3)</a></span></li><li><span><a href=\"#Writing-an-iterator-to-load-data-in-chunks-(4)\" data-toc-modified-id=\"Writing-an-iterator-to-load-data-in-chunks-(4)-3.4\"><span class=\"toc-item-num\">3.4&nbsp;&nbsp;</span>Writing an iterator to load data in chunks (4)</a></span></li><li><span><a href=\"#Writing-an-iterator-to-load-data-in-chunks-(5)\" data-toc-modified-id=\"Writing-an-iterator-to-load-data-in-chunks-(5)-3.5\"><span class=\"toc-item-num\">3.5&nbsp;&nbsp;</span>Writing an iterator to load data in chunks (5)</a></span></li></ul></li><li><span><a href=\"#Summary-from-CH3-to-CH6\" data-toc-modified-id=\"Summary-from-CH3-to-CH6-4\"><span class=\"toc-item-num\">4&nbsp;&nbsp;</span>Summary from CH3 to CH6</a></span></li></ul></div>"
   ]
  },
  {
   "cell_type": "markdown",
   "metadata": {},
   "source": [
    "## From list to dictionary to pd.DataFrame"
   ]
  },
  {
   "cell_type": "markdown",
   "metadata": {},
   "source": [
    "- Using zip()\n",
    "- Defining a function\n",
    "- list comprehensions"
   ]
  },
  {
   "cell_type": "markdown",
   "metadata": {},
   "source": [
    "### 預設list & 檔案位置"
   ]
  },
  {
   "cell_type": "code",
   "execution_count": 1,
   "metadata": {
    "code_folding": [
     7,
     11,
     17
    ]
   },
   "outputs": [
    {
     "name": "stdout",
     "output_type": "stream",
     "text": [
      "['CountryName', 'CountryCode', 'Year', 'Total Population', 'Urban population (% of total)\\n']\n",
      "['Burundi', 'BDI', '1960', '2786740.0', '2.077\\n']\n"
     ]
    }
   ],
   "source": [
    "import numpy as np\n",
    "import pandas as pd\n",
    "import matplotlib.pyplot as plt\n",
    "import jupyterthemes.jtplot as jtplot\n",
    "%matplotlib inline\n",
    "jtplot.style(theme='onedork')\n",
    "\n",
    "feature_names = [\n",
    "    'CountryName', 'CountryCode', 'IndicatorName', 'IndicatorCode', 'Year',\n",
    "    'Value'\n",
    "]\n",
    "row_vals = [\n",
    "    'Arab World', 'ARB',\n",
    "    'Adolescent fertility rate (births per 1,000 women ages 15-19)',\n",
    "    'SP.ADO.TFRT', '1960', '133.56090740552298'\n",
    "]\n",
    "# 1\n",
    "row_lists = [\n",
    "            [\n",
    "    'Arab World', 'ARB',\n",
    "    'Adolescent fertility rate (births per 1,000 women ages 15-19)',\n",
    "    'SP.ADO.TFRT', '1960', '133.56090740552298'\n",
    "            ],\n",
    "             [\n",
    "                 'Arab World', 'ARB',\n",
    "                 'Age dependency ratio (% of working-age population)',\n",
    "                 'SP.POP.DPND', '1960', '87.7976011532547'\n",
    "             ],\n",
    "             [\n",
    "                 'Arab World', 'ARB',\n",
    "                 'Age dependency ratio, old (% of working-age population)',\n",
    "                 'SP.POP.DPND.OL', '1960', '6.634579191565161'\n",
    "             ],\n",
    "             [\n",
    "                 'Arab World', 'ARB',\n",
    "                 'Age dependency ratio, young (% of working-age population)',\n",
    "                 'SP.POP.DPND.YG', '1960', '81.02332950839141'\n",
    "             ],\n",
    "             [\n",
    "                 'Arab World', 'ARB',\n",
    "                 'Arms exports (SIPRI trend indicator values)',\n",
    "                 'MS.MIL.XPRT.KD', '1960', '3000000.0'\n",
    "             ],\n",
    "             [\n",
    "                 'Arab World', 'ARB',\n",
    "                 'Arms imports (SIPRI trend indicator values)',\n",
    "                 'MS.MIL.MPRT.KD', '1960', '538000000.0'\n",
    "             ],\n",
    "             [\n",
    "                 'Arab World', 'ARB', 'Birth rate, crude (per 1,000 people)',\n",
    "                 'SP.DYN.CBRT.IN', '1960', '47.697888095096395'\n",
    "             ],\n",
    "             [\n",
    "                 'Arab World', 'ARB', 'CO2 emissions (kt)', 'EN.ATM.CO2E.KT',\n",
    "                 '1960', '59563.9892169935'\n",
    "             ],\n",
    "             [\n",
    "                 'Arab World', 'ARB', 'CO2 emissions (metric tons per capita)',\n",
    "                 'EN.ATM.CO2E.PC', '1960', '0.6439635478877049'\n",
    "             ],\n",
    "             [\n",
    "                 'Arab World', 'ARB',\n",
    "                 'CO2 emissions from gaseous fuel consumption (% of total)',\n",
    "                 'EN.ATM.CO2E.GF.ZS', '1960', '5.041291753975099'\n",
    "             ],\n",
    "             [\n",
    "                 'Arab World', 'ARB',\n",
    "                 'CO2 emissions from liquid fuel consumption (% of total)',\n",
    "                 'EN.ATM.CO2E.LF.ZS', '1960', '84.8514729446567'\n",
    "             ],\n",
    "             [\n",
    "                 'Arab World', 'ARB',\n",
    "                 'CO2 emissions from liquid fuel consumption (kt)',\n",
    "                 'EN.ATM.CO2E.LF.KT', '1960', '49541.707291032304'\n",
    "             ],\n",
    "             [\n",
    "                 'Arab World', 'ARB',\n",
    "                 'CO2 emissions from solid fuel consumption (% of total)',\n",
    "                 'EN.ATM.CO2E.SF.ZS', '1960', '4.72698138789597'\n",
    "             ],\n",
    "             [\n",
    "                 'Arab World', 'ARB', 'Death rate, crude (per 1,000 people)',\n",
    "                 'SP.DYN.CDRT.IN', '1960', '19.7544519237187'\n",
    "             ],\n",
    "             [\n",
    "                 'Arab World', 'ARB',\n",
    "                 'Fertility rate, total (births per woman)', 'SP.DYN.TFRT.IN',\n",
    "                 '1960', '6.92402738655897'\n",
    "             ],\n",
    "             [\n",
    "                 'Arab World', 'ARB', 'Fixed telephone subscriptions',\n",
    "                 'IT.MLT.MAIN', '1960', '406833.0'\n",
    "             ],\n",
    "             [\n",
    "                 'Arab World', 'ARB',\n",
    "                 'Fixed telephone subscriptions (per 100 people)',\n",
    "                 'IT.MLT.MAIN.P2', '1960', '0.6167005703199'\n",
    "             ],\n",
    "             [\n",
    "                 'Arab World', 'ARB', 'Hospital beds (per 1,000 people)',\n",
    "                 'SH.MED.BEDS.ZS', '1960', '1.9296220724398703'\n",
    "             ],\n",
    "             [\n",
    "                 'Arab World', 'ARB',\n",
    "                 'International migrant stock (% of population)',\n",
    "                 'SM.POP.TOTL.ZS', '1960', '2.9906371279862403'\n",
    "             ],\n",
    "             [\n",
    "                 'Arab World', 'ARB', 'International migrant stock, total',\n",
    "                 'SM.POP.TOTL', '1960', '3324685.0'\n",
    "             ]]\n",
    "\n",
    "with open('exercise/world_dev_ind.csv') as file:\n",
    "    feature_names2 = file.readline().split(',')\n",
    "    row_lists2 = file.readline().split(',')\n",
    "print(feature_names2)\n",
    "print(row_lists2)"
   ]
  },
  {
   "cell_type": "markdown",
   "metadata": {},
   "source": [
    "### Dictionaries for data science"
   ]
  },
  {
   "cell_type": "code",
   "execution_count": 2,
   "metadata": {},
   "outputs": [
    {
     "name": "stdout",
     "output_type": "stream",
     "text": [
      "{'CountryName': 'Arab World', 'CountryCode': 'ARB', 'IndicatorName': 'Adolescent fertility rate (births per 1,000 women ages 15-19)', 'IndicatorCode': 'SP.ADO.TFRT', 'Year': '1960', 'Value': '133.56090740552298'}\n"
     ]
    }
   ],
   "source": [
    "# Zip lists: zipped_lists\n",
    "zipped_lists = zip(feature_names, row_vals)\n",
    "\n",
    "# Create a dictionary: rs_dict\n",
    "rs_dict = dict(zipped_lists)\n",
    "\n",
    "# Print the dictionary\n",
    "print(rs_dict)"
   ]
  },
  {
   "cell_type": "markdown",
   "metadata": {},
   "source": [
    "### Writing a function to help you"
   ]
  },
  {
   "cell_type": "code",
   "execution_count": 3,
   "metadata": {},
   "outputs": [
    {
     "name": "stdout",
     "output_type": "stream",
     "text": [
      "{'CountryName': 'Arab World', 'CountryCode': 'ARB', 'IndicatorName': 'Adolescent fertility rate (births per 1,000 women ages 15-19)', 'IndicatorCode': 'SP.ADO.TFRT', 'Year': '1960', 'Value': '133.56090740552298'}\n"
     ]
    }
   ],
   "source": [
    "# Define lists2dict()\n",
    "def lists2dict(list1, list2):\n",
    "    \"\"\"Return a dictionary where list1 provides\n",
    "    the keys and list2 provides the values.\"\"\"\n",
    "    # Zip lists: zipped_lists\n",
    "    zipped_lists = zip(list1, list2)\n",
    "    # Create a dictionary: rs_dict\n",
    "    rs_dict = dict(zipped_lists)\n",
    "    # Return the dictionary\n",
    "    return rs_dict\n",
    "\n",
    "# Call lists2dict: rs_fxn\n",
    "rs_fxn = lists2dict(feature_names, row_vals)\n",
    "# Print rs_fxn\n",
    "print(rs_fxn)"
   ]
  },
  {
   "cell_type": "markdown",
   "metadata": {},
   "source": [
    "### Using a list comprehension"
   ]
  },
  {
   "cell_type": "code",
   "execution_count": 4,
   "metadata": {},
   "outputs": [
    {
     "name": "stdout",
     "output_type": "stream",
     "text": [
      "['Arab World', 'ARB', 'Adolescent fertility rate (births per 1,000 women ages 15-19)', 'SP.ADO.TFRT', '1960', '133.56090740552298']\n",
      "['Arab World', 'ARB', 'Age dependency ratio (% of working-age population)', 'SP.POP.DPND', '1960', '87.7976011532547']\n",
      "{'CountryName': 'Arab World', 'CountryCode': 'ARB', 'IndicatorName': 'Adolescent fertility rate (births per 1,000 women ages 15-19)', 'IndicatorCode': 'SP.ADO.TFRT', 'Year': '1960', 'Value': '133.56090740552298'}\n",
      "{'CountryName': 'Arab World', 'CountryCode': 'ARB', 'IndicatorName': 'Age dependency ratio (% of working-age population)', 'IndicatorCode': 'SP.POP.DPND', 'Year': '1960', 'Value': '87.7976011532547'}\n"
     ]
    }
   ],
   "source": [
    "# Print the first two lists in row_lists\n",
    "print(row_lists[0])\n",
    "print(row_lists[1])\n",
    "# Turn list of lists into list of dicts: list_of_dicts\n",
    "list_of_dicts = [lists2dict(feature_names, sublist) for sublist in row_lists]\n",
    "# Print the first two dictionaries in list_of_dicts\n",
    "print(list_of_dicts[0])\n",
    "print(list_of_dicts[1])"
   ]
  },
  {
   "cell_type": "markdown",
   "metadata": {},
   "source": [
    "### Turning this all into a DataFrame"
   ]
  },
  {
   "cell_type": "code",
   "execution_count": 5,
   "metadata": {},
   "outputs": [
    {
     "name": "stdout",
     "output_type": "stream",
     "text": [
      "  CountryName CountryCode                                      IndicatorName  \\\n",
      "0  Arab World         ARB  Adolescent fertility rate (births per 1,000 wo...   \n",
      "1  Arab World         ARB  Age dependency ratio (% of working-age populat...   \n",
      "\n",
      "  IndicatorCode  Year               Value  \n",
      "0   SP.ADO.TFRT  1960  133.56090740552298  \n",
      "1   SP.POP.DPND  1960    87.7976011532547  \n"
     ]
    }
   ],
   "source": [
    "# Turn list of lists into list of dicts: list_of_dicts\n",
    "list_of_dicts = [lists2dict(feature_names, sublist) for sublist in row_lists]\n",
    "# Turn list of dicts into a DataFrame: df\n",
    "df = pd.DataFrame(list_of_dicts)\n",
    "# Print the head of the DataFrame\n",
    "print(df.head(2))"
   ]
  },
  {
   "cell_type": "markdown",
   "metadata": {},
   "source": [
    "## Using Python generators for streaming data"
   ]
  },
  {
   "cell_type": "markdown",
   "metadata": {},
   "source": [
    "- Generators for the large data limit\n",
    "    - Use a generator to load a file line by line\n",
    "    - Works on streaming data!\n",
    "    - Read and process the file until all lines are exhausted\n"
   ]
  },
  {
   "cell_type": "markdown",
   "metadata": {},
   "source": [
    "### Using Python generators for streaming data (1)\n",
    "- 先讀個100行\n",
    "- ***Note*** \n",
    "    - file 並沒有整個被存起來\n",
    "    - 在 for loop 中，file 的每一行經由 file.readline().split() 被存在 line 裡，下一圈就會被新的一行刷掉\n",
    "    "
   ]
  },
  {
   "cell_type": "code",
   "execution_count": 6,
   "metadata": {},
   "outputs": [
    {
     "name": "stdout",
     "output_type": "stream",
     "text": [
      "{'Burundi': 24, 'Rwanda': 23, 'Botswana': 7, 'Nepal': 16, 'Lesotho': 3, 'Bhutan': 6, 'Papua New Guinea': 4, 'Swaziland': 3, 'Malawi': 5, 'Uganda': 3, 'Cambodia': 2, 'Burkina Faso': 3, 'Mozambique': 1}\n",
      "<class '_io.TextIOWrapper'>\n"
     ]
    }
   ],
   "source": [
    "# Open a connection to the file\n",
    "with open('exercise/world_dev_ind.csv') as file:\n",
    "    # Skip the column names\n",
    "    # recall generator 的性質，與 Iterator 一般，使用過的元素會被消耗\n",
    "    file.readline()\n",
    "    # Initialize an empty dictionary: counts_dict\n",
    "    counts_dict = {}\n",
    "    # Process only the first 1000 rows\n",
    "    for j in range(100):\n",
    "        # Split the current line into a list: line\n",
    "        line = file.readline().split(',')\n",
    "        # Get the value for the first column: first_col\n",
    "        first_col = line[0]\n",
    "        # If the column value is in the dict, increment its value\n",
    "        if first_col in counts_dict.keys():\n",
    "            counts_dict[first_col] += 1\n",
    "        # Else, add to the dict and set value to 1\n",
    "        else:\n",
    "            counts_dict[first_col] = 1\n",
    "# Print the resulting dictionary\n",
    "print(counts_dict)\n",
    "print(type(file))"
   ]
  },
  {
   "cell_type": "markdown",
   "metadata": {},
   "source": [
    "#### file.readline()性質探討"
   ]
  },
  {
   "cell_type": "code",
   "execution_count": 7,
   "metadata": {},
   "outputs": [
    {
     "name": "stdout",
     "output_type": "stream",
     "text": [
      "Burundi,BDI,1960,2786740.0,2.077\n",
      " <class 'str'> B\n",
      "['Burundi', 'BDI', '1961', '2840375.0', '2.115\\n'] <class 'list'> Burundi\n",
      "['Burundi,BDI,1962,2894510.0,2.154\\n'] <class 'list'> Burundi,BDI,1962,2894510.0,2.154\n",
      "\n",
      "file.readline()會回傳一str物件，可以使用.split('指定字串')，來分離文字並自動存為list\n",
      "['11', '3']\n"
     ]
    }
   ],
   "source": [
    "with open('exercise/world_dev_ind.csv') as file:\n",
    "    file.readline()\n",
    "    line1 = file.readline()\n",
    "    line2 = file.readline().split(',')\n",
    "    line3 = file.readline().split('F')\n",
    "print(line1, type(line1), line1[0])\n",
    "print(line2, type(line2), line2[0])\n",
    "print(line3, type(line3), line3[0])\n",
    "print(\"file.readline()會回傳一str物件，可以使用.split('指定字串')，來分離文字並自動存為list\")\n",
    "\n",
    "x = \"11233\"\n",
    "y = x.split('23')\n",
    "print(y)\n"
   ]
  },
  {
   "cell_type": "markdown",
   "metadata": {},
   "source": [
    "### Using Python generators for streaming data (2)"
   ]
  },
  {
   "cell_type": "markdown",
   "metadata": {},
   "source": [
    "- ***Note*** \n",
    "    - file object is already a ***generator***, \n",
    "    - No NEED to explicitly create a generator object with your read_large_file() function. \n",
    "-  It is still good to practice how to create generators"
   ]
  },
  {
   "cell_type": "code",
   "execution_count": 8,
   "metadata": {},
   "outputs": [
    {
     "name": "stdout",
     "output_type": "stream",
     "text": [
      "CountryName,CountryCode,Year,Total Population,Urban population (% of total)\n",
      "\n",
      "Burundi,BDI,1960,2786740.0,2.077\n",
      "\n",
      "Burundi,BDI,1961,2840375.0,2.115\n",
      "\n"
     ]
    }
   ],
   "source": [
    "# Define read_large_file()\n",
    "def read_large_file(file_object):\n",
    "    \"\"\"A generator function to read a large file lazily.\"\"\"\n",
    "    # Loop indefinitely until the end of the file\n",
    "    while True:\n",
    "        # Read a line from the file: data\n",
    "        data = file_object.readline()\n",
    "        # Break if this is the end of the file\n",
    "        if not data:\n",
    "            break\n",
    "        # Yield the line of data\n",
    "        yield data \n",
    "# Open a connection to the file\n",
    "with open('exercise/world_dev_ind.csv') as file:\n",
    "    # Create a generator object for the file: gen_file\n",
    "    gen_file = read_large_file(file)\n",
    "    # Print the first three lines of the file\n",
    "    print(next(gen_file))\n",
    "    print(next(gen_file))\n",
    "    print(next(gen_file))"
   ]
  },
  {
   "cell_type": "markdown",
   "metadata": {},
   "source": [
    "### Using Python generators for streaming data (3)"
   ]
  },
  {
   "cell_type": "markdown",
   "metadata": {},
   "source": [
    "- Process the entire dataset"
   ]
  },
  {
   "cell_type": "code",
   "execution_count": 9,
   "metadata": {},
   "outputs": [
    {
     "name": "stdout",
     "output_type": "stream",
     "text": [
      "{'Burundi': 40, 'Rwanda': 34, 'Botswana': 11, 'Nepal': 28, 'Lesotho': 10, 'Bhutan': 16, 'Papua New Guinea': 9, 'Swaziland': 8, 'Malawi': 17, 'Uganda': 23, 'Cambodia': 5, 'Burkina Faso': 20, 'Mozambique': 13, 'Bangladesh': 13, 'Tanzania': 11, 'Solomon Islands': 8, 'Niger': 9, 'Ethiopia': 8, 'Chad': 5, 'Mauritania': 3, 'Kenya': 4, 'Lao PDR': 4, 'Afghanistan': 1}\n",
      "dict_values([40, 34, 11, 28, 10, 16, 9, 8, 17, 23, 5, 20, 13, 13, 11, 8, 9, 8, 5, 3, 4, 4, 1])\n",
      "300\n"
     ]
    }
   ],
   "source": [
    "# Initialize an empty dictionary: counts_dict\n",
    "counts_dict = {}\n",
    "# Open a connection to the file\n",
    "with open('exercise/world_dev_ind.csv') as file:\n",
    "    file.readline()\n",
    "    # Iterate over the generator from read_large_file()\n",
    "    for line in read_large_file(file):\n",
    "        row = line.split(',')\n",
    "        first_col = row[0]\n",
    "        if first_col in counts_dict.keys():\n",
    "            counts_dict[first_col] += 1\n",
    "        else:\n",
    "            counts_dict[first_col] = 1\n",
    "        #不想跑太多所以加一行\n",
    "        if sum(counts_dict.values()) == 300:\n",
    "            break\n",
    "# Print            \n",
    "print(counts_dict)\n",
    "\n",
    "print(counts_dict.values())\n",
    "print(sum(counts_dict.values()))"
   ]
  },
  {
   "cell_type": "markdown",
   "metadata": {},
   "source": [
    "#### 既然file object 已經是 generator，那不用generator function寫寫看"
   ]
  },
  {
   "cell_type": "code",
   "execution_count": 10,
   "metadata": {},
   "outputs": [
    {
     "name": "stdout",
     "output_type": "stream",
     "text": [
      "{'Burundi': 40, 'Rwanda': 34, 'Botswana': 11, 'Nepal': 28, 'Lesotho': 10, 'Bhutan': 16, 'Papua New Guinea': 9, 'Swaziland': 8, 'Malawi': 17, 'Uganda': 23, 'Cambodia': 5, 'Burkina Faso': 20, 'Mozambique': 13, 'Bangladesh': 13, 'Tanzania': 11, 'Solomon Islands': 8, 'Niger': 9, 'Ethiopia': 8, 'Chad': 5, 'Mauritania': 3, 'Kenya': 4, 'Lao PDR': 4, 'Afghanistan': 1}\n",
      "直接用file就好\n"
     ]
    }
   ],
   "source": [
    "counts_dict = {}\n",
    "with open('exercise/world_dev_ind.csv') as file:\n",
    "    file.readline()\n",
    "    # 這裡換成 file\n",
    "    for line in file:\n",
    "        row = line.split(',')\n",
    "        first_col = row[0]\n",
    "        if first_col in counts_dict.keys():\n",
    "            counts_dict[first_col] += 1\n",
    "        else:\n",
    "            counts_dict[first_col] = 1\n",
    "        if sum(counts_dict.values()) == 300:\n",
    "            break\n",
    "print(counts_dict)\n",
    "print(\"直接用file就好\")"
   ]
  },
  {
   "cell_type": "markdown",
   "metadata": {},
   "source": [
    "## Using pd.read_csv iterator for streaming data\n"
   ]
  },
  {
   "cell_type": "markdown",
   "metadata": {},
   "source": [
    "- Reading files in chunks\n",
    "    - read_csv() function and chunksize argument \n",
    "    - Look at specific indicators in specific countries\n",
    "    - Write a function to generalize tasks"
   ]
  },
  {
   "cell_type": "markdown",
   "metadata": {},
   "source": [
    "### Writing an iterator to load data in chunks (1)"
   ]
  },
  {
   "cell_type": "code",
   "execution_count": 11,
   "metadata": {},
   "outputs": [
    {
     "name": "stdout",
     "output_type": "stream",
     "text": [
      "  CountryName CountryCode  Year  Total Population  \\\n",
      "0     Burundi         BDI  1960         2786740.0   \n",
      "1     Burundi         BDI  1961         2840375.0   \n",
      "\n",
      "   Urban population (% of total)  \n",
      "0                          2.077  \n",
      "1                          2.115  \n",
      "  CountryName CountryCode  Year  Total Population  \\\n",
      "2     Burundi         BDI  1962         2894510.0   \n",
      "3     Burundi         BDI  1963         2950903.0   \n",
      "\n",
      "   Urban population (% of total)  \n",
      "2                          2.154  \n",
      "3                          2.193  \n"
     ]
    }
   ],
   "source": [
    "# Initialize reader object: df_reader\n",
    "df_reader = pd.read_csv('exercise/world_dev_ind.csv', chunksize = 2)\n",
    "# Print two chunks\n",
    "print(next(df_reader))\n",
    "print(next(df_reader))"
   ]
  },
  {
   "cell_type": "markdown",
   "metadata": {},
   "source": [
    "### Writing an iterator to load data in chunks (2)"
   ]
  },
  {
   "cell_type": "markdown",
   "metadata": {},
   "source": [
    "- Read in a file using a bigger DataFrame chunk size \n",
    "- Process the data from the first chunk."
   ]
  },
  {
   "cell_type": "code",
   "execution_count": 12,
   "metadata": {},
   "outputs": [
    {
     "name": "stdout",
     "output_type": "stream",
     "text": [
      "     CountryName CountryCode  Year  Total Population  \\\n",
      "298  Afghanistan         AFG  1960         8994793.0   \n",
      "\n",
      "     Urban population (% of total)  \n",
      "298                          8.221  \n",
      "[(8994793.0, 8.221)]\n",
      "1\n"
     ]
    }
   ],
   "source": [
    "# Initialize reader object: urb_pop_reader\n",
    "urb_pop_reader = pd.read_csv('exercise/world_dev_ind.csv', chunksize=300)\n",
    "# Get the first DataFrame chunk: df_urb_pop\n",
    "df_urb_pop = next(urb_pop_reader)\n",
    "# Check out the head of the DataFrame\n",
    "#print(df_urb_pop.head(2))\n",
    "# Check out specific country: df_pop_ceb\n",
    "df_pop = df_urb_pop[df_urb_pop['CountryCode'] == 'AFG']\n",
    "# Zip DataFrame columns of interest: pops\n",
    "pops = zip(df_pop['Total Population'],\n",
    "               df_pop['Urban population (% of total)'])\n",
    "# Turn zip object into list: pops_list\n",
    "pops_list = list(pops)\n",
    "# Print pops_list\n",
    "print(df_pop[0:5])\n",
    "print(pops_list[0:5])\n",
    "print(len(pops_list))"
   ]
  },
  {
   "cell_type": "markdown",
   "metadata": {},
   "source": [
    "#### 探討為何 df_pop 要用兩層？"
   ]
  },
  {
   "cell_type": "code",
   "execution_count": 13,
   "metadata": {},
   "outputs": [
    {
     "name": "stdout",
     "output_type": "stream",
     "text": [
      "0      False\n",
      "1      False\n",
      "2      False\n",
      "3      False\n",
      "4      False\n",
      "       ...  \n",
      "295    False\n",
      "296    False\n",
      "297    False\n",
      "298     True\n",
      "299    False\n",
      "Name: CountryCode, Length: 300, dtype: bool <class 'pandas.core.series.Series'>\n",
      "df_pop2 是一串由 df_urb_pop 的 CountryCode 行衍生出的 bool Series，藉由將這個 Series 當作索引， 可以幫我們提取 df_urb_pop 中 CountryCode 行 == AFG 的所有data\n",
      "     CountryName CountryCode  Year  Total Population  \\\n",
      "298  Afghanistan         AFG  1960         8994793.0   \n",
      "\n",
      "     Urban population (% of total)  \n",
      "298                          8.221  \n"
     ]
    }
   ],
   "source": [
    "df_pop2 = df_urb_pop['CountryCode'] == 'AFG'\n",
    "print(df_pop2, type(df_pop2))\n",
    "print('df_pop2 是一串由 df_urb_pop 的 CountryCode 行衍生出的 bool Series，'\n",
    "      '藉由將這個 Series 當作索引，', \n",
    "      '可以幫我們提取 df_urb_pop 中 CountryCode 行 == AFG 的所有data')\n",
    "print(df_pop)"
   ]
  },
  {
   "cell_type": "markdown",
   "metadata": {},
   "source": [
    "### Writing an iterator to load data in chunks (3)"
   ]
  },
  {
   "cell_type": "markdown",
   "metadata": {},
   "source": [
    "- adding a column to a DataFrame."
   ]
  },
  {
   "cell_type": "code",
   "execution_count": 14,
   "metadata": {},
   "outputs": [
    {
     "name": "stderr",
     "output_type": "stream",
     "text": [
      "/Users/ellick/anaconda3/envs/datacamp/lib/python3.7/site-packages/ipykernel_launcher.py:2: SettingWithCopyWarning: \n",
      "A value is trying to be set on a copy of a slice from a DataFrame.\n",
      "Try using .loc[row_indexer,col_indexer] = value instead\n",
      "\n",
      "See the caveats in the documentation: http://pandas.pydata.org/pandas-docs/stable/user_guide/indexing.html#returning-a-view-versus-a-copy\n",
      "  \n"
     ]
    },
    {
     "data": {
      "image/png": "[encoded data removed]",
      "text/plain": [
       "<Figure size 432x288 with 1 Axes>"
      ]
     },
     "metadata": {
      "needs_background": "dark"
     },
     "output_type": "display_data"
    }
   ],
   "source": [
    "# Use list comprehension to create new DataFrame column 'Total Urban Population'\n",
    "df_pop['Total Urban Population'] = [int(i[0] *i[1] *0.01) for i in pops_list]\n",
    "\n",
    "# Plot urban population data\n",
    "df_pop.plot(kind='scatter', x='Year', y='Total Urban Population')\n",
    "plt.show()"
   ]
  },
  {
   "cell_type": "markdown",
   "metadata": {},
   "source": [
    "### Writing an iterator to load data in chunks (4)"
   ]
  },
  {
   "cell_type": "markdown",
   "metadata": {},
   "source": [
    "- Processing the entire dataset now"
   ]
  },
  {
   "cell_type": "code",
   "execution_count": 15,
   "metadata": {},
   "outputs": [
    {
     "name": "stderr",
     "output_type": "stream",
     "text": [
      "/Users/ellick/anaconda3/envs/datacamp/lib/python3.7/site-packages/ipykernel_launcher.py:17: SettingWithCopyWarning: \n",
      "A value is trying to be set on a copy of a slice from a DataFrame.\n",
      "Try using .loc[row_indexer,col_indexer] = value instead\n",
      "\n",
      "See the caveats in the documentation: http://pandas.pydata.org/pandas-docs/stable/user_guide/indexing.html#returning-a-view-versus-a-copy\n"
     ]
    },
    {
     "data": {
      "image/png": "[encoded data removed]",
      "text/plain": [
       "<Figure size 432x288 with 1 Axes>"
      ]
     },
     "metadata": {
      "needs_background": "dark"
     },
     "output_type": "display_data"
    },
    {
     "name": "stdout",
     "output_type": "stream",
     "text": [
      "Empty DataFrame\n",
      "Columns: [CountryName, CountryCode, Year, Total Population, Urban population (% of total), Total Urban Population]\n",
      "Index: []\n",
      "[]\n",
      "0\n"
     ]
    }
   ],
   "source": [
    "# Initialize reader object: urb_pop_reader\n",
    "urb_pop_reader = pd.read_csv('exercise/world_dev_ind.csv', chunksize=300)\n",
    "data = pd.DataFrame()\n",
    "# Get the first DataFrame chunk: df_urb_pop\n",
    "for df_urb_pop in urb_pop_reader:\n",
    "    # Check out the head of the DataFrame\n",
    "    #print(df_urb_pop.head(2))\n",
    "    # Check out specific country: df_pop_ceb\n",
    "    df_pop = df_urb_pop[df_urb_pop['CountryCode'] == 'AFG']\n",
    "    # Zip DataFrame columns of interest: pops\n",
    "    pops = zip(df_pop['Total Population'],\n",
    "                   df_pop['Urban population (% of total)'])\n",
    "    # Turn zip object into list: pops_list\n",
    "    pops_list = list(pops)\n",
    "    \n",
    "    # Use list comprehension to create new DataFrame column 'Total Urban Population'\n",
    "    df_pop['Total Urban Population'] = [int(i[0] *i[1] *0.01) for i in pops_list]\n",
    "    data = data.append(df_pop)\n",
    "# Plot urban population data\n",
    "data.plot(kind='scatter', x='Year', y='Total Urban Population')\n",
    "plt.show()\n",
    "# Print pops_list\n",
    "print(df_pop[0:5])\n",
    "print(pops_list[0:5])\n",
    "print(len(pops_list))"
   ]
  },
  {
   "cell_type": "markdown",
   "metadata": {},
   "source": [
    "### Writing an iterator to load data in chunks (5)"
   ]
  },
  {
   "cell_type": "markdown",
   "metadata": {},
   "source": [
    "-  put all the code for processing the data into a single function so that you can reuse the code without having to rewrite the same things all over again."
   ]
  },
  {
   "cell_type": "code",
   "execution_count": 39,
   "metadata": {},
   "outputs": [
    {
     "name": "stderr",
     "output_type": "stream",
     "text": [
      "/Users/ellick/anaconda3/envs/datacamp/lib/python3.7/site-packages/ipykernel_launcher.py:13: SettingWithCopyWarning: \n",
      "A value is trying to be set on a copy of a slice from a DataFrame.\n",
      "Try using .loc[row_indexer,col_indexer] = value instead\n",
      "\n",
      "See the caveats in the documentation: http://pandas.pydata.org/pandas-docs/stable/user_guide/indexing.html#returning-a-view-versus-a-copy\n",
      "  del sys.path[0]\n"
     ]
    },
    {
     "data": {
      "image/png": "[encoded data removed]",
      "text/plain": [
       "<Figure size 432x288 with 1 Axes>"
      ]
     },
     "metadata": {
      "needs_background": "dark"
     },
     "output_type": "display_data"
    },
    {
     "name": "stdout",
     "output_type": "stream",
     "text": [
      "None\n"
     ]
    },
    {
     "data": {
      "image/png": "[encoded data removed]",
      "text/plain": [
       "<Figure size 432x288 with 1 Axes>"
      ]
     },
     "metadata": {
      "needs_background": "dark"
     },
     "output_type": "display_data"
    },
    {
     "name": "stdout",
     "output_type": "stream",
     "text": [
      "None\n"
     ]
    }
   ],
   "source": [
    "def plot_pop(filename, countrycode):\n",
    "    '''由filename，countrycode，作為參數，畫出指定國家城市人口總數的 scatter 圖'''\n",
    "    ub_pop_reader = pd.read_csv(filename, chunksize = 1000)\n",
    "    Total_Urban_Population = pd.DataFrame()\n",
    "    \n",
    "    # 迭代每一個chunk\n",
    "    for df_urb_pop in ub_pop_reader:\n",
    "        # 提取指定國家資訊\n",
    "        bool_Series = df_urb_pop['CountryCode'] == countrycode\n",
    "        df_pop = df_urb_pop[bool_Series]\n",
    "        # 將 總人口 與 城市人口 比率 計算為 城市人口總數\n",
    "        df_pop['Total Urban Population'] = df_pop['Total Population'] \\\n",
    "                                            * df_pop['Urban population (% of total)'] * 0.01\n",
    "        # 記錄此次迴圈結果\n",
    "        # Note 如果 append 的是 pd.Series ，每一個 chunk 會被認為是獨立的，但若 append \n",
    "        # pd.DataFrame 因為 column 的標籤還在所以每個 chunk 的資訊會合併進去\n",
    "        Total_Urban_Population = \\\n",
    "        Total_Urban_Population.append(df_pop)\n",
    "\n",
    "    plt.plot(Total_Urban_Population[\"Year\"], Total_Urban_Population['Total Urban Population'])\n",
    "    plt.show()\n",
    "    \n",
    "print(plot_pop('exercise/world_dev_ind.csv', 'AFG'), \n",
    "       sep = \"\\n\")\n",
    "print(plot_pop('exercise/world_dev_ind.csv', 'AGO'), \n",
    "       sep = \"\\n\")"
   ]
  },
  {
   "cell_type": "markdown",
   "metadata": {},
   "source": [
    "## Summary from CH3 to CH6"
   ]
  },
  {
   "cell_type": "markdown",
   "metadata": {},
   "source": [
    "- What you’ve learned:\n",
    "    - User-defined functions\n",
    "    - Iterators\n",
    "    - List comprehensions \n",
    "    - Generators"
   ]
  }
 ],
 "metadata": {
  "kernelspec": {
   "display_name": "Python [conda env:datacamp] *",
   "language": "python",
   "name": "conda-env-datacamp-py"
  },
  "language_info": {
   "codemirror_mode": {
    "name": "ipython",
    "version": 3
   },
   "file_extension": ".py",
   "mimetype": "text/x-python",
   "name": "python",
   "nbconvert_exporter": "python",
   "pygments_lexer": "ipython3",
   "version": "3.7.4"
  },
  "toc": {
   "base_numbering": 1,
   "nav_menu": {},
   "number_sections": true,
   "sideBar": false,
   "skip_h1_title": true,
   "title_cell": "Table of Contents",
   "title_sidebar": "Contents",
   "toc_cell": true,
   "toc_position": {
    "height": "222px",
    "left": "829px",
    "top": "102px",
    "width": "481px"
   },
   "toc_section_display": true,
   "toc_window_display": false
  },
  "varInspector": {
   "cols": {
    "lenName": 16,
    "lenType": 16,
    "lenVar": 40
   },
   "kernels_config": {
    "python": {
     "delete_cmd_postfix": "",
     "delete_cmd_prefix": "del ",
     "library": "var_list.py",
     "varRefreshCmd": "print(var_dic_list())"
    },
    "r": {
     "delete_cmd_postfix": ") ",
     "delete_cmd_prefix": "rm(",
     "library": "var_list.r",
     "varRefreshCmd": "cat(var_dic_list()) "
    }
   },
   "types_to_exclude": [
    "module",
    "function",
    "builtin_function_or_method",
    "instance",
    "_Feature"
   ],
   "window_display": false
  }
 },
 "nbformat": 4,
 "nbformat_minor": 2
}
