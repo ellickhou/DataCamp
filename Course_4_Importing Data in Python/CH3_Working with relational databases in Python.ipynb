{
 "cells": [
  {
   "cell_type": "markdown",
   "metadata": {},
   "source": [
    "# Working with relational databases in Python"
   ]
  },
  {
   "cell_type": "markdown",
   "metadata": {
    "toc": true
   },
   "source": [
    "<h1>Table of Contents<span class=\"tocSkip\"></span></h1>\n",
    "<div class=\"toc\"><ul class=\"toc-item\"><li><span><a href=\"#Introduction-to-relational-databases\" data-toc-modified-id=\"Introduction-to-relational-databases-1\"><span class=\"toc-item-num\">1&nbsp;&nbsp;</span>Introduction to relational databases</a></span></li><li><span><a href=\"#Creating-a-database-engine-in-Python\" data-toc-modified-id=\"Creating-a-database-engine-in-Python-2\"><span class=\"toc-item-num\">2&nbsp;&nbsp;</span>Creating a database engine in Python</a></span><ul class=\"toc-item\"><li><span><a href=\"#Creating-a-database-engine\" data-toc-modified-id=\"Creating-a-database-engine-2.1\"><span class=\"toc-item-num\">2.1&nbsp;&nbsp;</span>Creating a database engine</a></span></li><li><span><a href=\"#Getting-table-names\" data-toc-modified-id=\"Getting-table-names-2.2\"><span class=\"toc-item-num\">2.2&nbsp;&nbsp;</span>Getting table names</a></span></li></ul></li><li><span><a href=\"#Querying-relational-databases-in-Python\" data-toc-modified-id=\"Querying-relational-databases-in-Python-3\"><span class=\"toc-item-num\">3&nbsp;&nbsp;</span>Querying relational databases in Python</a></span><ul class=\"toc-item\"><li><span><a href=\"#The-Hello-World-of-SQL-Queries!\" data-toc-modified-id=\"The-Hello-World-of-SQL-Queries!-3.1\"><span class=\"toc-item-num\">3.1&nbsp;&nbsp;</span>The Hello World of SQL Queries!</a></span></li><li><span><a href=\"#Customizing-the-Hello-World-of-SQL-Queries\" data-toc-modified-id=\"Customizing-the-Hello-World-of-SQL-Queries-3.2\"><span class=\"toc-item-num\">3.2&nbsp;&nbsp;</span>Customizing the Hello World of SQL Queries</a></span></li><li><span><a href=\"#Filtering-your-database-records\" data-toc-modified-id=\"Filtering-your-database-records-3.3\"><span class=\"toc-item-num\">3.3&nbsp;&nbsp;</span>Filtering your database records</a></span></li><li><span><a href=\"#Ordering-your-SQL-records\" data-toc-modified-id=\"Ordering-your-SQL-records-3.4\"><span class=\"toc-item-num\">3.4&nbsp;&nbsp;</span>Ordering your SQL records</a></span></li></ul></li><li><span><a href=\"#Querying-relational-databases-directly-with-pandas\" data-toc-modified-id=\"Querying-relational-databases-directly-with-pandas-4\"><span class=\"toc-item-num\">4&nbsp;&nbsp;</span>Querying relational databases directly with pandas</a></span><ul class=\"toc-item\"><li><span><a href=\"#Pandas-and-The-Hello-World-of-SQL-Queries!\" data-toc-modified-id=\"Pandas-and-The-Hello-World-of-SQL-Queries!-4.1\"><span class=\"toc-item-num\">4.1&nbsp;&nbsp;</span>Pandas and The Hello World of SQL Queries!</a></span></li><li><span><a href=\"#Pandas-for-more-complex-querying\" data-toc-modified-id=\"Pandas-for-more-complex-querying-4.2\"><span class=\"toc-item-num\">4.2&nbsp;&nbsp;</span>Pandas for more complex querying</a></span></li></ul></li><li><span><a href=\"#Advanced-Querying:-exploiting-table-relationships\" data-toc-modified-id=\"Advanced-Querying:-exploiting-table-relationships-5\"><span class=\"toc-item-num\">5&nbsp;&nbsp;</span>Advanced Querying: exploiting table relationships</a></span><ul class=\"toc-item\"><li><span><a href=\"#The-power-of-SQL-lies-in-relationships-between-tables:-INNER-JOIN\" data-toc-modified-id=\"The-power-of-SQL-lies-in-relationships-between-tables:-INNER-JOIN-5.1\"><span class=\"toc-item-num\">5.1&nbsp;&nbsp;</span>The power of SQL lies in relationships between tables: INNER JOIN</a></span></li><li><span><a href=\"#Filtering-your-INNER-JOIN\" data-toc-modified-id=\"Filtering-your-INNER-JOIN-5.2\"><span class=\"toc-item-num\">5.2&nbsp;&nbsp;</span>Filtering your INNER JOIN</a></span></li></ul></li><li><span><a href=\"#Summary-of-CH1---CH3\" data-toc-modified-id=\"Summary-of-CH1---CH3-6\"><span class=\"toc-item-num\">6&nbsp;&nbsp;</span>Summary of CH1 - CH3</a></span></li></ul></div>"
   ]
  },
  {
   "cell_type": "markdown",
   "metadata": {},
   "source": [
    "## Introduction to relational databases"
   ]
  },
  {
   "cell_type": "markdown",
   "metadata": {},
   "source": [
    "- What is a relational database?\n",
    "    - Based on relational model of data \n",
    "    - First described by Edgar “Ted” Codd\n",
    "- Relational model\n",
    "    - Widely adopted\n",
    "    - There are relations between tables.\n",
    "        - Every table contains a primary key column, which has a unique entry for each row.\n",
    "        - Each row or record in a table represents an instance of an entity type.\n",
    "        - Each column in a table represents an attribute or feature of an instance.\n",
    "    - Todd’s 12 Rules/Commandments\n",
    "        - Consists of 13 rules (zero-indexed!)\n",
    "        - Describes what a Relational Database Management System should adhere to to be considered relational\n",
    "- Relational Database Management Systems\n",
    "   - SQL = Structured Query Language\n",
    "   - PostgreSQL\n",
    "   - MySQL\n",
    "   - SQLite   \n",
    "- Querying\n",
    "    - Fancy way of saying getting data out from the database"
   ]
  },
  {
   "cell_type": "markdown",
   "metadata": {},
   "source": [
    "## Creating a database engine in Python"
   ]
  },
  {
   "cell_type": "markdown",
   "metadata": {},
   "source": [
    "- SQLite database \n",
    "    - Fast and simple\n",
    "    - With enough functionality to interduce you to all the neessary concepts of querying a database\n",
    "- Packages to access SQLite database\n",
    "    - SQLAlchemy\n",
    "        - Works with many Relational Database Management Systems\n",
    "            - such as PostgreSQL and MySQL\n",
    "    - sqlite3\n",
    "- Creating a database engine\n",
    "        In [1]: from sqlalchemy import create_engine\n",
    "        In [2]: engine = create_engine('sqlite:///Northwind.sqlite')\n",
    "                                                 'type of database:///name of database'\n",
    "- Getting table names\n",
    "        In [3]: table_names = engine.table_names()"
   ]
  },
  {
   "cell_type": "markdown",
   "metadata": {},
   "source": [
    "### Creating a database engine\n",
    "- pip install sqlalchemy"
   ]
  },
  {
   "cell_type": "code",
   "execution_count": 1,
   "metadata": {},
   "outputs": [],
   "source": [
    "# Import necessary module\n",
    "from sqlalchemy import create_engine\n",
    "\n",
    "# Create engine: engine\n",
    "engine = create_engine('sqlite:///exercise/Chinook.sqlite')"
   ]
  },
  {
   "cell_type": "markdown",
   "metadata": {},
   "source": [
    "### Getting table names"
   ]
  },
  {
   "cell_type": "code",
   "execution_count": 2,
   "metadata": {},
   "outputs": [
    {
     "name": "stdout",
     "output_type": "stream",
     "text": [
      "['Album', 'Artist', 'Customer', 'Employee', 'Genre', 'Invoice', 'InvoiceLine', 'MediaType', 'Playlist', 'PlaylistTrack', 'Track']\n"
     ]
    }
   ],
   "source": [
    "# Save the table names to a list: table_names\n",
    "table_names = engine.table_names()\n",
    "\n",
    "# Print the table names to the shell\n",
    "print(table_names)\n"
   ]
  },
  {
   "cell_type": "markdown",
   "metadata": {},
   "source": [
    "## Querying relational databases in Python"
   ]
  },
  {
   "cell_type": "markdown",
   "metadata": {},
   "source": [
    "- Basic SQL query\n",
    "    - Returns all columns of all rows of the table Example:\n",
    "            SELECT * FROM Table_Name\n",
    "- How to make a query using python?\n",
    "    - We’ll use SQLAlchemy and pandas(to store the result)\n",
    "- Workflow of SQL querying\n",
    "    1. Import packages and functions\n",
    "            In [1]: from sqlalchemy import create_engine\n",
    "            In [2]: import pandas as pd\n",
    "    2. Create the database engine \n",
    "            In [3]: engine = create_engine('sqlite:///Northwind.sqlite')\n",
    "    3. Connect to the engine\n",
    "            In [4]: con = engine.connect()\n",
    "    4. Query the database\n",
    "            In [5]: rs = con.execute(\"SELECT * FROM Orders\")\n",
    "    5. Save query results to a DataFrame \n",
    "            In [6]: df = pd.DataFrame(rs.fetchall())    #fetch all, 取出全部\n",
    "    6. Close the connection\n",
    "            In [7]: con.close()\n",
    "- Addition\n",
    "    - Set the DataFrame column names\n",
    "            df.columns = rs.keys()    # before 6. Close the connection\n",
    "    - Using the context manager\n",
    "            In [1]: from sqlalchemy import create_engine\n",
    "            In [2]: import pandas as pd\n",
    "            In [3]: engine = create_engine('sqlite:///Northwind.sqlite')\n",
    "            In [4]: with engine.connect() as con:\n",
    "                        df = pd.DataFrame(rs.fetchmany(size=5))   #fetch many, 取出size個\n",
    "                        df.columns = rs.keys()\n",
    " \n",
    "    "
   ]
  },
  {
   "cell_type": "markdown",
   "metadata": {},
   "source": [
    "### The Hello World of SQL Queries!"
   ]
  },
  {
   "cell_type": "code",
   "execution_count": 3,
   "metadata": {},
   "outputs": [
    {
     "name": "stdout",
     "output_type": "stream",
     "text": [
      "   0                                      1  2\n",
      "0  1  For Those About To Rock We Salute You  1\n",
      "1  2                      Balls to the Wall  2\n",
      "2  3                      Restless and Wild  2\n",
      "3  4                      Let There Be Rock  1\n",
      "4  5                               Big Ones  3\n"
     ]
    }
   ],
   "source": [
    "# Import packages\n",
    "from sqlalchemy import create_engine\n",
    "import pandas as pd\n",
    "\n",
    "# Create engine: engine\n",
    "engine = create_engine('sqlite:///exercise/Chinook.sqlite')\n",
    "\n",
    "# Open engine connection: con\n",
    "con = engine.connect()\n",
    "\n",
    "# Perform query: rs\n",
    "rs = con.execute('SELECT * from Album')\n",
    "\n",
    "# Save results of the query to DataFrame: df\n",
    "df = pd.DataFrame(rs.fetchall())\n",
    "\n",
    "# Close connection\n",
    "con.close()\n",
    "\n",
    "# Print head of DataFrame df\n",
    "print(df.head())"
   ]
  },
  {
   "cell_type": "markdown",
   "metadata": {},
   "source": [
    "### Customizing the Hello World of SQL Queries\n",
    "- Select specified columns from a table;\n",
    "- Select a specified number of rows;\n",
    "- Import column names from the database table.\n"
   ]
  },
  {
   "cell_type": "code",
   "execution_count": 4,
   "metadata": {},
   "outputs": [
    {
     "name": "stdout",
     "output_type": "stream",
     "text": [
      "3\n",
      "  LastName                Title\n",
      "0    Adams      General Manager\n",
      "1  Edwards        Sales Manager\n",
      "2  Peacock  Sales Support Agent\n"
     ]
    }
   ],
   "source": [
    "# Import packages\n",
    "from sqlalchemy import create_engine\n",
    "import pandas as pd\n",
    "\n",
    "# Create engine: engine\n",
    "engine = create_engine('sqlite:///exercise/Chinook.sqlite')\n",
    "\n",
    "# Open engine in context manager\n",
    "# Perform query and save results to DataFrame: df\n",
    "with engine.connect() as con:\n",
    "    rs = con.execute('SELECT LastName, Title FROM Employee')\n",
    "    df = pd.DataFrame(rs.fetchmany(size=3))\n",
    "    df.columns = rs.keys()\n",
    "\n",
    "# Print the length of the DataFrame df\n",
    "print(len(df))\n",
    "\n",
    "# Print the head of the DataFrame df\n",
    "print(df.head())"
   ]
  },
  {
   "cell_type": "markdown",
   "metadata": {},
   "source": [
    "### Filtering your database records \n",
    "- With「WHERE」 clause"
   ]
  },
  {
   "cell_type": "code",
   "execution_count": 5,
   "metadata": {},
   "outputs": [
    {
     "name": "stdout",
     "output_type": "stream",
     "text": [
      "   EmployeeId  LastName FirstName       Title  ReportsTo            BirthDate  \\\n",
      "0           6  Mitchell   Michael  IT Manager          1  1973-07-01 00:00:00   \n",
      "1           7      King    Robert    IT Staff          6  1970-05-29 00:00:00   \n",
      "2           8  Callahan     Laura    IT Staff          6  1968-01-09 00:00:00   \n",
      "\n",
      "              HireDate                      Address        City State Country  \\\n",
      "0  2003-10-17 00:00:00         5827 Bowness Road NW     Calgary    AB  Canada   \n",
      "1  2004-01-02 00:00:00  590 Columbia Boulevard West  Lethbridge    AB  Canada   \n",
      "2  2004-03-04 00:00:00                  923 7 ST NW  Lethbridge    AB  Canada   \n",
      "\n",
      "  PostalCode              Phone                Fax                    Email  \n",
      "0    T3B 0C5  +1 (403) 246-9887  +1 (403) 246-9899  michael@chinookcorp.com  \n",
      "1    T1K 5N8  +1 (403) 456-9986  +1 (403) 456-8485   robert@chinookcorp.com  \n",
      "2    T1H 1Y8  +1 (403) 467-3351  +1 (403) 467-8772    laura@chinookcorp.com  \n"
     ]
    }
   ],
   "source": [
    "# Import packages\n",
    "from sqlalchemy import create_engine\n",
    "import pandas as pd\n",
    "\n",
    "# Create engine: engine\n",
    "engine = create_engine('sqlite:///exercise/Chinook.sqlite')\n",
    "\n",
    "# Open engine in context manager\n",
    "# Perform query and save results to DataFrame: df\n",
    "with engine.connect() as con:\n",
    "    rs = con.execute('SELECT * FROM Employee WHERE EmployeeId >= 6')\n",
    "    df = pd.DataFrame(rs.fetchall())\n",
    "    df.columns = rs.keys()\n",
    "\n",
    "# Print the head of the DataFrame df\n",
    "print(df.head())"
   ]
  },
  {
   "cell_type": "markdown",
   "metadata": {},
   "source": [
    "### Ordering your SQL records\n",
    "- with 「ORDER BY」clause"
   ]
  },
  {
   "cell_type": "code",
   "execution_count": 6,
   "metadata": {},
   "outputs": [
    {
     "name": "stdout",
     "output_type": "stream",
     "text": [
      "   EmployeeId  LastName FirstName                Title  ReportsTo  \\\n",
      "0           4      Park  Margaret  Sales Support Agent        2.0   \n",
      "1           2   Edwards     Nancy        Sales Manager        1.0   \n",
      "2           1     Adams    Andrew      General Manager        NaN   \n",
      "3           5   Johnson     Steve  Sales Support Agent        2.0   \n",
      "4           8  Callahan     Laura             IT Staff        6.0   \n",
      "\n",
      "             BirthDate             HireDate              Address        City  \\\n",
      "0  1947-09-19 00:00:00  2003-05-03 00:00:00     683 10 Street SW     Calgary   \n",
      "1  1958-12-08 00:00:00  2002-05-01 00:00:00         825 8 Ave SW     Calgary   \n",
      "2  1962-02-18 00:00:00  2002-08-14 00:00:00  11120 Jasper Ave NW    Edmonton   \n",
      "3  1965-03-03 00:00:00  2003-10-17 00:00:00         7727B 41 Ave     Calgary   \n",
      "4  1968-01-09 00:00:00  2004-03-04 00:00:00          923 7 ST NW  Lethbridge   \n",
      "\n",
      "  State Country PostalCode              Phone                Fax  \\\n",
      "0    AB  Canada    T2P 5G3  +1 (403) 263-4423  +1 (403) 263-4289   \n",
      "1    AB  Canada    T2P 2T3  +1 (403) 262-3443  +1 (403) 262-3322   \n",
      "2    AB  Canada    T5K 2N1  +1 (780) 428-9482  +1 (780) 428-3457   \n",
      "3    AB  Canada    T3B 1Y7   1 (780) 836-9987   1 (780) 836-9543   \n",
      "4    AB  Canada    T1H 1Y8  +1 (403) 467-3351  +1 (403) 467-8772   \n",
      "\n",
      "                      Email  \n",
      "0  margaret@chinookcorp.com  \n",
      "1     nancy@chinookcorp.com  \n",
      "2    andrew@chinookcorp.com  \n",
      "3     steve@chinookcorp.com  \n",
      "4     laura@chinookcorp.com  \n"
     ]
    }
   ],
   "source": [
    "# Import packages\n",
    "from sqlalchemy import create_engine\n",
    "import pandas as pd\n",
    "\n",
    "# Create engine: engine\n",
    "engine = create_engine('sqlite:///exercise/Chinook.sqlite')\n",
    "\n",
    "# Open engine in context manager\n",
    "with engine.connect() as con:\n",
    "    rs = con.execute('SELECT * FROM Employee ORDER BY BirthDate')\n",
    "    df = pd.DataFrame(rs.fetchall())\n",
    "\n",
    "    # Set the DataFrame's column names\n",
    "    df.columns = rs.keys()\n",
    "\n",
    "# Print head of DataFrame\n",
    "print(df.head())\n"
   ]
  },
  {
   "cell_type": "markdown",
   "metadata": {},
   "source": [
    "## Querying relational databases directly with pandas"
   ]
  },
  {
   "cell_type": "markdown",
   "metadata": {},
   "source": [
    "- pd.read_sql_query()\n",
    "        pd.read_sql_query('SELECT * FROM Album', engine)\n",
    "                                        'query' , the engine you create"
   ]
  },
  {
   "cell_type": "markdown",
   "metadata": {},
   "source": [
    "### Pandas and The Hello World of SQL Queries!"
   ]
  },
  {
   "cell_type": "code",
   "execution_count": 7,
   "metadata": {},
   "outputs": [
    {
     "name": "stdout",
     "output_type": "stream",
     "text": [
      "   AlbumId                                  Title  ArtistId\n",
      "0        1  For Those About To Rock We Salute You         1\n",
      "1        2                      Balls to the Wall         2\n",
      "2        3                      Restless and Wild         2\n",
      "3        4                      Let There Be Rock         1\n",
      "4        5                               Big Ones         3\n",
      "True\n"
     ]
    }
   ],
   "source": [
    "# Import packages\n",
    "from sqlalchemy import create_engine\n",
    "import pandas as pd\n",
    "\n",
    "# Create engine: engine\n",
    "engine = create_engine('sqlite:///exercise/Chinook.sqlite')\n",
    "\n",
    "# Execute query and store records in DataFrame: df\n",
    "df = pd.read_sql_query('SELECT * FROM Album', engine)\n",
    "\n",
    "# Print head of DataFrame\n",
    "print(df.head())\n",
    "\n",
    "# Open engine in context manager and store query result in df1\n",
    "with engine.connect() as con:\n",
    "    rs = con.execute(\"SELECT * FROM Album\")\n",
    "    df1 = pd.DataFrame(rs.fetchall())\n",
    "    df1.columns = rs.keys()\n",
    "\n",
    "# Confirm that both methods yield the same result\n",
    "print(df.equals(df1))"
   ]
  },
  {
   "cell_type": "markdown",
   "metadata": {},
   "source": [
    "### Pandas for more complex querying"
   ]
  },
  {
   "cell_type": "code",
   "execution_count": 8,
   "metadata": {},
   "outputs": [
    {
     "name": "stdout",
     "output_type": "stream",
     "text": [
      "   EmployeeId  LastName FirstName       Title  ReportsTo            BirthDate  \\\n",
      "0           8  Callahan     Laura    IT Staff          6  1968-01-09 00:00:00   \n",
      "1           7      King    Robert    IT Staff          6  1970-05-29 00:00:00   \n",
      "2           6  Mitchell   Michael  IT Manager          1  1973-07-01 00:00:00   \n",
      "\n",
      "              HireDate                      Address        City State Country  \\\n",
      "0  2004-03-04 00:00:00                  923 7 ST NW  Lethbridge    AB  Canada   \n",
      "1  2004-01-02 00:00:00  590 Columbia Boulevard West  Lethbridge    AB  Canada   \n",
      "2  2003-10-17 00:00:00         5827 Bowness Road NW     Calgary    AB  Canada   \n",
      "\n",
      "  PostalCode              Phone                Fax                    Email  \n",
      "0    T1H 1Y8  +1 (403) 467-3351  +1 (403) 467-8772    laura@chinookcorp.com  \n",
      "1    T1K 5N8  +1 (403) 456-9986  +1 (403) 456-8485   robert@chinookcorp.com  \n",
      "2    T3B 0C5  +1 (403) 246-9887  +1 (403) 246-9899  michael@chinookcorp.com  \n"
     ]
    }
   ],
   "source": [
    "# Import packages\n",
    "from sqlalchemy import create_engine\n",
    "import pandas as pd\n",
    "\n",
    "# Create engine: engine\n",
    "engine = create_engine('sqlite:///exercise/Chinook.sqlite')\n",
    "\n",
    "# Execute query and store records in DataFrame: df\n",
    "df = pd.read_sql_query('SELECT * FROM Employee \\\n",
    "                                    WHERE EmployeeId >= 6 ORDER BY BirthDate', engine)\n",
    "\n",
    "# Print head of DataFrame\n",
    "print(df.head())\n"
   ]
  },
  {
   "cell_type": "markdown",
   "metadata": {},
   "source": [
    "## Advanced Querying: exploiting table relationships"
   ]
  },
  {
   "cell_type": "markdown",
   "metadata": {},
   "source": [
    "- Recall that tables in Relational model are linked\n",
    "- Exploiting table relationships\n",
    "    - with 「INNER JOIN」clause\n",
    "            query = 'SELECT Title, Name FROM Album INNER JOIN Artist on Album.ArtistID = Artist.ArtistID'\n",
    "    - 拆成這樣看\n",
    "        - SELECT Title, Name\n",
    "            - 選擇 Title, Name 這兩個 column\n",
    "        - FROM Album INNER JOIN Artist\n",
    "            - 從 Album 與 Artist 這兩個 table 合起來的 table\n",
    "        - on Album.ArtistID = Artist.ArtistID\n",
    "            - 合起來條件是：當 Album 中的 ArtistID column 等於 Artist 中的 ArtistID column 的時候\n",
    "    - 換句話說就是把兩個 table 中都有的 ArtistID 當作連結\n"
   ]
  },
  {
   "cell_type": "markdown",
   "metadata": {},
   "source": [
    "### The power of SQL lies in relationships between tables: INNER JOIN"
   ]
  },
  {
   "cell_type": "code",
   "execution_count": 9,
   "metadata": {},
   "outputs": [
    {
     "name": "stdout",
     "output_type": "stream",
     "text": [
      "                                   Title       Name\n",
      "0  For Those About To Rock We Salute You      AC/DC\n",
      "1                      Balls to the Wall     Accept\n",
      "2                      Restless and Wild     Accept\n",
      "3                      Let There Be Rock      AC/DC\n",
      "4                               Big Ones  Aerosmith\n"
     ]
    }
   ],
   "source": [
    "# Open engine in context manager\n",
    "# Perform query and save results to DataFrame: df\n",
    "with engine.connect() as con:\n",
    "    rs = con.execute('SELECT Title, Name \\\n",
    "    FROM Album INNER JOIN Artist on Album.ArtistID = Artist.ArtistID')\n",
    "    df = pd.DataFrame(rs.fetchall())\n",
    "    df.columns = rs.keys()\n",
    "\n",
    "# Print head of DataFrame df\n",
    "print(df.head())\n"
   ]
  },
  {
   "cell_type": "markdown",
   "metadata": {},
   "source": [
    "### Filtering your INNER JOIN"
   ]
  },
  {
   "cell_type": "code",
   "execution_count": 10,
   "metadata": {},
   "outputs": [
    {
     "name": "stdout",
     "output_type": "stream",
     "text": [
      "   PlaylistId  TrackId  TrackId                                     Name  \\\n",
      "0           1     3027     3027                                     \"40\"   \n",
      "1           8     3027     3027                                     \"40\"   \n",
      "2           1     3045     3045  (I Can't Help) Falling In Love With You   \n",
      "3           5     3045     3045  (I Can't Help) Falling In Love With You   \n",
      "4           8     3045     3045  (I Can't Help) Falling In Love With You   \n",
      "\n",
      "   AlbumId  MediaTypeId  GenreId Composer  Milliseconds    Bytes  UnitPrice  \n",
      "0      239            1        1       U2        157962  5251767       0.99  \n",
      "1      239            1        1       U2        157962  5251767       0.99  \n",
      "2      241            1        8     None        207568  6905623       0.99  \n",
      "3      241            1        8     None        207568  6905623       0.99  \n",
      "4      241            1        8     None        207568  6905623       0.99  \n"
     ]
    }
   ],
   "source": [
    "# Execute query and store records in DataFrame: df\n",
    "df = pd.read_sql_query('SELECT * \\\n",
    "                                    FROM PlaylistTrack INNER JOIN Track \\\n",
    "                                    on PlaylistTrack.TrackId = Track.TrackId \\\n",
    "                                    WHERE Milliseconds < 250000 \\\n",
    "                                    ORDER BY Name', engine)\n",
    "\n",
    "# Print head of DataFrame\n",
    "print(df.head())"
   ]
  },
  {
   "cell_type": "markdown",
   "metadata": {},
   "source": [
    "## Summary of CH1 - CH3"
   ]
  },
  {
   "cell_type": "markdown",
   "metadata": {},
   "source": [
    "- What you’ve learned:\n",
    "    - Relational databases \n",
    "    - Queries\n",
    "        - SELECT\n",
    "        - WHERE\n",
    "        - JOIN\n",
    "- Next course:\n",
    "    - Scrape data from the web \n",
    "    - Interact with APIs"
   ]
  }
 ],
 "metadata": {
  "kernelspec": {
   "display_name": "Python [conda env:datacamp]",
   "language": "python",
   "name": "conda-env-datacamp-py"
  },
  "language_info": {
   "codemirror_mode": {
    "name": "ipython",
    "version": 3
   },
   "file_extension": ".py",
   "mimetype": "text/x-python",
   "name": "python",
   "nbconvert_exporter": "python",
   "pygments_lexer": "ipython3",
   "version": "3.7.4"
  },
  "toc": {
   "base_numbering": 1,
   "nav_menu": {},
   "number_sections": true,
   "sideBar": false,
   "skip_h1_title": true,
   "title_cell": "Table of Contents",
   "title_sidebar": "Contents",
   "toc_cell": true,
   "toc_position": {},
   "toc_section_display": false,
   "toc_window_display": false
  },
  "varInspector": {
   "cols": {
    "lenName": 16,
    "lenType": 16,
    "lenVar": 40
   },
   "kernels_config": {
    "python": {
     "delete_cmd_postfix": "",
     "delete_cmd_prefix": "del ",
     "library": "var_list.py",
     "varRefreshCmd": "print(var_dic_list())"
    },
    "r": {
     "delete_cmd_postfix": ") ",
     "delete_cmd_prefix": "rm(",
     "library": "var_list.r",
     "varRefreshCmd": "cat(var_dic_list()) "
    }
   },
   "types_to_exclude": [
    "module",
    "function",
    "builtin_function_or_method",
    "instance",
    "_Feature"
   ],
   "window_display": false
  }
 },
 "nbformat": 4,
 "nbformat_minor": 2
}
