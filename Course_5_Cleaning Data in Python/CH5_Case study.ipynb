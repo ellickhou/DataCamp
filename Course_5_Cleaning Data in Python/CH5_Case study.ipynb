{
 "cells": [
  {
   "cell_type": "markdown",
   "metadata": {},
   "source": [
    "# Case study"
   ]
  },
  {
   "cell_type": "markdown",
   "metadata": {
    "toc": true
   },
   "source": [
    "<h1>Table of Contents<span class=\"tocSkip\"></span></h1>\n",
    "<div class=\"toc\"><ul class=\"toc-item\"><li><span><a href=\"#Putting-it-all-together\" data-toc-modified-id=\"Putting-it-all-together-1\"><span class=\"toc-item-num\">1&nbsp;&nbsp;</span>Putting it all together</a></span></li><li><span><a href=\"#Initial-impressions-of-the-data\" data-toc-modified-id=\"Initial-impressions-of-the-data-2\"><span class=\"toc-item-num\">2&nbsp;&nbsp;</span>Initial impressions of the data</a></span><ul class=\"toc-item\"><li><span><a href=\"#Regular-Expression\" data-toc-modified-id=\"Regular-Expression-2.1\"><span class=\"toc-item-num\">2.1&nbsp;&nbsp;</span><a href=\"https://zh.wikipedia.org/wiki/%E6%AD%A3%E5%88%99%E8%A1%A8%E8%BE%BE%E5%BC%8F\" target=\"_blank\">Regular Expression</a></a></span></li></ul></li><li><span><a href=\"#Merge-data\" data-toc-modified-id=\"Merge-data-3\"><span class=\"toc-item-num\">3&nbsp;&nbsp;</span>Merge data</a></span></li></ul></div>"
   ]
  },
  {
   "cell_type": "markdown",
   "metadata": {},
   "source": [
    "## Putting it all together"
   ]
  },
  {
   "cell_type": "markdown",
   "metadata": {},
   "source": [
    "- Use the techniques you’ve learned on Gapminder data \n",
    "- Clean and tidy data saved to a file\n",
    "    - Ready to be loaded for analysis!\n",
    "- Dataset consists of life expectancy by country and year\n",
    "- Data will come in multiple parts\n",
    "    - Load\n",
    "    - Preliminary quality diagnosis\n",
    "    - Combine into single dataset\n",
    "- Useful methods\n",
    "        In [1]: import pandas as pd\n",
    "        In [2]: df = pd.read_csv('my_data.csv')\n",
    "        In [3]: df.head()\n",
    "        In [4]: df.info()\n",
    "        In [5]: df.columns\n",
    "        In [6]: df.describe()\n",
    "        In [7]: df.column.value_counts()\n",
    "        In [8]: df.column.plot('hist')\n",
    "- Data quality\n",
    "        In [9]: def cleaning_function(row_data):\n",
    "           ...:     # data cleaning steps\n",
    "           ...:     return ...\n",
    "        In [10]: df.apply(cleaning_function, axis=1)\n",
    "        In [11]: assert (df.column_data > 0).all()\n",
    "- Combining data\n",
    "        pd.merge(df1, df2, ...) \n",
    "        pd.concat([df1, df2, df3, ...])"
   ]
  },
  {
   "cell_type": "code",
   "execution_count": 1,
   "metadata": {},
   "outputs": [],
   "source": [
    "import numpy as np\n",
    "import pandas as pd\n",
    "import matplotlib.pyplot as plt\n",
    "import jupyterthemes.jtplot as jtplot\n",
    "%matplotlib inline\n",
    "jtplot.style(theme='onedork')"
   ]
  },
  {
   "cell_type": "code",
   "execution_count": 8,
   "metadata": {},
   "outputs": [
    {
     "name": "stdout",
     "output_type": "stream",
     "text": [
      "    1800  1801   1802   1803   1804   1805   1806   1807   1808   1809  ...  \\\n",
      "0    NaN   NaN    NaN    NaN    NaN    NaN    NaN    NaN    NaN    NaN  ...   \n",
      "1  28.21  28.2  28.19  28.18  28.17  28.16  28.15  28.14  28.13  28.12  ...   \n",
      "2    NaN   NaN    NaN    NaN    NaN    NaN    NaN    NaN    NaN    NaN  ...   \n",
      "\n",
      "   2008  2009  2010  2011  2012  2013  2014  2015  2016        Life expectancy  \n",
      "0   NaN   NaN   NaN   NaN   NaN   NaN   NaN   NaN   NaN               Abkhazia  \n",
      "1   NaN   NaN   NaN   NaN   NaN   NaN   NaN   NaN   NaN            Afghanistan  \n",
      "2   NaN   NaN   NaN   NaN   NaN   NaN   NaN   NaN   NaN  Akrotiri and Dhekelia  \n",
      "\n",
      "[3 rows x 218 columns]\n",
      "<class 'pandas.core.frame.DataFrame'>\n",
      "Int64Index: 780 entries, 0 to 259\n",
      "Columns: 218 entries, 1800 to Life expectancy\n",
      "dtypes: float64(217), object(1)\n",
      "memory usage: 1.3+ MB\n",
      "None\n",
      "(780, 218)\n"
     ]
    }
   ],
   "source": [
    "gapminder = pd.read_csv('exercise/gapminder.csv', index_col=0)\n",
    "print(gapminder.head(3))\n",
    "print(gapminder.info())\n",
    "#print(gapminder.columns)\n",
    "#print(gapminder.describe())\n",
    "print(gapminder.shape)"
   ]
  },
  {
   "cell_type": "code",
   "execution_count": 3,
   "metadata": {},
   "outputs": [],
   "source": [
    "#為了練習的處理\n",
    "#Life expectancy 更改 loc\n",
    "gapminder = pd.read_csv('exercise/gapminder.csv', index_col=0)\n",
    "life_exp_loc = gapminder.columns.get_loc('Life expectancy')\n",
    "if life_exp_loc != 0:\n",
    "    gapminder = gapminder.rename(columns={'Life expectancy' : 'Old_Life_expectancy'})\n",
    "    gapminder.insert(loc=0, column='Life expectancy', value=gapminder.iloc[:,life_exp_loc])\n",
    "    gapminder = gapminder.drop(columns = 'Old_Life_expectancy')\n",
    "# 分段\n",
    "g1800s, g1900s, g2000s = gapminder[['Life expectancy']], gapminder[['Life expectancy']], gapminder[['Life expectancy']]\n",
    "for year in list(gapminder.columns):\n",
    "    if year[0:2] == '18':\n",
    "        g1800s = pd.concat([g1800s, gapminder[year]], axis=1)\n",
    "    elif year[0:2] == '19':\n",
    "        g1900s = pd.concat([g1900s, gapminder[year]], axis=1)\n",
    "    elif year[0:2] == '20':\n",
    "        g2000s = pd.concat([g2000s, gapminder[year]], axis=1)\n",
    "#print(g1800s.info())\n",
    "#print(g1900s.info())\n",
    "#print(g2000s.info())"
   ]
  },
  {
   "cell_type": "code",
   "execution_count": 4,
   "metadata": {},
   "outputs": [
    {
     "name": "stdout",
     "output_type": "stream",
     "text": [
      "Papua New Guinea        3\n",
      "Bangladesh              3\n",
      "Christmas Island        3\n",
      "Malawi                  3\n",
      "USSR                    3\n",
      "                       ..\n",
      "United Arab Emirates    3\n",
      "Paraguay                3\n",
      "St. Helena              3\n",
      "India                   3\n",
      "Kosovo                  3\n",
      "Name: Life expectancy, Length: 260, dtype: int64\n"
     ]
    }
   ],
   "source": [
    "def check_null_or_valid(row_data):\n",
    "    \"\"\"Function that takes a row of data,\n",
    "    drops all missing values,\n",
    "    and checks if all remaining values are greater than or equal to 0\n",
    "    \"\"\"\n",
    "    no_na = row_data.dropna()\n",
    "    numeric = pd.to_numeric(no_na)\n",
    "    ge0 = numeric >= 0\n",
    "    return ge0\n",
    "\n",
    "# Check whether the first column is 'Life expectancy'\n",
    "assert gapminder.columns[0] == 'Life expectancy'\n",
    "\n",
    "# Check whether the values in the row are valid\n",
    "assert gapminder.iloc[:, 1:].apply(check_null_or_valid, axis=1).all().all()\n",
    "\n",
    "# Check that there is only one instance of each country\n",
    "#assert gapminder['Life expectancy'].value_counts()[0] == 1\n",
    "print(g1800s['Life expectancy'].value_counts())\n",
    "#g1800s = g1800s.drop_duplicates()\n",
    "#g1800s['Life expectancy'].value_counts()"
   ]
  },
  {
   "cell_type": "code",
   "execution_count": 5,
   "metadata": {},
   "outputs": [
    {
     "name": "stdout",
     "output_type": "stream",
     "text": [
      "<class 'pandas.core.frame.DataFrame'>\n",
      "Int64Index: 780 entries, 0 to 259\n",
      "Columns: 220 entries, Life expectancy to 2016\n",
      "dtypes: float64(217), object(3)\n",
      "memory usage: 1.3+ MB\n",
      "None\n",
      "<class 'pandas.core.frame.DataFrame'>\n",
      "Int64Index: 780 entries, 0 to 259\n",
      "Columns: 218 entries, Life expectancy to 2016\n",
      "dtypes: float64(217), object(1)\n",
      "memory usage: 1.3+ MB\n",
      "None\n"
     ]
    }
   ],
   "source": [
    "# Concatenate the DataFrames column-wise\n",
    "gapminder = pd.concat([g1800s, g1900s, g2000s], axis =1)\n",
    "# Print the head of gapminder\n",
    "print(gapminder.info())\n",
    "# dtypes = object, 由1變3\n",
    "# pd.concat 沒有合併 Life expectancy\n",
    "\n",
    "gapminder = pd.concat([g1800s, g1900s.drop(columns='Life expectancy'), \n",
    "                       g2000s.drop(columns='Life expectancy')], axis =1)\n",
    "print(gapminder.info())"
   ]
  },
  {
   "cell_type": "markdown",
   "metadata": {},
   "source": [
    "## Initial impressions of the data"
   ]
  },
  {
   "cell_type": "markdown",
   "metadata": {},
   "source": [
    "- Principles of tidy data\n",
    "    - Rows form observations\n",
    "    - Columns form variables\n",
    "    - Tidying data will make data cleaning easier \n",
    "    - Melting turns columns into rows\n",
    "    - Pivot will take unique values from a column and create new columns\n",
    "- Checking data types\n",
    "        In [1]: df.dtypes\n",
    "        In [2]: df['column'] = df['column'].to_numeric()\n",
    "        In [3]: df['column'] = df['column'].astype(str)\n",
    "- Additional calculations and saving your data\n",
    "        In [4]: df['new_column'] = df['column_1'] + df['column_2']\n",
    "        In [5]: df['new_column'] = df.apply(my_function, axis=1)\n",
    "        In [6]: df.to_csv['my_data.csv']"
   ]
  },
  {
   "cell_type": "code",
   "execution_count": 6,
   "metadata": {},
   "outputs": [
    {
     "name": "stdout",
     "output_type": "stream",
     "text": [
      "                 country  year  life_expectancy\n",
      "0               Abkhazia  1800              NaN\n",
      "1            Afghanistan  1800            28.21\n",
      "2  Akrotiri and Dhekelia  1800              NaN\n",
      "3                Albania  1800            35.40\n",
      "4                Algeria  1800            28.82\n"
     ]
    }
   ],
   "source": [
    "# Tidying data\n",
    "# Melt gapminder: gapminder_melt\n",
    "gapminder_melt = pd.melt(frame=gapminder, id_vars= 'Life expectancy')\n",
    "\n",
    "# Rename the columns\n",
    "gapminder_melt.columns = ['country', 'year', 'life_expectancy']\n",
    "\n",
    "# Print the head of gapminder_melt\n",
    "print(gapminder_melt.head())"
   ]
  },
  {
   "cell_type": "code",
   "execution_count": 9,
   "metadata": {},
   "outputs": [
    {
     "name": "stdout",
     "output_type": "stream",
     "text": [
      "country             object\n",
      "year                 int64\n",
      "life_expectancy    float64\n",
      "dtype: object\n",
      "country             object\n",
      "year                 int64\n",
      "life_expectancy    float64\n",
      "dtype: object\n"
     ]
    }
   ],
   "source": [
    "#Checking the data types\n",
    "print(gapminder_melt.dtypes)\n",
    "\n",
    "# Convert the year column to numeric\n",
    "gapminder_melt.year = pd.to_numeric(gapminder_melt.year, errors='coerce')\n",
    "print(gapminder_melt.dtypes)\n",
    "# Test if country is of type object\n",
    "assert gapminder_melt.country.dtypes == np.object\n",
    "# Test if year is of type int64\n",
    "assert gapminder_melt.year.dtype == np.int64\n",
    "# Test if life_expectancy is of type float64\n",
    "assert gapminder_melt.life_expectancy.dtype == np.float64\n"
   ]
  },
  {
   "cell_type": "code",
   "execution_count": 14,
   "metadata": {},
   "outputs": [
    {
     "name": "stdout",
     "output_type": "stream",
     "text": [
      "49            Congo, Dem. Rep.\n",
      "50                 Congo, Rep.\n",
      "53               Cote d'Ivoire\n",
      "73      Falkland Is (Malvinas)\n",
      "93               Guinea-Bissau\n",
      "98            Hong Kong, China\n",
      "118    United Korea (former)\\n\n",
      "131               Macao, China\n",
      "132             Macedonia, FYR\n",
      "145      Micronesia, Fed. Sts.\n",
      "161            Ngorno-Karabakh\n",
      "187             St. Barthélemy\n",
      "193     St.-Pierre-et-Miquelon\n",
      "225                Timor-Leste\n",
      "251      Virgin Islands (U.S.)\n",
      "252       North Yemen (former)\n",
      "253       South Yemen (former)\n",
      "258                      Åland\n",
      "Name: country, dtype: object\n",
      "0       True\n",
      "1       True\n",
      "2       True\n",
      "3       True\n",
      "4       True\n",
      "       ...  \n",
      "255     True\n",
      "256     True\n",
      "257     True\n",
      "258    False\n",
      "259     True\n",
      "Name: country, Length: 260, dtype: bool\n"
     ]
    }
   ],
   "source": [
    "# Create the series of countries: countries\n",
    "countries = gapminder_melt.country\n",
    "\n",
    "# Drop all the duplicates from countries\n",
    "countries = countries.drop_duplicates()\n",
    "\n",
    "# Write the regular expression: pattern\n",
    "pattern = '^[A-Za-z\\.\\s]*$'\n",
    "\n",
    "# Create the Boolean vector: mask\n",
    "# elements in countries ONLY contains pattern\n",
    "mask = countries.str.contains(pattern)\n",
    "\n",
    "# Invert the mask: mask_inverse\n",
    "mask_inverse = ~mask\n",
    "\n",
    "# Subset countries using mask_inverse: invalid_countries\n",
    "invalid_countries = countries.loc[mask_inverse]\n",
    "\n",
    "# Print invalid_countries\n",
    "print(invalid_countries)\n"
   ]
  },
  {
   "cell_type": "markdown",
   "metadata": {},
   "source": [
    "### [Regular Expression](https://zh.wikipedia.org/wiki/正则表达式)"
   ]
  },
  {
   "cell_type": "markdown",
   "metadata": {},
   "source": [
    "## Merge data"
   ]
  }
 ],
 "metadata": {
  "kernelspec": {
   "display_name": "Python 3",
   "language": "python",
   "name": "python3"
  },
  "language_info": {
   "codemirror_mode": {
    "name": "ipython",
    "version": 3
   },
   "file_extension": ".py",
   "mimetype": "text/x-python",
   "name": "python",
   "nbconvert_exporter": "python",
   "pygments_lexer": "ipython3",
   "version": "3.7.4"
  },
  "toc": {
   "base_numbering": 1,
   "nav_menu": {},
   "number_sections": true,
   "sideBar": false,
   "skip_h1_title": true,
   "title_cell": "Table of Contents",
   "title_sidebar": "Contents",
   "toc_cell": true,
   "toc_position": {},
   "toc_section_display": true,
   "toc_window_display": false
  },
  "varInspector": {
   "cols": {
    "lenName": 16,
    "lenType": 16,
    "lenVar": 40
   },
   "kernels_config": {
    "python": {
     "delete_cmd_postfix": "",
     "delete_cmd_prefix": "del ",
     "library": "var_list.py",
     "varRefreshCmd": "print(var_dic_list())"
    },
    "r": {
     "delete_cmd_postfix": ") ",
     "delete_cmd_prefix": "rm(",
     "library": "var_list.r",
     "varRefreshCmd": "cat(var_dic_list()) "
    }
   },
   "types_to_exclude": [
    "module",
    "function",
    "builtin_function_or_method",
    "instance",
    "_Feature"
   ],
   "window_display": false
  }
 },
 "nbformat": 4,
 "nbformat_minor": 2
}
