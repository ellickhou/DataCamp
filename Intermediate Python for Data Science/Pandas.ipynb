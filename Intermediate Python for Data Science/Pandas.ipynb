{
 "cells": [
  {
   "cell_type": "markdown",
   "metadata": {},
   "source": [
    "# Pandas"
   ]
  },
  {
   "cell_type": "markdown",
   "metadata": {
    "toc": true
   },
   "source": [
    "<h1>Table of Contents<span class=\"tocSkip\"></span></h1>\n",
    "<div class=\"toc\"><ul class=\"toc-item\"><li><span><a href=\"#Datasets-in-Python\" data-toc-modified-id=\"Datasets-in-Python-1\"><span class=\"toc-item-num\">1&nbsp;&nbsp;</span>Datasets in Python</a></span><ul class=\"toc-item\"><li><span><a href=\"#Dictionary-to-DataFrame\" data-toc-modified-id=\"Dictionary-to-DataFrame-1.1\"><span class=\"toc-item-num\">1.1&nbsp;&nbsp;</span>Dictionary to DataFrame</a></span></li><li><span><a href=\"#CSV-to-DataFrame\" data-toc-modified-id=\"CSV-to-DataFrame-1.2\"><span class=\"toc-item-num\">1.2&nbsp;&nbsp;</span>CSV to DataFrame</a></span></li></ul></li><li><span><a href=\"#Index-and-Select-Data\" data-toc-modified-id=\"Index-and-Select-Data-2\"><span class=\"toc-item-num\">2&nbsp;&nbsp;</span>Index and Select Data</a></span><ul class=\"toc-item\"><li><span><a href=\"#Square-Square-barckets-[-]\" data-toc-modified-id=\"Square-Square-barckets-[-]-2.1\"><span class=\"toc-item-num\">2.1&nbsp;&nbsp;</span>Square Square barckets [ ]</a></span></li><li><span><a href=\"#loc\" data-toc-modified-id=\"loc-2.2\"><span class=\"toc-item-num\">2.2&nbsp;&nbsp;</span>loc</a></span></li><li><span><a href=\"#iloc\" data-toc-modified-id=\"iloc-2.3\"><span class=\"toc-item-num\">2.3&nbsp;&nbsp;</span>iloc</a></span></li></ul></li></ul></div>"
   ]
  },
  {
   "cell_type": "markdown",
   "metadata": {},
   "source": [
    "## Datasets in Python"
   ]
  },
  {
   "cell_type": "markdown",
   "metadata": {},
   "source": [
    "1. 2D Numpy array\n",
    "    1. one data type\n",
    "2. Pandas\n",
    "    1. high level data manipulation tool\n",
    "    2. Built on Numpy\n",
    "    3. DataFrame\n",
    "        ![DataFrame]()\n",
    "        1. from dictionary\n",
    "        2. from .csv file (comma-sparated-values)"
   ]
  },
  {
   "cell_type": "markdown",
   "metadata": {},
   "source": [
    "### Dictionary to DataFrame "
   ]
  },
  {
   "cell_type": "code",
   "execution_count": 1,
   "metadata": {},
   "outputs": [
    {
     "name": "stdout",
     "output_type": "stream",
     "text": [
      "           country  drives_right  cars_per_cap\n",
      "US   United States          True           809\n",
      "AUS      Australia         False           731\n",
      "JAP          Japan         False           588\n",
      "IN           India         False            18\n",
      "RU          Russia          True           200\n",
      "MOR        Morocco          True            70\n",
      "EG           Egypt          True            45\n"
     ]
    }
   ],
   "source": [
    "# Import pandas as pd\n",
    "import pandas as pd\n",
    "\n",
    "# Pre-defined lists\n",
    "names = [\n",
    "    'United States', 'Australia', 'Japan', 'India', 'Russia', 'Morocco',\n",
    "    'Egypt'\n",
    "]\n",
    "dr = [True, False, False, False, True, True, True]\n",
    "cpc = [809, 731, 588, 18, 200, 70, 45]\n",
    "\n",
    "# Create dictionary my_dict with three key:value pairs: my_dict\n",
    "my_dict = {'country': names, 'drives_right': dr, 'cars_per_cap': cpc}\n",
    "\n",
    "# Build a DataFrame cars from my_dict: cars\n",
    "cars = pd.DataFrame(my_dict)\n",
    "# Definition of row_labels\n",
    "row_labels = ['US', 'AUS', 'JAP', 'IN', 'RU', 'MOR', 'EG']\n",
    "\n",
    "# Specify row labels of cars\n",
    "cars.index = row_labels\n",
    "\n",
    "# Print cars\n",
    "print(cars)\n",
    "\n",
    "# 輸出 .csv檔\n",
    "cars.to_csv('pandas_examples/cars.csv')  # 相對路徑\n",
    "cars.to_csv(\n",
    "    'E:\\Documents\\GitHub\\DataCamp\\Intermediate Python for Data Science\\pandas_examples\\cars(1).csv'\n",
    ")  # 絕對路徑"
   ]
  },
  {
   "cell_type": "markdown",
   "metadata": {},
   "source": [
    "### CSV to DataFrame"
   ]
  },
  {
   "cell_type": "markdown",
   "metadata": {},
   "source": [
    "1. Use  \n",
    "        pd.read_csv('檔名')  \n",
    "    to import cars.csv data as a DataFrame.\n",
    "2. 指定label\n",
    "        cars = pd.read_csv('path/to/cars.csv', index_col = 0)\n",
    "    指定 1.st column 為 label"
   ]
  },
  {
   "cell_type": "markdown",
   "metadata": {},
   "source": [
    "## Index and Select Data"
   ]
  },
  {
   "cell_type": "markdown",
   "metadata": {},
   "source": [
    "1. Square barckets [ ] \n",
    "2. Advanced methods\n",
    "    1. loc\n",
    "    2. iloc  \n",
    "\n",
    "\n",
    "存取資料時，取得資料的type\n",
    "+ series [ ]\n",
    "+ DataFrame [ [ ] ]  "
   ]
  },
  {
   "cell_type": "markdown",
   "metadata": {
    "heading_collapsed": true
   },
   "source": [
    "### Square Square barckets [ ]"
   ]
  },
  {
   "cell_type": "markdown",
   "metadata": {
    "hidden": true
   },
   "source": [
    "\n",
    "def  \n",
    "bric = pd.DataFrame(something)\n",
    "\n",
    "1. Column access\n",
    "    1. series [ ]\n",
    "            tpye(brics[\"country\"])\n",
    "            Out pandas.core.series.Series (1D labelled array)\n",
    "    2. DataFrame [ [ ] ]  \n",
    "        select the column and keep the data in dataframe type        \n",
    "            brics[[\"country\", \"capital\"]]\n",
    "            tpye(brics[[\"country\", \"capital\"]])\n",
    "            Out pandas.core.frame.DataFrame\n",
    "\n",
    "2. Row access\n",
    "        bric[1:4]  \n",
    "        存取編號第1~3行           \n"
   ]
  },
  {
   "cell_type": "code",
   "execution_count": 2,
   "metadata": {
    "collapsed": true,
    "hidden": true
   },
   "outputs": [
    {
     "name": "stdout",
     "output_type": "stream",
     "text": [
      "US     United States\n",
      "AUS        Australia\n",
      "JAP            Japan\n",
      "IN             India\n",
      "RU            Russia\n",
      "MOR          Morocco\n",
      "EG             Egypt\n",
      "Name: country, dtype: object\n",
      "           country\n",
      "US   United States\n",
      "AUS      Australia\n",
      "JAP          Japan\n",
      "IN           India\n",
      "RU          Russia\n",
      "MOR        Morocco\n",
      "EG           Egypt\n",
      "           country  drives_right\n",
      "US   United States          True\n",
      "AUS      Australia         False\n",
      "JAP          Japan         False\n",
      "IN           India         False\n",
      "RU          Russia          True\n",
      "MOR        Morocco          True\n",
      "EG           Egypt          True\n",
      "           country  drives_right  cars_per_cap\n",
      "US   United States          True           809\n",
      "AUS      Australia         False           731\n",
      "JAP          Japan         False           588\n",
      "IN           India         False            18\n",
      "     country  drives_right  cars_per_cap\n",
      "IN     India         False            18\n",
      "RU    Russia          True           200\n",
      "MOR  Morocco          True            70\n"
     ]
    }
   ],
   "source": [
    "# Import cars data\n",
    "import pandas as pd\n",
    "\n",
    "cars = pd.read_csv('pandas_examples/cars.csv', index_col = 0)\n",
    "\n",
    "# Print out country column as Pandas Series\n",
    "print(cars[\"country\"])\n",
    "\n",
    "# Print out country column as Pandas DataFrame\n",
    "print(cars[[\"country\"]])\n",
    "\n",
    "# Print out DataFrame with country and drives_right columns\n",
    "print(cars[[\"country\",\"drives_right\"]])\n",
    "\n",
    "# Print out first 3 observations\n",
    "print(cars[0:4])\n",
    "\n",
    "# Print out fourth, fifth and sixth observation\n",
    "print(cars[3:6])"
   ]
  },
  {
   "cell_type": "markdown",
   "metadata": {
    "heading_collapsed": true
   },
   "source": [
    "### loc"
   ]
  },
  {
   "cell_type": "markdown",
   "metadata": {
    "hidden": true
   },
   "source": [
    "label-based  \n",
    "ex:\n",
    "1. Row access\n",
    "    1. series\n",
    "            beic.loc[\"RU\"]\n",
    "            \n",
    "    2. dataframe\n",
    "            beic.loc[[\"RU\", \"IN\", \"CH\"]]\n",
    "2. Cloumn access\n",
    "        beic.loc[:, [\"country\", \"capital\"]]\n",
    "3. Row & Cloumn access\n",
    "        beic.loc[[\"RU\", \"IN\", \"CH\"], [\"country\", \"capital\"]]\n"
   ]
  },
  {
   "cell_type": "markdown",
   "metadata": {},
   "source": [
    "### iloc"
   ]
  },
  {
   "cell_type": "markdown",
   "metadata": {},
   "source": [
    "\n",
    "index-based\n",
    "ex:\n",
    "1. Row access\n",
    "    1. series\n",
    "            beic.loc[1]\n",
    "            \n",
    "    2. dataframe\n",
    "            beic.loc[[1, 2, 3]]\n",
    "2. Cloumn access\n",
    "        beic.loc[:, [0, 1]]\n",
    "3. Row & Cloumn access\n",
    "        beic.loc[[1, 2, 3], [0, 1]]\n",
    "\n",
    "same result as using loc"
   ]
  },
  {
   "cell_type": "code",
   "execution_count": 3,
   "metadata": {
    "collapsed": true
   },
   "outputs": [
    {
     "name": "stdout",
     "output_type": "stream",
     "text": [
      "country         Japan\n",
      "drives_right    False\n",
      "cars_per_cap      588\n",
      "Name: JAP, dtype: object\n",
      "       country  drives_right  cars_per_cap\n",
      "AUS  Australia         False           731\n",
      "EG       Egypt          True            45\n",
      "     drives_right\n",
      "MOR          True\n",
      "     country  drives_right\n",
      "MOR  Morocco          True\n",
      "RU    Russia          True\n",
      "US      True\n",
      "AUS    False\n",
      "JAP    False\n",
      "IN     False\n",
      "RU      True\n",
      "MOR     True\n",
      "EG      True\n",
      "Name: drives_right, dtype: bool\n",
      "     drives_right\n",
      "US           True\n",
      "AUS         False\n",
      "JAP         False\n",
      "IN          False\n",
      "RU           True\n",
      "MOR          True\n",
      "EG           True\n",
      "     cars_per_cap  drives_right\n",
      "US            809          True\n",
      "AUS           731         False\n",
      "JAP           588         False\n",
      "IN             18         False\n",
      "RU            200          True\n",
      "MOR            70          True\n",
      "EG             45          True\n"
     ]
    }
   ],
   "source": [
    "# Import cars data\n",
    "import pandas as pd\n",
    "cars = pd.read_csv('pandas_examples/cars.csv', index_col = 0)\n",
    "\n",
    "# Print out observation for Japan\n",
    "print(cars.loc[\"JAP\"])\n",
    "\n",
    "# Print out observations for Australia and Egypt\n",
    "print(cars.iloc[[1,6]])\n",
    "\n",
    "# Print out drives_right value of Morocco\n",
    "print(cars.loc[[\"MOR\"], [\"drives_right\"]])\n",
    "\n",
    "# Print sub-DataFrame\n",
    "print(cars.loc[[\"MOR\", \"RU\"], [\"country\", \"drives_right\"]])\n",
    "\n",
    "# Print out drives_right column as Series\n",
    "print(cars.loc[:, \"drives_right\"])\n",
    "\n",
    "# Print out drives_right column as DataFrame\n",
    "print(cars.iloc[:,[1]])\n",
    "\n",
    "# Print out cars_per_cap and drives_right as DataFrame\n",
    "print(cars.loc[:, [\"cars_per_cap\", \"drives_right\"]])\n",
    "\n"
   ]
  },
  {
   "cell_type": "code",
   "execution_count": null,
   "metadata": {},
   "outputs": [],
   "source": []
  },
  {
   "cell_type": "code",
   "execution_count": null,
   "metadata": {},
   "outputs": [],
   "source": []
  },
  {
   "cell_type": "code",
   "execution_count": null,
   "metadata": {},
   "outputs": [],
   "source": []
  }
 ],
 "metadata": {
  "kernelspec": {
   "display_name": "DateCamp",
   "language": "python",
   "name": "datecamp"
  },
  "language_info": {
   "codemirror_mode": {
    "name": "ipython",
    "version": 3
   },
   "file_extension": ".py",
   "mimetype": "text/x-python",
   "name": "python",
   "nbconvert_exporter": "python",
   "pygments_lexer": "ipython3",
   "version": "3.7.3"
  },
  "toc": {
   "base_numbering": 1,
   "nav_menu": {},
   "number_sections": true,
   "sideBar": false,
   "skip_h1_title": true,
   "title_cell": "Table of Contents",
   "title_sidebar": "Contents",
   "toc_cell": true,
   "toc_position": {
    "height": "142px",
    "left": "1228.8px",
    "top": "136px",
    "width": "307.2px"
   },
   "toc_section_display": true,
   "toc_window_display": false
  },
  "varInspector": {
   "cols": {
    "lenName": 16,
    "lenType": 16,
    "lenVar": 40
   },
   "kernels_config": {
    "python": {
     "delete_cmd_postfix": "",
     "delete_cmd_prefix": "del ",
     "library": "var_list.py",
     "varRefreshCmd": "print(var_dic_list())"
    },
    "r": {
     "delete_cmd_postfix": ") ",
     "delete_cmd_prefix": "rm(",
     "library": "var_list.r",
     "varRefreshCmd": "cat(var_dic_list()) "
    }
   },
   "types_to_exclude": [
    "module",
    "function",
    "builtin_function_or_method",
    "instance",
    "_Feature"
   ],
   "window_display": false
  }
 },
 "nbformat": 4,
 "nbformat_minor": 2
}
