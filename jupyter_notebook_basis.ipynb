{
 "cells": [
  {
   "cell_type": "markdown",
   "metadata": {},
   "source": [
    "# jupyter_notebook_basis"
   ]
  },
  {
   "cell_type": "markdown",
   "metadata": {
    "toc": true
   },
   "source": [
    "<h1>Table of Contents<span class=\"tocSkip\"></span></h1>\n",
    "<div class=\"toc\"><ul class=\"toc-item\"><li><span><a href=\"#設定你的jupyter-notebook\" data-toc-modified-id=\"設定你的jupyter-notebook-1\"><span class=\"toc-item-num\">1&nbsp;&nbsp;</span>設定你的jupyter notebook</a></span><ul class=\"toc-item\"><li><span><a href=\"#notebook-環境設定\" data-toc-modified-id=\"notebook-環境設定-1.1\"><span class=\"toc-item-num\">1.1&nbsp;&nbsp;</span>notebook 環境設定</a></span></li><li><span><a href=\"#notebook-起始資料夾路徑設定\" data-toc-modified-id=\"notebook-起始資料夾路徑設定-1.2\"><span class=\"toc-item-num\">1.2&nbsp;&nbsp;</span>notebook 起始資料夾路徑設定</a></span></li><li><span><a href=\"#安裝jupyter-notebook-擴充套件\" data-toc-modified-id=\"安裝jupyter-notebook-擴充套件-1.3\"><span class=\"toc-item-num\">1.3&nbsp;&nbsp;</span>安裝jupyter notebook 擴充套件</a></span></li><li><span><a href=\"#Jupyter-notebook-Themes\" data-toc-modified-id=\"Jupyter-notebook-Themes-1.4\"><span class=\"toc-item-num\">1.4&nbsp;&nbsp;</span>Jupyter notebook Themes</a></span></li></ul></li><li><span><a href=\"#使用jupyter-notebook\" data-toc-modified-id=\"使用jupyter-notebook-2\"><span class=\"toc-item-num\">2&nbsp;&nbsp;</span>使用jupyter notebook</a></span><ul class=\"toc-item\"><li><span><a href=\"#新增notebook、資料夾\" data-toc-modified-id=\"新增notebook、資料夾-2.1\"><span class=\"toc-item-num\">2.1&nbsp;&nbsp;</span>新增notebook、資料夾</a></span></li><li><span><a href=\"#Cell\" data-toc-modified-id=\"Cell-2.2\"><span class=\"toc-item-num\">2.2&nbsp;&nbsp;</span>Cell</a></span></li><li><span><a href=\"#快捷鍵與輸入模式\" data-toc-modified-id=\"快捷鍵與輸入模式-2.3\"><span class=\"toc-item-num\">2.3&nbsp;&nbsp;</span>快捷鍵與輸入模式</a></span></li></ul></li></ul></div>"
   ]
  },
  {
   "cell_type": "markdown",
   "metadata": {},
   "source": [
    "## 設定你的jupyter notebook"
   ]
  },
  {
   "cell_type": "markdown",
   "metadata": {},
   "source": [
    "### notebook 環境設定"
   ]
  },
  {
   "cell_type": "markdown",
   "metadata": {},
   "source": [
    "1. 選擇性新增環境\n",
    "    1. 在anaconda prompt裡面啟用相應的環境:  \n",
    "            activate env_name\n",
    "    2. 執行      \n",
    "            python -m ipykernel install env_name\n",
    "2. 一次性加入anaconda中現有的所有環境\n",
    "    1. 在base中執行:  \n",
    "            conda install nb_conda"
   ]
  },
  {
   "cell_type": "markdown",
   "metadata": {},
   "source": [
    "### notebook 起始資料夾路徑設定"
   ]
  },
  {
   "cell_type": "markdown",
   "metadata": {},
   "source": [
    "1. 啟動anaconda prompt，在base中執行:\n",
    "        jupyter-notebook --generate-config\n",
    "2. 找到jupyter_notebook_config.py檔案\n",
    "3. 透過編輯器開啟jupyter_notebook_config.py\n",
    "4. 搜尋directory\n",
    "5. 將  \n",
    "    #c.NotebookApp.notebook_dir = ''  \n",
    "    中的 # 去除，並在 '' 中輸入指定資料夾路徑  \n",
    "    ex:\n",
    "        c.NotebookApp.notebook_dir = 'E:\\Documents\\GitHub\\DataCamp'\n",
    "6. 儲存設定\n",
    "7. 再次開啟jupyter notebook"
   ]
  },
  {
   "cell_type": "markdown",
   "metadata": {
    "run_control": {
     "marked": true
    }
   },
   "source": [
    "### 安裝jupyter notebook 擴充套件"
   ]
  },
  {
   "cell_type": "markdown",
   "metadata": {},
   "source": [
    "1. 啟動anaconda prompt，在base中執行:\n",
    "        conda install -c conda-forge jupyter_contrib_nbextensions\n",
    "    [其他安裝方法與細節](https://jupyter-contrib-nbextensions.readthedocs.io/en/latest/install.html)\n",
    "2. 在 jupyter notebook 起始目錄中進入  \n",
    "        Nbextensions 標籤  \n",
    "    勾選所需要的套件  \n",
    "    1. [套件功能參考1](https://www.itread01.com/hklqell.html)\n",
    "    2. [套件功能參考2](https://zhuanlan.zhihu.com/p/33674838)\n",
    "    3. 常用套件\n",
    "        1. Code prettify\n",
    "        2. split cells notebook\n",
    "        3. Table of Contents (2)\n",
    "        4. Variable Inspector\n",
    "        5. ScrollDown\n",
    "        6. Scratchpad\n",
    "        7. codefloding\n",
    "    4. 可能會有用的\n",
    "        1. (some) LaTeX environments for Jupyter\n",
    "            可以插入公式\n",
    "        2. Exercise2\n",
    "            新cell type: Exercise\n",
    "        3. Highlight selected word"
   ]
  },
  {
   "cell_type": "markdown",
   "metadata": {},
   "source": [
    "### Jupyter notebook Themes"
   ]
  },
  {
   "cell_type": "markdown",
   "metadata": {},
   "source": [
    "+ 一種風格套件\n",
    "+ [官方網站](https://github.com/dunovank/jupyter-themes)\n",
    "+ For mac 13\"\n",
    "    + jt -t oceans16 -T -fs 14 -ofs 14 -nfs 16 -tfs 16 -dfs 11  -N -kl\n",
    "\n"
   ]
  },
  {
   "cell_type": "markdown",
   "metadata": {},
   "source": [
    "## 使用jupyter notebook"
   ]
  },
  {
   "cell_type": "markdown",
   "metadata": {},
   "source": [
    "### 新增notebook、資料夾"
   ]
  },
  {
   "cell_type": "markdown",
   "metadata": {},
   "source": [
    "1. 下拉new\n",
    "2. Notebook 選項中可選擇已安裝的anaconda環境"
   ]
  },
  {
   "cell_type": "markdown",
   "metadata": {},
   "source": [
    "### Cell\n"
   ]
  },
  {
   "cell_type": "markdown",
   "metadata": {},
   "source": [
    "每一個框框稱為1個  ***cell***\n",
    "1. cell type分為3種:\n",
    "    1. Code:  \n",
    "        執行 程式碼 與 Magic Function\n",
    "    2. Markdown:  \n",
    "        文字編輯、註解 使用的地方\n",
    "    3. Raw NBConvert:  \n",
    "        這是一個命令列工具，可將筆記本轉換為另一種格式，例如:HTML  (還沒用過)\n"
   ]
  },
  {
   "cell_type": "markdown",
   "metadata": {},
   "source": [
    "### 快捷鍵與輸入模式\n"
   ]
  },
  {
   "cell_type": "markdown",
   "metadata": {},
   "source": [
    "輸入模式分為兩種\n",
    "1. 命令模式\n",
    "    1. 命令模式為執行cell動作的模式，例如:run cell, 轉換cell type, 選擇cell\n",
    "    2. 常用快捷鍵\n",
    "        1. Ctrl-Enter  \n",
    "            運行Cell\n",
    "        2. Alt-Enter  \n",
    "            運行Cell，在其下插入新Cell\n",
    "        3. Shift-Enter  \n",
    "            運行Cell，選中下個Cell\n",
    "        4. Enter  \n",
    "            進入編輯模式\n",
    "        5. Y  \n",
    "            Cell轉入 Code type\n",
    "        6. M  \n",
    "            Cell轉入 Markdown type\n",
    "        7. X  \n",
    "            刪除cell\n",
    "        8. O  \n",
    "            隱藏該 cell 的 output\n",
    "        9. \n",
    "2. 編輯模式\n",
    "    1. 編輯模式為編輯 cell 內容的模式\n",
    "    2. 常用快捷鍵\n",
    "        1. Tab  \n",
    "            縮排\n",
    "        2. Shift-Tab  \n",
    "            回復縮排\n",
    "        3. Ctrl-Z  \n",
    "            還原\n",
    "            回復還原\n",
    "        5. Esc  \n",
    "            切換到命令模式\n",
    "        6. Ctrl-Home、Ctrl-End  \n",
    "            跳到 cell 的頭與尾\n",
    "        7. Ctrl-Left、Ctrl-Right  \n",
    "            跳到左邊、右邊1個字\n",
    "        8. Ctrl-L、Ctrl-Shift-L  \n",
    "            Code prettify 自動排整齊功能\n",
    "        9. Alt-F  \n",
    "            Toggle codefolding\n",
    "3. [Jupyter NoteBook 的快捷键使用指南](http://opus.konghy.cn/ipynb/jupyter-notebook-keyboard-shortcut.html)\n",
    "\n"
   ]
  },
  {
   "cell_type": "markdown",
   "metadata": {
    "run_control": {
     "marked": false
    }
   },
   "source": []
  },
  {
   "cell_type": "markdown",
   "metadata": {
    "run_control": {
     "marked": false
    }
   },
   "source": []
  },
  {
   "cell_type": "code",
   "execution_count": null,
   "metadata": {
    "run_control": {
     "marked": false
    }
   },
   "outputs": [],
   "source": []
  },
  {
   "cell_type": "code",
   "execution_count": null,
   "metadata": {
    "run_control": {
     "marked": false
    }
   },
   "outputs": [],
   "source": []
  },
  {
   "cell_type": "code",
   "execution_count": null,
   "metadata": {
    "run_control": {
     "marked": false
    }
   },
   "outputs": [],
   "source": []
  },
  {
   "cell_type": "code",
   "execution_count": null,
   "metadata": {
    "run_control": {
     "marked": false
    }
   },
   "outputs": [],
   "source": []
  },
  {
   "cell_type": "code",
   "execution_count": null,
   "metadata": {
    "run_control": {
     "marked": false
    }
   },
   "outputs": [],
   "source": []
  },
  {
   "cell_type": "code",
   "execution_count": null,
   "metadata": {
    "run_control": {
     "marked": false
    }
   },
   "outputs": [],
   "source": []
  },
  {
   "cell_type": "code",
   "execution_count": null,
   "metadata": {
    "run_control": {
     "marked": false
    }
   },
   "outputs": [],
   "source": []
  },
  {
   "cell_type": "code",
   "execution_count": null,
   "metadata": {
    "run_control": {
     "marked": false
    }
   },
   "outputs": [],
   "source": []
  },
  {
   "cell_type": "code",
   "execution_count": null,
   "metadata": {
    "run_control": {
     "marked": false
    }
   },
   "outputs": [],
   "source": []
  },
  {
   "cell_type": "code",
   "execution_count": null,
   "metadata": {
    "run_control": {
     "marked": false
    }
   },
   "outputs": [],
   "source": []
  },
  {
   "cell_type": "code",
   "execution_count": null,
   "metadata": {
    "run_control": {
     "marked": false
    }
   },
   "outputs": [],
   "source": []
  },
  {
   "cell_type": "code",
   "execution_count": null,
   "metadata": {
    "run_control": {
     "marked": false
    }
   },
   "outputs": [],
   "source": []
  },
  {
   "cell_type": "code",
   "execution_count": null,
   "metadata": {
    "run_control": {
     "marked": false
    }
   },
   "outputs": [],
   "source": []
  },
  {
   "cell_type": "code",
   "execution_count": null,
   "metadata": {
    "run_control": {
     "marked": false
    }
   },
   "outputs": [],
   "source": []
  },
  {
   "cell_type": "code",
   "execution_count": null,
   "metadata": {
    "run_control": {
     "marked": false
    }
   },
   "outputs": [],
   "source": []
  },
  {
   "cell_type": "code",
   "execution_count": null,
   "metadata": {
    "run_control": {
     "marked": false
    }
   },
   "outputs": [],
   "source": []
  },
  {
   "cell_type": "code",
   "execution_count": null,
   "metadata": {
    "run_control": {
     "marked": false
    }
   },
   "outputs": [],
   "source": []
  },
  {
   "cell_type": "code",
   "execution_count": null,
   "metadata": {
    "run_control": {
     "marked": false
    }
   },
   "outputs": [],
   "source": []
  },
  {
   "cell_type": "code",
   "execution_count": null,
   "metadata": {
    "run_control": {
     "marked": false
    }
   },
   "outputs": [],
   "source": []
  },
  {
   "cell_type": "code",
   "execution_count": null,
   "metadata": {
    "run_control": {
     "marked": false
    }
   },
   "outputs": [],
   "source": []
  }
 ],
 "metadata": {
  "kernelspec": {
   "display_name": "Python 3",
   "language": "python",
   "name": "python3"
  },
  "language_info": {
   "codemirror_mode": {
    "name": "ipython",
    "version": 3
   },
   "file_extension": ".py",
   "mimetype": "text/x-python",
   "name": "python",
   "nbconvert_exporter": "python",
   "pygments_lexer": "ipython3",
   "version": "3.7.3"
  },
  "latex_envs": {
   "LaTeX_envs_menu_present": true,
   "autoclose": false,
   "autocomplete": true,
   "bibliofile": "biblio.bib",
   "cite_by": "apalike",
   "current_citInitial": 1,
   "eqLabelWithNumbers": false,
   "eqNumInitial": 1,
   "hotkeys": {
    "equation": "Ctrl-E",
    "itemize": "Ctrl-I"
   },
   "labels_anchors": false,
   "latex_user_defs": false,
   "report_style_numbering": false,
   "user_envs_cfg": true
  },
  "toc": {
   "base_numbering": 1,
   "nav_menu": {},
   "number_sections": true,
   "sideBar": false,
   "skip_h1_title": true,
   "title_cell": "Table of Contents",
   "title_sidebar": "Contents",
   "toc_cell": true,
   "toc_position": {
    "height": "424px",
    "left": "1257px",
    "top": "91.6px",
    "width": "279px"
   },
   "toc_section_display": true,
   "toc_window_display": true
  },
  "varInspector": {
   "cols": {
    "lenName": 16,
    "lenType": 16,
    "lenVar": 40
   },
   "kernels_config": {
    "python": {
     "delete_cmd_postfix": "",
     "delete_cmd_prefix": "del ",
     "library": "var_list.py",
     "varRefreshCmd": "print(var_dic_list())"
    },
    "r": {
     "delete_cmd_postfix": ") ",
     "delete_cmd_prefix": "rm(",
     "library": "var_list.r",
     "varRefreshCmd": "cat(var_dic_list()) "
    }
   },
   "oldHeight": 122.4,
   "position": {
    "height": "144px",
    "left": "1117px",
    "right": "20px",
    "top": "340px",
    "width": "350px"
   },
   "types_to_exclude": [
    "module",
    "function",
    "builtin_function_or_method",
    "instance",
    "_Feature"
   ],
   "varInspector_section_display": "block",
   "window_display": false
  }
 },
 "nbformat": 4,
 "nbformat_minor": 2
}
